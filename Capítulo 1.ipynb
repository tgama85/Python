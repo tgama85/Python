{
 "cells": [
  {
   "cell_type": "markdown",
   "id": "8ad72dd4",
   "metadata": {},
   "source": [
    "# Aqui começa meu estudo Python e Jupyter\n",
    "### Livro --> Python: guia prático do básico ao avançado"
   ]
  },
  {
   "cell_type": "code",
   "execution_count": 3,
   "id": "45f1efbb",
   "metadata": {},
   "outputs": [
    {
     "name": "stdout",
     "output_type": "stream",
     "text": [
      "Olá mundo!\n"
     ]
    }
   ],
   "source": [
    "print(\"Olá mundo!\")"
   ]
  },
  {
   "cell_type": "code",
   "execution_count": 4,
   "id": "37a95590",
   "metadata": {},
   "outputs": [],
   "source": [
    "import this"
   ]
  },
  {
   "cell_type": "code",
   "execution_count": 5,
   "id": "d10e439b",
   "metadata": {},
   "outputs": [
    {
     "name": "stdout",
     "output_type": "stream",
     "text": [
      "Soma de a + b =  87\n"
     ]
    }
   ],
   "source": [
    "a = 77\n",
    "b = 10\n",
    "c = a + b\n",
    "print (\"Soma de a + b = \", c)"
   ]
  },
  {
   "cell_type": "markdown",
   "id": "6de27151",
   "metadata": {},
   "source": [
    "<h1 style=\"color: lightblue\">Capítulo 1</h1>\n",
    "<p style=\"color: gray\">Noções de instalação de bibliotecas, frameworks, IDE's, além de mostrar usos básicos do Jupyter Notebook (Jupyter = Julia + Python + R).</p>"
   ]
  },
  {
   "cell_type": "code",
   "execution_count": null,
   "id": "8381ef60",
   "metadata": {},
   "outputs": [],
   "source": [
    "#Para instalar o Jupyter Notebook\n",
    "#Caso use o pip, pip install jupyterlab\n",
    "#Mais informações em https://jupyter.org/install"
   ]
  },
  {
   "cell_type": "code",
   "execution_count": 7,
   "id": "dd98683c",
   "metadata": {},
   "outputs": [],
   "source": [
    "a = 10"
   ]
  },
  {
   "cell_type": "code",
   "execution_count": 8,
   "id": "6b93d2f9",
   "metadata": {},
   "outputs": [],
   "source": [
    "b = 20"
   ]
  },
  {
   "cell_type": "code",
   "execution_count": 9,
   "id": "c3e97439",
   "metadata": {},
   "outputs": [],
   "source": [
    "c = a + b"
   ]
  },
  {
   "cell_type": "code",
   "execution_count": 10,
   "id": "895d15cd",
   "metadata": {},
   "outputs": [
    {
     "name": "stdout",
     "output_type": "stream",
     "text": [
      "30\n"
     ]
    }
   ],
   "source": [
    "print(c)"
   ]
  }
 ],
 "metadata": {
  "kernelspec": {
   "display_name": "Python 3 (ipykernel)",
   "language": "python",
   "name": "python3"
  },
  "language_info": {
   "codemirror_mode": {
    "name": "ipython",
    "version": 3
   },
   "file_extension": ".py",
   "mimetype": "text/x-python",
   "name": "python",
   "nbconvert_exporter": "python",
   "pygments_lexer": "ipython3",
   "version": "3.9.1"
  }
 },
 "nbformat": 4,
 "nbformat_minor": 5
}
