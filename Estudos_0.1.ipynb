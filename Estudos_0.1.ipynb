{
 "cells": [
  {
   "cell_type": "markdown",
   "id": "8ad72dd4",
   "metadata": {},
   "source": [
    "# Aqui começa meu estudo Python e Jupyter\n",
    "### Livro --> Python: guia prático do básico ao avançado"
   ]
  },
  {
   "cell_type": "code",
   "execution_count": 3,
   "id": "45f1efbb",
   "metadata": {},
   "outputs": [
    {
     "name": "stdout",
     "output_type": "stream",
     "text": [
      "Olá mundo!\n"
     ]
    }
   ],
   "source": [
    "print(\"Olá mundo!\")"
   ]
  },
  {
   "cell_type": "code",
   "execution_count": 4,
   "id": "37a95590",
   "metadata": {},
   "outputs": [],
   "source": [
    "import this"
   ]
  },
  {
   "cell_type": "code",
   "execution_count": 5,
   "id": "d10e439b",
   "metadata": {},
   "outputs": [
    {
     "name": "stdout",
     "output_type": "stream",
     "text": [
      "Soma de a + b =  87\n"
     ]
    }
   ],
   "source": [
    "a = 77\n",
    "b = 10\n",
    "c = a + b\n",
    "print (\"Soma de a + b = \", c)"
   ]
  },
  {
   "cell_type": "markdown",
   "id": "6de27151",
   "metadata": {},
   "source": [
    "<h1 style=\"color: lightblue\">Capítulo 1</h1>\n",
    "<p style=\"color: gray\">Noções de instalação de bibliotecas, frameworks, IDE's, além de mostrar usos básicos do Jupyter Notebook (Jupyter = Julia + Python + R).</p>"
   ]
  },
  {
   "cell_type": "code",
   "execution_count": 7,
   "id": "dd98683c",
   "metadata": {},
   "outputs": [],
   "source": [
    "a = 10"
   ]
  },
  {
   "cell_type": "code",
   "execution_count": 8,
   "id": "6b93d2f9",
   "metadata": {},
   "outputs": [],
   "source": [
    "b = 20"
   ]
  },
  {
   "cell_type": "code",
   "execution_count": 9,
   "id": "c3e97439",
   "metadata": {},
   "outputs": [],
   "source": [
    "c = a + b"
   ]
  },
  {
   "cell_type": "code",
   "execution_count": 10,
   "id": "895d15cd",
   "metadata": {},
   "outputs": [
    {
     "name": "stdout",
     "output_type": "stream",
     "text": [
      "30\n"
     ]
    }
   ],
   "source": [
    "print(c)"
   ]
  },
  {
   "cell_type": "markdown",
   "id": "58c4f3b0",
   "metadata": {},
   "source": [
    "<h1 style=\"color: lightblue\">Capítulo 2</h1>\n",
    "<p style=\"color: gray\"><b> Variáveis, tipos, estruturas e operações<b></p>\n",
    "<p style=\"color: gray\"> Plano de construção de algoritimos: <br>\n",
    "    - Definir o problema <br>\n",
    "    - Separar em partes <br>\n",
    "    - Ordenar atividades <br>\n",
    "    - Traduzir para códigos <br>\n",
    "    - Obter solução do problema</p>"
   ]
  },
  {
   "cell_type": "markdown",
   "id": "baedf218",
   "metadata": {},
   "source": [
    "### Operações"
   ]
  },
  {
   "cell_type": "code",
   "execution_count": 11,
   "id": "b7d5f620",
   "metadata": {},
   "outputs": [
    {
     "data": {
      "text/plain": [
       "4"
      ]
     },
     "execution_count": 11,
     "metadata": {},
     "output_type": "execute_result"
    }
   ],
   "source": [
    "#Soma\n",
    "2 + 2"
   ]
  },
  {
   "cell_type": "code",
   "execution_count": 12,
   "id": "2a8b4a2a",
   "metadata": {},
   "outputs": [
    {
     "data": {
      "text/plain": [
       "1"
      ]
     },
     "execution_count": 12,
     "metadata": {},
     "output_type": "execute_result"
    }
   ],
   "source": [
    "#Subtração\n",
    "2 - 1"
   ]
  },
  {
   "cell_type": "code",
   "execution_count": 13,
   "id": "023549ee",
   "metadata": {},
   "outputs": [
    {
     "data": {
      "text/plain": [
       "49"
      ]
     },
     "execution_count": 13,
     "metadata": {},
     "output_type": "execute_result"
    }
   ],
   "source": [
    "#Multiplicação\n",
    "7 * 7"
   ]
  },
  {
   "cell_type": "code",
   "execution_count": 14,
   "id": "bfed7eeb",
   "metadata": {},
   "outputs": [
    {
     "data": {
      "text/plain": [
       "3.5"
      ]
     },
     "execution_count": 14,
     "metadata": {},
     "output_type": "execute_result"
    }
   ],
   "source": [
    "#Divisão\n",
    "7/2"
   ]
  },
  {
   "cell_type": "code",
   "execution_count": 15,
   "id": "9d7bd24a",
   "metadata": {},
   "outputs": [
    {
     "data": {
      "text/plain": [
       "1"
      ]
     },
     "execution_count": 15,
     "metadata": {},
     "output_type": "execute_result"
    }
   ],
   "source": [
    "#Mõdulo ou resto da divisão\n",
    "9%2"
   ]
  },
  {
   "cell_type": "code",
   "execution_count": 19,
   "id": "70276e11",
   "metadata": {},
   "outputs": [
    {
     "data": {
      "text/plain": [
       "3.0"
      ]
     },
     "execution_count": 19,
     "metadata": {},
     "output_type": "execute_result"
    }
   ],
   "source": [
    "#Divisão com um / retorma um float\n",
    "6/2"
   ]
  },
  {
   "cell_type": "code",
   "execution_count": 20,
   "id": "8e703400",
   "metadata": {},
   "outputs": [
    {
     "data": {
      "text/plain": [
       "3"
      ]
     },
     "execution_count": 20,
     "metadata": {},
     "output_type": "execute_result"
    }
   ],
   "source": [
    "#Divisão com duas // retorna um int\n",
    "6//2"
   ]
  },
  {
   "cell_type": "markdown",
   "id": "08300c17",
   "metadata": {},
   "source": [
    "### Função type"
   ]
  },
  {
   "cell_type": "code",
   "execution_count": 16,
   "id": "bd3601fa",
   "metadata": {},
   "outputs": [
    {
     "data": {
      "text/plain": [
       "int"
      ]
     },
     "execution_count": 16,
     "metadata": {},
     "output_type": "execute_result"
    }
   ],
   "source": [
    "type(77)"
   ]
  },
  {
   "cell_type": "code",
   "execution_count": 17,
   "id": "e67a54fc",
   "metadata": {},
   "outputs": [
    {
     "data": {
      "text/plain": [
       "float"
      ]
     },
     "execution_count": 17,
     "metadata": {},
     "output_type": "execute_result"
    }
   ],
   "source": [
    "type(1.618)"
   ]
  },
  {
   "cell_type": "code",
   "execution_count": 18,
   "id": "5e8ae0ea",
   "metadata": {},
   "outputs": [
    {
     "data": {
      "text/plain": [
       "str"
      ]
     },
     "execution_count": 18,
     "metadata": {},
     "output_type": "execute_result"
    }
   ],
   "source": [
    "type(\"Aqui temos um texto\")"
   ]
  },
  {
   "cell_type": "markdown",
   "id": "e13bca16",
   "metadata": {},
   "source": [
    "### Conversão de números"
   ]
  },
  {
   "cell_type": "code",
   "execution_count": 21,
   "id": "64e59cee",
   "metadata": {},
   "outputs": [
    {
     "data": {
      "text/plain": [
       "3.0"
      ]
     },
     "execution_count": 21,
     "metadata": {},
     "output_type": "execute_result"
    }
   ],
   "source": [
    "float(3)"
   ]
  },
  {
   "cell_type": "code",
   "execution_count": 22,
   "id": "2aa54584",
   "metadata": {},
   "outputs": [
    {
     "data": {
      "text/plain": [
       "1"
      ]
     },
     "execution_count": 22,
     "metadata": {},
     "output_type": "execute_result"
    }
   ],
   "source": [
    "int(1.0)"
   ]
  },
  {
   "cell_type": "code",
   "execution_count": 23,
   "id": "2891ed33",
   "metadata": {},
   "outputs": [
    {
     "data": {
      "text/plain": [
       "1"
      ]
     },
     "execution_count": 23,
     "metadata": {},
     "output_type": "execute_result"
    }
   ],
   "source": [
    "int(1.618) #coletando apenas a parte inteira"
   ]
  },
  {
   "cell_type": "markdown",
   "id": "c4bb04b3",
   "metadata": {},
   "source": [
    "### Transformações: hexadecimal e binário"
   ]
  },
  {
   "cell_type": "code",
   "execution_count": 24,
   "id": "896d68f4",
   "metadata": {},
   "outputs": [
    {
     "data": {
      "text/plain": [
       "'0x4d'"
      ]
     },
     "execution_count": 24,
     "metadata": {},
     "output_type": "execute_result"
    }
   ],
   "source": [
    "hex(77) # para representar o inteiro 77 em hexadecimal"
   ]
  },
  {
   "cell_type": "code",
   "execution_count": 25,
   "id": "808ff596",
   "metadata": {},
   "outputs": [
    {
     "data": {
      "text/plain": [
       "'0xe7'"
      ]
     },
     "execution_count": 25,
     "metadata": {},
     "output_type": "execute_result"
    }
   ],
   "source": [
    "hex(231)"
   ]
  },
  {
   "cell_type": "code",
   "execution_count": 26,
   "id": "6ff48011",
   "metadata": {},
   "outputs": [
    {
     "data": {
      "text/plain": [
       "'0b1001101'"
      ]
     },
     "execution_count": 26,
     "metadata": {},
     "output_type": "execute_result"
    }
   ],
   "source": [
    "bin(77)"
   ]
  },
  {
   "cell_type": "code",
   "execution_count": 27,
   "id": "6cff15f2",
   "metadata": {},
   "outputs": [
    {
     "data": {
      "text/plain": [
       "'0b11100111'"
      ]
     },
     "execution_count": 27,
     "metadata": {},
     "output_type": "execute_result"
    }
   ],
   "source": [
    "bin(231) # para representar o inteiro 231 em binário"
   ]
  },
  {
   "cell_type": "markdown",
   "id": "675e2e26",
   "metadata": {},
   "source": [
    "### Funções para computação científica"
   ]
  },
  {
   "cell_type": "code",
   "execution_count": 29,
   "id": "9e473842",
   "metadata": {},
   "outputs": [
    {
     "data": {
      "text/plain": [
       "8"
      ]
     },
     "execution_count": 29,
     "metadata": {},
     "output_type": "execute_result"
    }
   ],
   "source": [
    "# Retorna o valor absoluto (positivo)\n",
    "abs(-8)"
   ]
  },
  {
   "cell_type": "code",
   "execution_count": 30,
   "id": "f81b131f",
   "metadata": {},
   "outputs": [
    {
     "data": {
      "text/plain": [
       "8"
      ]
     },
     "execution_count": 30,
     "metadata": {},
     "output_type": "execute_result"
    }
   ],
   "source": [
    "# Retorna o valor absoluto\n",
    "abs(8)"
   ]
  },
  {
   "cell_type": "code",
   "execution_count": 31,
   "id": "69ce723c",
   "metadata": {},
   "outputs": [
    {
     "data": {
      "text/plain": [
       "256"
      ]
     },
     "execution_count": 31,
     "metadata": {},
     "output_type": "execute_result"
    }
   ],
   "source": [
    "# Retorna a potência qualquer de um número \n",
    "pow(2,8) # potência de 2 ^ 8 (dois elevado a 8)"
   ]
  },
  {
   "cell_type": "code",
   "execution_count": 32,
   "id": "8359333a",
   "metadata": {},
   "outputs": [
    {
     "data": {
      "text/plain": [
       "7888609052210118054117285652827862296732064351090230047702789306640625"
      ]
     },
     "execution_count": 32,
     "metadata": {},
     "output_type": "execute_result"
    }
   ],
   "source": [
    "# Retorna a potência\n",
    "pow(5,100) #potência de 5 ^ 100"
   ]
  },
  {
   "cell_type": "code",
   "execution_count": 33,
   "id": "b4b1ea22",
   "metadata": {},
   "outputs": [
    {
     "data": {
      "text/plain": [
       "3"
      ]
     },
     "execution_count": 33,
     "metadata": {},
     "output_type": "execute_result"
    }
   ],
   "source": [
    "# faz arredondamento de números\n",
    "round(3.1415)"
   ]
  },
  {
   "cell_type": "code",
   "execution_count": 34,
   "id": "2589e694",
   "metadata": {},
   "outputs": [
    {
     "data": {
      "text/plain": [
       "2"
      ]
     },
     "execution_count": 34,
     "metadata": {},
     "output_type": "execute_result"
    }
   ],
   "source": [
    "round(1.618)"
   ]
  },
  {
   "cell_type": "code",
   "execution_count": 35,
   "id": "95e376b6",
   "metadata": {},
   "outputs": [
    {
     "data": {
      "text/plain": [
       "1.62"
      ]
     },
     "execution_count": 35,
     "metadata": {},
     "output_type": "execute_result"
    }
   ],
   "source": [
    "# Arredondar com duas casas decimais\n",
    "round(1.616,2)"
   ]
  },
  {
   "cell_type": "markdown",
   "id": "50ddd440",
   "metadata": {},
   "source": [
    "### Diferença entre valor e variável"
   ]
  },
  {
   "cell_type": "code",
   "execution_count": 36,
   "id": "8d24db99",
   "metadata": {},
   "outputs": [],
   "source": [
    "a = 77 # variável 'a' com valor atribuído 77"
   ]
  },
  {
   "cell_type": "code",
   "execution_count": 37,
   "id": "0b2ce170",
   "metadata": {},
   "outputs": [
    {
     "name": "stdout",
     "output_type": "stream",
     "text": [
      "77\n"
     ]
    }
   ],
   "source": [
    "print(77) # imprime o valor 77"
   ]
  },
  {
   "cell_type": "code",
   "execution_count": 38,
   "id": "47ebd50c",
   "metadata": {},
   "outputs": [
    {
     "name": "stdout",
     "output_type": "stream",
     "text": [
      "77\n"
     ]
    }
   ],
   "source": [
    "print(a) # imprime o valor da variável 'a'"
   ]
  },
  {
   "cell_type": "markdown",
   "id": "d6ac9181",
   "metadata": {},
   "source": [
    "### Declarando variáveis"
   ]
  },
  {
   "cell_type": "code",
   "execution_count": 39,
   "id": "4e659de2",
   "metadata": {},
   "outputs": [],
   "source": [
    "# Atribuindo o valor 7 à vriável var_a\n",
    "var_a = 7"
   ]
  },
  {
   "cell_type": "code",
   "execution_count": 40,
   "id": "72b9ee24",
   "metadata": {},
   "outputs": [
    {
     "data": {
      "text/plain": [
       "7"
      ]
     },
     "execution_count": 40,
     "metadata": {},
     "output_type": "execute_result"
    }
   ],
   "source": [
    "# Imprimindo o valor da variável\n",
    "var_a"
   ]
  },
  {
   "cell_type": "code",
   "execution_count": 42,
   "id": "b28e6fed",
   "metadata": {},
   "outputs": [
    {
     "name": "stdout",
     "output_type": "stream",
     "text": [
      "7\n"
     ]
    }
   ],
   "source": [
    "# Imprimindo o valor da variável\n",
    "print(var_a)"
   ]
  },
  {
   "cell_type": "code",
   "execution_count": 43,
   "id": "8ac06160",
   "metadata": {},
   "outputs": [],
   "source": [
    "var_c = 20"
   ]
  },
  {
   "cell_type": "code",
   "execution_count": 44,
   "id": "8fa5e79a",
   "metadata": {},
   "outputs": [
    {
     "data": {
      "text/plain": [
       "int"
      ]
     },
     "execution_count": 44,
     "metadata": {},
     "output_type": "execute_result"
    }
   ],
   "source": [
    "type(var_c)"
   ]
  },
  {
   "cell_type": "code",
   "execution_count": 47,
   "id": "0982f982",
   "metadata": {},
   "outputs": [],
   "source": [
    "#variável do tipo float aloca um espaço de 4 bytes\n",
    "#variável do tipo double aloca 8 bytes"
   ]
  },
  {
   "cell_type": "code",
   "execution_count": 48,
   "id": "d86d447a",
   "metadata": {},
   "outputs": [],
   "source": [
    "var_d = 3.14"
   ]
  },
  {
   "cell_type": "code",
   "execution_count": 49,
   "id": "be6d414e",
   "metadata": {},
   "outputs": [
    {
     "data": {
      "text/plain": [
       "float"
      ]
     },
     "execution_count": 49,
     "metadata": {},
     "output_type": "execute_result"
    }
   ],
   "source": [
    "type(var_d)"
   ]
  },
  {
   "cell_type": "code",
   "execution_count": 50,
   "id": "5fd00213",
   "metadata": {},
   "outputs": [],
   "source": [
    "var_e = 11."
   ]
  },
  {
   "cell_type": "code",
   "execution_count": 51,
   "id": "2036ed43",
   "metadata": {},
   "outputs": [
    {
     "data": {
      "text/plain": [
       "float"
      ]
     },
     "execution_count": 51,
     "metadata": {},
     "output_type": "execute_result"
    }
   ],
   "source": [
    "type(var_e)"
   ]
  },
  {
   "cell_type": "markdown",
   "id": "56acfafd",
   "metadata": {},
   "source": [
    "### Variável do tipo string"
   ]
  },
  {
   "cell_type": "code",
   "execution_count": 52,
   "id": "616c9050",
   "metadata": {},
   "outputs": [],
   "source": [
    "str_var_1 = 'A'"
   ]
  },
  {
   "cell_type": "code",
   "execution_count": 53,
   "id": "f6d10bee",
   "metadata": {},
   "outputs": [
    {
     "data": {
      "text/plain": [
       "str"
      ]
     },
     "execution_count": 53,
     "metadata": {},
     "output_type": "execute_result"
    }
   ],
   "source": [
    "type(str_var_1)"
   ]
  },
  {
   "cell_type": "code",
   "execution_count": 54,
   "id": "95726811",
   "metadata": {},
   "outputs": [],
   "source": [
    "str_var_2 = 'Python'"
   ]
  },
  {
   "cell_type": "code",
   "execution_count": 55,
   "id": "58e7eed1",
   "metadata": {},
   "outputs": [
    {
     "data": {
      "text/plain": [
       "str"
      ]
     },
     "execution_count": 55,
     "metadata": {},
     "output_type": "execute_result"
    }
   ],
   "source": [
    "type(str_var_2)"
   ]
  },
  {
   "cell_type": "code",
   "execution_count": 56,
   "id": "953aef0b",
   "metadata": {},
   "outputs": [],
   "source": [
    "str_var_3 = \"Python uma excelente linguagem!\""
   ]
  },
  {
   "cell_type": "code",
   "execution_count": 57,
   "id": "5f778cd4",
   "metadata": {},
   "outputs": [
    {
     "data": {
      "text/plain": [
       "str"
      ]
     },
     "execution_count": 57,
     "metadata": {},
     "output_type": "execute_result"
    }
   ],
   "source": [
    "type(str_var_3)"
   ]
  },
  {
   "cell_type": "markdown",
   "id": "c1d4cd35",
   "metadata": {},
   "source": [
    "### Concatenando strings"
   ]
  },
  {
   "cell_type": "code",
   "execution_count": 58,
   "id": "b44cba26",
   "metadata": {},
   "outputs": [],
   "source": [
    "nome1 = \"Maria\""
   ]
  },
  {
   "cell_type": "code",
   "execution_count": 62,
   "id": "cb3a0245",
   "metadata": {},
   "outputs": [],
   "source": [
    "nome2 = \" Renata\""
   ]
  },
  {
   "cell_type": "code",
   "execution_count": 63,
   "id": "5265c54e",
   "metadata": {},
   "outputs": [],
   "source": [
    "total = nome1+nome2"
   ]
  },
  {
   "cell_type": "code",
   "execution_count": 64,
   "id": "e8566ab5",
   "metadata": {},
   "outputs": [
    {
     "data": {
      "text/plain": [
       "'Maria Renata'"
      ]
     },
     "execution_count": 64,
     "metadata": {},
     "output_type": "execute_result"
    }
   ],
   "source": [
    "total"
   ]
  },
  {
   "cell_type": "markdown",
   "id": "9d57c75e",
   "metadata": {},
   "source": [
    "### Variável booleana"
   ]
  },
  {
   "cell_type": "code",
   "execution_count": 65,
   "id": "7b9e7ada",
   "metadata": {},
   "outputs": [],
   "source": [
    "a = True #Obs: True deve iniciar com letra maiúscula"
   ]
  },
  {
   "cell_type": "code",
   "execution_count": 66,
   "id": "3cb9b195",
   "metadata": {},
   "outputs": [
    {
     "data": {
      "text/plain": [
       "bool"
      ]
     },
     "execution_count": 66,
     "metadata": {},
     "output_type": "execute_result"
    }
   ],
   "source": [
    "type(a)"
   ]
  },
  {
   "cell_type": "code",
   "execution_count": 67,
   "id": "495a45d8",
   "metadata": {},
   "outputs": [],
   "source": [
    "b = False # Obs: False deve iniciar com letra minúscula"
   ]
  },
  {
   "cell_type": "code",
   "execution_count": 68,
   "id": "9e7dcf01",
   "metadata": {},
   "outputs": [
    {
     "data": {
      "text/plain": [
       "bool"
      ]
     },
     "execution_count": 68,
     "metadata": {},
     "output_type": "execute_result"
    }
   ],
   "source": [
    "type(b)"
   ]
  },
  {
   "cell_type": "markdown",
   "id": "2b0a1843",
   "metadata": {},
   "source": [
    "### Declaração múltipla"
   ]
  },
  {
   "cell_type": "code",
   "execution_count": 69,
   "id": "fa3a6731",
   "metadata": {},
   "outputs": [],
   "source": [
    "disciplina1, disciplina2, disciplina3 = \"Química\", \"Estatística\", \"Matemática\""
   ]
  },
  {
   "cell_type": "code",
   "execution_count": 70,
   "id": "6a35106b",
   "metadata": {},
   "outputs": [
    {
     "data": {
      "text/plain": [
       "'Química'"
      ]
     },
     "execution_count": 70,
     "metadata": {},
     "output_type": "execute_result"
    }
   ],
   "source": [
    "disciplina1"
   ]
  },
  {
   "cell_type": "code",
   "execution_count": 71,
   "id": "72d72fb5",
   "metadata": {},
   "outputs": [
    {
     "data": {
      "text/plain": [
       "'Estatística'"
      ]
     },
     "execution_count": 71,
     "metadata": {},
     "output_type": "execute_result"
    }
   ],
   "source": [
    "disciplina2"
   ]
  },
  {
   "cell_type": "code",
   "execution_count": 72,
   "id": "a7ebc823",
   "metadata": {},
   "outputs": [
    {
     "data": {
      "text/plain": [
       "'Matemática'"
      ]
     },
     "execution_count": 72,
     "metadata": {},
     "output_type": "execute_result"
    }
   ],
   "source": [
    "disciplina3"
   ]
  },
  {
   "cell_type": "code",
   "execution_count": 73,
   "id": "18b86437",
   "metadata": {},
   "outputs": [],
   "source": [
    "assunto1 = assunto2 = assunto3 = \"Teoria da relatividade\""
   ]
  },
  {
   "cell_type": "code",
   "execution_count": 74,
   "id": "2293a8a2",
   "metadata": {},
   "outputs": [
    {
     "data": {
      "text/plain": [
       "'Teoria da relatividade'"
      ]
     },
     "execution_count": 74,
     "metadata": {},
     "output_type": "execute_result"
    }
   ],
   "source": [
    "assunto1"
   ]
  },
  {
   "cell_type": "code",
   "execution_count": 75,
   "id": "e6d46a61",
   "metadata": {},
   "outputs": [
    {
     "data": {
      "text/plain": [
       "'Teoria da relatividade'"
      ]
     },
     "execution_count": 75,
     "metadata": {},
     "output_type": "execute_result"
    }
   ],
   "source": [
    "assunto2"
   ]
  },
  {
   "cell_type": "code",
   "execution_count": 76,
   "id": "33d778a0",
   "metadata": {},
   "outputs": [
    {
     "data": {
      "text/plain": [
       "'Teoria da relatividade'"
      ]
     },
     "execution_count": 76,
     "metadata": {},
     "output_type": "execute_result"
    }
   ],
   "source": [
    "assunto3"
   ]
  },
  {
   "cell_type": "code",
   "execution_count": 77,
   "id": "05e89873",
   "metadata": {},
   "outputs": [],
   "source": [
    "idade, nome, vivo = 30, \"Renata\", True"
   ]
  },
  {
   "cell_type": "code",
   "execution_count": 78,
   "id": "982c9593",
   "metadata": {},
   "outputs": [
    {
     "data": {
      "text/plain": [
       "30"
      ]
     },
     "execution_count": 78,
     "metadata": {},
     "output_type": "execute_result"
    }
   ],
   "source": [
    "idade"
   ]
  },
  {
   "cell_type": "code",
   "execution_count": 79,
   "id": "95431135",
   "metadata": {},
   "outputs": [
    {
     "data": {
      "text/plain": [
       "'Renata'"
      ]
     },
     "execution_count": 79,
     "metadata": {},
     "output_type": "execute_result"
    }
   ],
   "source": [
    "nome"
   ]
  },
  {
   "cell_type": "code",
   "execution_count": 80,
   "id": "2ebdc5fb",
   "metadata": {},
   "outputs": [
    {
     "data": {
      "text/plain": [
       "True"
      ]
     },
     "execution_count": 80,
     "metadata": {},
     "output_type": "execute_result"
    }
   ],
   "source": [
    "vivo"
   ]
  },
  {
   "cell_type": "markdown",
   "id": "1c99b500",
   "metadata": {},
   "source": [
    "### Erros comuns"
   ]
  },
  {
   "cell_type": "code",
   "execution_count": 82,
   "id": "c07515c3",
   "metadata": {},
   "outputs": [
    {
     "ename": "SyntaxError",
     "evalue": "invalid syntax (4243905531.py, line 1)",
     "output_type": "error",
     "traceback": [
      "\u001b[0;36m  File \u001b[0;32m\"/tmp/ipykernel_11195/4243905531.py\"\u001b[0;36m, line \u001b[0;32m1\u001b[0m\n\u001b[0;31m    7x = 50 #Mensagem de erro, pois o python não permite nomes de variáveis que iniciem com números\u001b[0m\n\u001b[0m     ^\u001b[0m\n\u001b[0;31mSyntaxError\u001b[0m\u001b[0;31m:\u001b[0m invalid syntax\n"
     ]
    }
   ],
   "source": [
    "7x = 50 #Mensagem de erro, pois o python não permite nomes de variáveis que iniciem com números"
   ]
  },
  {
   "cell_type": "code",
   "execution_count": 83,
   "id": "add6d5f3",
   "metadata": {},
   "outputs": [
    {
     "ename": "SyntaxError",
     "evalue": "invalid syntax (1795098644.py, line 1)",
     "output_type": "error",
     "traceback": [
      "\u001b[0;36m  File \u001b[0;32m\"/tmp/ipykernel_11195/1795098644.py\"\u001b[0;36m, line \u001b[0;32m1\u001b[0m\n\u001b[0;31m    class = 3 # class é uma palavra reservada em python\u001b[0m\n\u001b[0m          ^\u001b[0m\n\u001b[0;31mSyntaxError\u001b[0m\u001b[0;31m:\u001b[0m invalid syntax\n"
     ]
    }
   ],
   "source": [
    "class = 3 # class é uma palavra reservada em python"
   ]
  },
  {
   "cell_type": "markdown",
   "id": "7fd3356b",
   "metadata": {},
   "source": [
    "### Operações com variáveis"
   ]
  },
  {
   "cell_type": "code",
   "execution_count": 84,
   "id": "26fa4687",
   "metadata": {},
   "outputs": [],
   "source": [
    "var1 = 10"
   ]
  },
  {
   "cell_type": "code",
   "execution_count": 87,
   "id": "92e4ace7",
   "metadata": {},
   "outputs": [],
   "source": [
    "var2 = 3"
   ]
  },
  {
   "cell_type": "code",
   "execution_count": 88,
   "id": "82cec771",
   "metadata": {},
   "outputs": [
    {
     "data": {
      "text/plain": [
       "13"
      ]
     },
     "execution_count": 88,
     "metadata": {},
     "output_type": "execute_result"
    }
   ],
   "source": [
    "var1+var2"
   ]
  },
  {
   "cell_type": "code",
   "execution_count": 89,
   "id": "2fc821f1",
   "metadata": {},
   "outputs": [
    {
     "data": {
      "text/plain": [
       "-7"
      ]
     },
     "execution_count": 89,
     "metadata": {},
     "output_type": "execute_result"
    }
   ],
   "source": [
    "var2-var1"
   ]
  },
  {
   "cell_type": "code",
   "execution_count": 90,
   "id": "fc7b65c2",
   "metadata": {},
   "outputs": [
    {
     "data": {
      "text/plain": [
       "30"
      ]
     },
     "execution_count": 90,
     "metadata": {},
     "output_type": "execute_result"
    }
   ],
   "source": [
    "var1*var2"
   ]
  },
  {
   "cell_type": "code",
   "execution_count": 91,
   "id": "13a4a6df",
   "metadata": {},
   "outputs": [
    {
     "data": {
      "text/plain": [
       "0.3"
      ]
     },
     "execution_count": 91,
     "metadata": {},
     "output_type": "execute_result"
    }
   ],
   "source": [
    "var2/var1"
   ]
  },
  {
   "cell_type": "code",
   "execution_count": 92,
   "id": "32fe7b84",
   "metadata": {},
   "outputs": [
    {
     "data": {
      "text/plain": [
       "3"
      ]
     },
     "execution_count": 92,
     "metadata": {},
     "output_type": "execute_result"
    }
   ],
   "source": [
    "var2%var1 #resto da divisão var2/var1"
   ]
  },
  {
   "cell_type": "code",
   "execution_count": 94,
   "id": "d6bf61e5",
   "metadata": {},
   "outputs": [],
   "source": [
    "#Obs: a indexação em Python começa por ZERO\n",
    "#Em python usamos o [] para representar o índice de um objeto"
   ]
  },
  {
   "cell_type": "code",
   "execution_count": 95,
   "id": "9742920f",
   "metadata": {},
   "outputs": [],
   "source": [
    "varstr = 'Estudo'"
   ]
  },
  {
   "cell_type": "code",
   "execution_count": 96,
   "id": "f62aede7",
   "metadata": {},
   "outputs": [
    {
     "data": {
      "text/plain": [
       "'E'"
      ]
     },
     "execution_count": 96,
     "metadata": {},
     "output_type": "execute_result"
    }
   ],
   "source": [
    "varstr[0]"
   ]
  },
  {
   "cell_type": "code",
   "execution_count": 97,
   "id": "fe0794d8",
   "metadata": {},
   "outputs": [
    {
     "data": {
      "text/plain": [
       "'s'"
      ]
     },
     "execution_count": 97,
     "metadata": {},
     "output_type": "execute_result"
    }
   ],
   "source": [
    "varstr[1]"
   ]
  },
  {
   "cell_type": "code",
   "execution_count": 98,
   "id": "eb25b3d8",
   "metadata": {},
   "outputs": [
    {
     "data": {
      "text/plain": [
       "'t'"
      ]
     },
     "execution_count": 98,
     "metadata": {},
     "output_type": "execute_result"
    }
   ],
   "source": [
    "varstr[2]"
   ]
  },
  {
   "cell_type": "code",
   "execution_count": 99,
   "id": "c2af248d",
   "metadata": {},
   "outputs": [
    {
     "data": {
      "text/plain": [
       "'u'"
      ]
     },
     "execution_count": 99,
     "metadata": {},
     "output_type": "execute_result"
    }
   ],
   "source": [
    "varstr[3]"
   ]
  },
  {
   "cell_type": "code",
   "execution_count": 100,
   "id": "56ae8eed",
   "metadata": {},
   "outputs": [
    {
     "data": {
      "text/plain": [
       "'d'"
      ]
     },
     "execution_count": 100,
     "metadata": {},
     "output_type": "execute_result"
    }
   ],
   "source": [
    "varstr[4]"
   ]
  },
  {
   "cell_type": "code",
   "execution_count": 101,
   "id": "8b42d736",
   "metadata": {},
   "outputs": [
    {
     "data": {
      "text/plain": [
       "'o'"
      ]
     },
     "execution_count": 101,
     "metadata": {},
     "output_type": "execute_result"
    }
   ],
   "source": [
    "varstr[5]"
   ]
  },
  {
   "cell_type": "code",
   "execution_count": 102,
   "id": "191ed627",
   "metadata": {},
   "outputs": [
    {
     "data": {
      "text/plain": [
       "2"
      ]
     },
     "execution_count": 102,
     "metadata": {},
     "output_type": "execute_result"
    }
   ],
   "source": [
    "#podemos buscar o indíce que contém determinado caracter(es)\n",
    "varstr.find('t')"
   ]
  },
  {
   "cell_type": "code",
   "execution_count": 103,
   "id": "88aea7de",
   "metadata": {},
   "outputs": [
    {
     "data": {
      "text/plain": [
       "3"
      ]
     },
     "execution_count": 103,
     "metadata": {},
     "output_type": "execute_result"
    }
   ],
   "source": [
    "varstr.find('ud')"
   ]
  },
  {
   "cell_type": "code",
   "execution_count": 104,
   "id": "f368fd37",
   "metadata": {},
   "outputs": [],
   "source": [
    "frase = 'Python é uma linguagem muito poderosa'"
   ]
  },
  {
   "cell_type": "code",
   "execution_count": 105,
   "id": "66d20045",
   "metadata": {},
   "outputs": [
    {
     "data": {
      "text/plain": [
       "'thon é uma linguagem muito poderosa'"
      ]
     },
     "execution_count": 105,
     "metadata": {},
     "output_type": "execute_result"
    }
   ],
   "source": [
    "frase[2:]"
   ]
  },
  {
   "cell_type": "code",
   "execution_count": 106,
   "id": "548c7617",
   "metadata": {},
   "outputs": [
    {
     "data": {
      "text/plain": [
       "'Python é uma'"
      ]
     },
     "execution_count": 106,
     "metadata": {},
     "output_type": "execute_result"
    }
   ],
   "source": [
    "frase[:12]"
   ]
  },
  {
   "cell_type": "code",
   "execution_count": 107,
   "id": "3364b41a",
   "metadata": {},
   "outputs": [
    {
     "data": {
      "text/plain": [
       "'a'"
      ]
     },
     "execution_count": 107,
     "metadata": {},
     "output_type": "execute_result"
    }
   ],
   "source": [
    "frase[-1]"
   ]
  },
  {
   "cell_type": "code",
   "execution_count": 115,
   "id": "c6fb5fe3",
   "metadata": {},
   "outputs": [
    {
     "data": {
      "text/plain": [
       "' poder'"
      ]
     },
     "execution_count": 115,
     "metadata": {},
     "output_type": "execute_result"
    }
   ],
   "source": [
    "frase[-9:-3]"
   ]
  },
  {
   "cell_type": "code",
   "execution_count": 116,
   "id": "f1f17ae0",
   "metadata": {},
   "outputs": [
    {
     "data": {
      "text/plain": [
       "'Python é uma linguagem muito poderosa'"
      ]
     },
     "execution_count": 116,
     "metadata": {},
     "output_type": "execute_result"
    }
   ],
   "source": [
    "frase[::1] #retorna a string pulando 1 caracter"
   ]
  },
  {
   "cell_type": "code",
   "execution_count": 117,
   "id": "059354c7",
   "metadata": {},
   "outputs": [
    {
     "data": {
      "text/plain": [
       "'Pto  m igae ut oeoa'"
      ]
     },
     "execution_count": 117,
     "metadata": {},
     "output_type": "execute_result"
    }
   ],
   "source": [
    "frase[::2] #retorna a string pulando 2 caracteres"
   ]
  },
  {
   "cell_type": "code",
   "execution_count": 118,
   "id": "e6639b91",
   "metadata": {},
   "outputs": [
    {
     "data": {
      "text/plain": [
       "'Ph u namuoora'"
      ]
     },
     "execution_count": 118,
     "metadata": {},
     "output_type": "execute_result"
    }
   ],
   "source": [
    "frase[::3] #retorna a string pulando 3 caracteres"
   ]
  },
  {
   "cell_type": "code",
   "execution_count": 119,
   "id": "98b5e47a",
   "metadata": {},
   "outputs": [
    {
     "data": {
      "text/plain": [
       "'asoredop otium megaugnil amu é nohtyP'"
      ]
     },
     "execution_count": 119,
     "metadata": {},
     "output_type": "execute_result"
    }
   ],
   "source": [
    "frase[::-1] #retorna a strinf pulando 1 caracter"
   ]
  },
  {
   "cell_type": "markdown",
   "id": "22047c08",
   "metadata": {},
   "source": [
    "### Funções"
   ]
  },
  {
   "cell_type": "code",
   "execution_count": 120,
   "id": "01d74b85",
   "metadata": {},
   "outputs": [],
   "source": [
    "texto = 'Python para análise Quant.'"
   ]
  },
  {
   "cell_type": "code",
   "execution_count": 121,
   "id": "746f0e9b",
   "metadata": {},
   "outputs": [
    {
     "data": {
      "text/plain": [
       "'PYTHON PARA ANÁLISE QUANT.'"
      ]
     },
     "execution_count": 121,
     "metadata": {},
     "output_type": "execute_result"
    }
   ],
   "source": [
    "texto.upper() #transforma texto para carateres maiúsculos"
   ]
  },
  {
   "cell_type": "code",
   "execution_count": 122,
   "id": "325770fa",
   "metadata": {},
   "outputs": [
    {
     "data": {
      "text/plain": [
       "'python para análise quant.'"
      ]
     },
     "execution_count": 122,
     "metadata": {},
     "output_type": "execute_result"
    }
   ],
   "source": [
    "texto.lower() #transforma texto para caracteres minúsculos"
   ]
  },
  {
   "cell_type": "code",
   "execution_count": 123,
   "id": "9aacd7b3",
   "metadata": {},
   "outputs": [
    {
     "data": {
      "text/plain": [
       "['Python', 'para', 'análise', 'Quant.']"
      ]
     },
     "execution_count": 123,
     "metadata": {},
     "output_type": "execute_result"
    }
   ],
   "source": [
    "texto.split() #divide string por espaços em branco (padrão da função)"
   ]
  },
  {
   "cell_type": "code",
   "execution_count": 124,
   "id": "747dbce6",
   "metadata": {},
   "outputs": [
    {
     "data": {
      "text/plain": [
       "['Py', 'hon para análise Quan', '.']"
      ]
     },
     "execution_count": 124,
     "metadata": {},
     "output_type": "execute_result"
    }
   ],
   "source": [
    "texto.split('t') #divide string no elemneto esécificado 't'"
   ]
  },
  {
   "cell_type": "markdown",
   "id": "a9d4b4f9",
   "metadata": {},
   "source": [
    "### Listas"
   ]
  },
  {
   "cell_type": "code",
   "execution_count": 125,
   "id": "94567e74",
   "metadata": {},
   "outputs": [],
   "source": [
    "lista_vazia = [] #cria lista vazia"
   ]
  },
  {
   "cell_type": "code",
   "execution_count": 126,
   "id": "1136e57b",
   "metadata": {},
   "outputs": [],
   "source": [
    "lista_vazia2 = list() #tbm cria lista vazia"
   ]
  },
  {
   "cell_type": "code",
   "execution_count": 127,
   "id": "d4b124d7",
   "metadata": {
    "scrolled": true
   },
   "outputs": [
    {
     "data": {
      "text/plain": [
       "list"
      ]
     },
     "execution_count": 127,
     "metadata": {},
     "output_type": "execute_result"
    }
   ],
   "source": [
    "type(lista_vazia)"
   ]
  },
  {
   "cell_type": "code",
   "execution_count": 128,
   "id": "0e678149",
   "metadata": {},
   "outputs": [
    {
     "data": {
      "text/plain": [
       "list"
      ]
     },
     "execution_count": 128,
     "metadata": {},
     "output_type": "execute_result"
    }
   ],
   "source": [
    "type(lista_vazia2)"
   ]
  },
  {
   "cell_type": "code",
   "execution_count": 129,
   "id": "40cebf3d",
   "metadata": {},
   "outputs": [],
   "source": [
    "#para criar listas utilizamos []\n",
    "lista_nomes1 = ['Robson', 'Ricardo','Rafael','Renata']"
   ]
  },
  {
   "cell_type": "code",
   "execution_count": 133,
   "id": "9e02aea2",
   "metadata": {},
   "outputs": [],
   "source": [
    "lista_nomes2 = ['Robson, Ricardo, Rafael, Renata']"
   ]
  },
  {
   "cell_type": "code",
   "execution_count": 134,
   "id": "cc9cac05",
   "metadata": {},
   "outputs": [
    {
     "data": {
      "text/plain": [
       "list"
      ]
     },
     "execution_count": 134,
     "metadata": {},
     "output_type": "execute_result"
    }
   ],
   "source": [
    "type(lista_nomes1)"
   ]
  },
  {
   "cell_type": "code",
   "execution_count": 135,
   "id": "dd2e0b1b",
   "metadata": {},
   "outputs": [
    {
     "data": {
      "text/plain": [
       "list"
      ]
     },
     "execution_count": 135,
     "metadata": {},
     "output_type": "execute_result"
    }
   ],
   "source": [
    "type(lista_nomes2)"
   ]
  },
  {
   "cell_type": "code",
   "execution_count": 136,
   "id": "f0b5d614",
   "metadata": {},
   "outputs": [
    {
     "data": {
      "text/plain": [
       "4"
      ]
     },
     "execution_count": 136,
     "metadata": {},
     "output_type": "execute_result"
    }
   ],
   "source": [
    "#função len() diz o tamanho da lista\n",
    "len(lista_nomes1)"
   ]
  },
  {
   "cell_type": "code",
   "execution_count": 137,
   "id": "ab6b0915",
   "metadata": {},
   "outputs": [
    {
     "data": {
      "text/plain": [
       "1"
      ]
     },
     "execution_count": 137,
     "metadata": {},
     "output_type": "execute_result"
    }
   ],
   "source": [
    "len(lista_nomes2)"
   ]
  },
  {
   "cell_type": "code",
   "execution_count": 138,
   "id": "20bf47cb",
   "metadata": {},
   "outputs": [
    {
     "data": {
      "text/plain": [
       "'Robson'"
      ]
     },
     "execution_count": 138,
     "metadata": {},
     "output_type": "execute_result"
    }
   ],
   "source": [
    "lista_nomes1[0] #retorna o elemento index 0"
   ]
  },
  {
   "cell_type": "code",
   "execution_count": 139,
   "id": "8b3a580b",
   "metadata": {},
   "outputs": [
    {
     "data": {
      "text/plain": [
       "'Robson, Ricardo, Rafael, Renata'"
      ]
     },
     "execution_count": 139,
     "metadata": {},
     "output_type": "execute_result"
    }
   ],
   "source": [
    "lista_nomes2[0]"
   ]
  },
  {
   "cell_type": "code",
   "execution_count": 143,
   "id": "08dce43a",
   "metadata": {},
   "outputs": [],
   "source": [
    "lista_mista = ['elevador',77,3.14]"
   ]
  },
  {
   "cell_type": "code",
   "execution_count": 144,
   "id": "8fe26abd",
   "metadata": {},
   "outputs": [
    {
     "name": "stdout",
     "output_type": "stream",
     "text": [
      "['elevador', 77, 3.14]\n"
     ]
    }
   ],
   "source": [
    "print(lista_mista)"
   ]
  },
  {
   "cell_type": "code",
   "execution_count": 145,
   "id": "6a588138",
   "metadata": {},
   "outputs": [
    {
     "name": "stdout",
     "output_type": "stream",
     "text": [
      "Tamanho da lista =  3\n"
     ]
    }
   ],
   "source": [
    "print('Tamanho da lista = ', len(lista_mista))"
   ]
  },
  {
   "cell_type": "code",
   "execution_count": 146,
   "id": "230c8864",
   "metadata": {},
   "outputs": [
    {
     "data": {
      "text/plain": [
       "'elevador'"
      ]
     },
     "execution_count": 146,
     "metadata": {},
     "output_type": "execute_result"
    }
   ],
   "source": [
    "lista_mista[0]"
   ]
  },
  {
   "cell_type": "code",
   "execution_count": 147,
   "id": "b031d18e",
   "metadata": {},
   "outputs": [
    {
     "data": {
      "text/plain": [
       "77"
      ]
     },
     "execution_count": 147,
     "metadata": {},
     "output_type": "execute_result"
    }
   ],
   "source": [
    "lista_mista[1]"
   ]
  },
  {
   "cell_type": "code",
   "execution_count": 148,
   "id": "6c48c278",
   "metadata": {},
   "outputs": [
    {
     "data": {
      "text/plain": [
       "3.14"
      ]
     },
     "execution_count": 148,
     "metadata": {},
     "output_type": "execute_result"
    }
   ],
   "source": [
    "lista_mista[2]"
   ]
  },
  {
   "cell_type": "code",
   "execution_count": 149,
   "id": "5eb1cbdc",
   "metadata": {},
   "outputs": [],
   "source": [
    "#Obs: erro index out of range tentativa de acesso e elemento fora do range"
   ]
  },
  {
   "cell_type": "markdown",
   "id": "a7308ac6",
   "metadata": {},
   "source": [
    "### Deletando elemento da lista"
   ]
  },
  {
   "cell_type": "code",
   "execution_count": 150,
   "id": "bdc283cd",
   "metadata": {},
   "outputs": [],
   "source": [
    "del lista_mista[1]"
   ]
  },
  {
   "cell_type": "code",
   "execution_count": 151,
   "id": "25caa8dc",
   "metadata": {},
   "outputs": [
    {
     "name": "stdout",
     "output_type": "stream",
     "text": [
      "['elevador', 3.14]\n"
     ]
    }
   ],
   "source": [
    "print(lista_mista)"
   ]
  },
  {
   "cell_type": "code",
   "execution_count": 152,
   "id": "208d6978",
   "metadata": {},
   "outputs": [],
   "source": [
    "lista_mista2 = ['casa',77,3.14,'viagem',123,10,3,77]"
   ]
  },
  {
   "cell_type": "code",
   "execution_count": 153,
   "id": "759fe08e",
   "metadata": {},
   "outputs": [
    {
     "data": {
      "text/plain": [
       "['casa', 77, 3.14, 'viagem', 123, 10, 3, 77]"
      ]
     },
     "execution_count": 153,
     "metadata": {},
     "output_type": "execute_result"
    }
   ],
   "source": [
    "lista_mista2"
   ]
  },
  {
   "cell_type": "code",
   "execution_count": 154,
   "id": "6ed1c619",
   "metadata": {},
   "outputs": [],
   "source": [
    "lista_mista2.remove(3.14)"
   ]
  },
  {
   "cell_type": "code",
   "execution_count": 155,
   "id": "242b22b1",
   "metadata": {},
   "outputs": [
    {
     "data": {
      "text/plain": [
       "['casa', 77, 'viagem', 123, 10, 3, 77]"
      ]
     },
     "execution_count": 155,
     "metadata": {},
     "output_type": "execute_result"
    }
   ],
   "source": [
    "lista_mista2"
   ]
  },
  {
   "cell_type": "code",
   "execution_count": 157,
   "id": "2bb8cd86",
   "metadata": {},
   "outputs": [],
   "source": [
    "lista_mista2.remove(77)"
   ]
  },
  {
   "cell_type": "code",
   "execution_count": 158,
   "id": "36920729",
   "metadata": {},
   "outputs": [
    {
     "data": {
      "text/plain": [
       "['casa', 'viagem', 123, 10, 3, 77]"
      ]
     },
     "execution_count": 158,
     "metadata": {},
     "output_type": "execute_result"
    }
   ],
   "source": [
    "lista_mista2"
   ]
  },
  {
   "cell_type": "code",
   "execution_count": 159,
   "id": "06a6897a",
   "metadata": {},
   "outputs": [],
   "source": [
    "lista_mista2.remove(77)"
   ]
  },
  {
   "cell_type": "code",
   "execution_count": 160,
   "id": "93d565f5",
   "metadata": {},
   "outputs": [
    {
     "data": {
      "text/plain": [
       "['casa', 'viagem', 123, 10, 3]"
      ]
     },
     "execution_count": 160,
     "metadata": {},
     "output_type": "execute_result"
    }
   ],
   "source": [
    "lista_mista2"
   ]
  },
  {
   "cell_type": "markdown",
   "id": "1fc1fe85",
   "metadata": {},
   "source": [
    "### Aninhamento de listas"
   ]
  },
  {
   "cell_type": "code",
   "execution_count": 161,
   "id": "6b21a2d1",
   "metadata": {},
   "outputs": [],
   "source": [
    "#criar uma lista de listas\n",
    "lista = [[11,22,33],[1,2,3,4],[100,200,300,400,500]]"
   ]
  },
  {
   "cell_type": "code",
   "execution_count": 162,
   "id": "cd60bb0d",
   "metadata": {},
   "outputs": [
    {
     "data": {
      "text/plain": [
       "[[11, 22, 33], [1, 2, 3, 4], [100, 200, 300, 400, 500]]"
      ]
     },
     "execution_count": 162,
     "metadata": {},
     "output_type": "execute_result"
    }
   ],
   "source": [
    "lista"
   ]
  },
  {
   "cell_type": "code",
   "execution_count": 164,
   "id": "3febec85",
   "metadata": {},
   "outputs": [
    {
     "data": {
      "text/plain": [
       "list"
      ]
     },
     "execution_count": 164,
     "metadata": {},
     "output_type": "execute_result"
    }
   ],
   "source": [
    "type(lista)"
   ]
  },
  {
   "cell_type": "code",
   "execution_count": 165,
   "id": "a610a674",
   "metadata": {},
   "outputs": [
    {
     "data": {
      "text/plain": [
       "3"
      ]
     },
     "execution_count": 165,
     "metadata": {},
     "output_type": "execute_result"
    }
   ],
   "source": [
    "len(lista)"
   ]
  },
  {
   "cell_type": "code",
   "execution_count": 166,
   "id": "7c1090dd",
   "metadata": {},
   "outputs": [
    {
     "data": {
      "text/plain": [
       "[11, 22, 33]"
      ]
     },
     "execution_count": 166,
     "metadata": {},
     "output_type": "execute_result"
    }
   ],
   "source": [
    "lista[0]"
   ]
  },
  {
   "cell_type": "code",
   "execution_count": 167,
   "id": "c25b1675",
   "metadata": {},
   "outputs": [
    {
     "data": {
      "text/plain": [
       "list"
      ]
     },
     "execution_count": 167,
     "metadata": {},
     "output_type": "execute_result"
    }
   ],
   "source": [
    "type(lista[0])"
   ]
  },
  {
   "cell_type": "markdown",
   "id": "af0229e4",
   "metadata": {},
   "source": [
    "### Fatiamento (slice)"
   ]
  },
  {
   "cell_type": "code",
   "execution_count": 168,
   "id": "07830f23",
   "metadata": {},
   "outputs": [
    {
     "data": {
      "text/plain": [
       "[[11, 22, 33], [1, 2, 3, 4], [100, 200, 300, 400, 500]]"
      ]
     },
     "execution_count": 168,
     "metadata": {},
     "output_type": "execute_result"
    }
   ],
   "source": [
    "lista"
   ]
  },
  {
   "cell_type": "code",
   "execution_count": 169,
   "id": "5982c6c4",
   "metadata": {},
   "outputs": [
    {
     "data": {
      "text/plain": [
       "300"
      ]
     },
     "execution_count": 169,
     "metadata": {},
     "output_type": "execute_result"
    }
   ],
   "source": [
    "lista[2][2] #da lista 3 pegue o elemento 3"
   ]
  },
  {
   "cell_type": "code",
   "execution_count": 170,
   "id": "9cdf969c",
   "metadata": {},
   "outputs": [
    {
     "data": {
      "text/plain": [
       "500"
      ]
     },
     "execution_count": 170,
     "metadata": {},
     "output_type": "execute_result"
    }
   ],
   "source": [
    "lista[2][4] #da lista 3 pegue o elemento 5"
   ]
  },
  {
   "cell_type": "markdown",
   "id": "f412c5cb",
   "metadata": {},
   "source": [
    "### Juntando listas"
   ]
  },
  {
   "cell_type": "code",
   "execution_count": 171,
   "id": "d6f2f6df",
   "metadata": {},
   "outputs": [],
   "source": [
    "lista1 = [1,2,3,4,5]"
   ]
  },
  {
   "cell_type": "code",
   "execution_count": 172,
   "id": "9e2ef7a7",
   "metadata": {},
   "outputs": [],
   "source": [
    "lista2 = [22,33,44,55,66,77]"
   ]
  },
  {
   "cell_type": "code",
   "execution_count": 173,
   "id": "30b339e4",
   "metadata": {},
   "outputs": [],
   "source": [
    "sua_lista = lista1+lista2"
   ]
  },
  {
   "cell_type": "code",
   "execution_count": 174,
   "id": "d3f1c40c",
   "metadata": {},
   "outputs": [
    {
     "data": {
      "text/plain": [
       "[1, 2, 3, 4, 5, 22, 33, 44, 55, 66, 77]"
      ]
     },
     "execution_count": 174,
     "metadata": {},
     "output_type": "execute_result"
    }
   ],
   "source": [
    "sua_lista"
   ]
  },
  {
   "cell_type": "markdown",
   "id": "5d3cf1d0",
   "metadata": {},
   "source": [
    "### Outros fatiamentos"
   ]
  },
  {
   "cell_type": "code",
   "execution_count": 175,
   "id": "bc1afbe4",
   "metadata": {},
   "outputs": [],
   "source": [
    "minha_lista = ['tio', 'mãe','pai','irmão','sobrinha']"
   ]
  },
  {
   "cell_type": "code",
   "execution_count": 176,
   "id": "debe72a7",
   "metadata": {},
   "outputs": [
    {
     "data": {
      "text/plain": [
       "['tio', 'mãe', 'pai', 'irmão']"
      ]
     },
     "execution_count": 176,
     "metadata": {},
     "output_type": "execute_result"
    }
   ],
   "source": [
    "#fatiando os 4 primeiros elementos da lista\n",
    "minha_lista[0:4]"
   ]
  },
  {
   "cell_type": "code",
   "execution_count": 177,
   "id": "83db504d",
   "metadata": {},
   "outputs": [
    {
     "data": {
      "text/plain": [
       "['mãe', 'pai']"
      ]
     },
     "execution_count": 177,
     "metadata": {},
     "output_type": "execute_result"
    }
   ],
   "source": [
    "#fatiando os elementos 2 a 7 da lista\n",
    "minha_lista[1:3]"
   ]
  },
  {
   "cell_type": "code",
   "execution_count": 179,
   "id": "6220453b",
   "metadata": {},
   "outputs": [
    {
     "data": {
      "text/plain": [
       "'sobrinha'"
      ]
     },
     "execution_count": 179,
     "metadata": {},
     "output_type": "execute_result"
    }
   ],
   "source": [
    "#Último elemento da lista\n",
    "minha_lista[-1]"
   ]
  },
  {
   "cell_type": "code",
   "execution_count": 180,
   "id": "f5442e79",
   "metadata": {},
   "outputs": [
    {
     "data": {
      "text/plain": [
       "['sobrinha', 'irmão', 'pai', 'mãe', 'tio']"
      ]
     },
     "execution_count": 180,
     "metadata": {},
     "output_type": "execute_result"
    }
   ],
   "source": [
    "#Elementos de trás para frente da lista\n",
    "minha_lista[::-1]"
   ]
  },
  {
   "cell_type": "markdown",
   "id": "e43296f1",
   "metadata": {},
   "source": [
    "### verificar se um elemento está na lista"
   ]
  },
  {
   "cell_type": "code",
   "execution_count": 181,
   "id": "6cb8ca31",
   "metadata": {},
   "outputs": [
    {
     "data": {
      "text/plain": [
       "[1, 2, 3, 4, 5, 22, 33, 44, 55, 66, 77]"
      ]
     },
     "execution_count": 181,
     "metadata": {},
     "output_type": "execute_result"
    }
   ],
   "source": [
    "sua_lista"
   ]
  },
  {
   "cell_type": "code",
   "execution_count": 182,
   "id": "e712d463",
   "metadata": {},
   "outputs": [
    {
     "data": {
      "text/plain": [
       "False"
      ]
     },
     "execution_count": 182,
     "metadata": {},
     "output_type": "execute_result"
    }
   ],
   "source": [
    "20 in sua_lista #avalia se 20 está na sua_lista"
   ]
  },
  {
   "cell_type": "code",
   "execution_count": 183,
   "id": "758295c5",
   "metadata": {},
   "outputs": [
    {
     "data": {
      "text/plain": [
       "True"
      ]
     },
     "execution_count": 183,
     "metadata": {},
     "output_type": "execute_result"
    }
   ],
   "source": [
    "77 in sua_lista"
   ]
  },
  {
   "cell_type": "code",
   "execution_count": 184,
   "id": "3f20ea8d",
   "metadata": {},
   "outputs": [],
   "source": [
    "sua_lista.append(121) #adiciona o elemento no fim da lista"
   ]
  },
  {
   "cell_type": "code",
   "execution_count": 185,
   "id": "14397117",
   "metadata": {},
   "outputs": [
    {
     "data": {
      "text/plain": [
       "[1, 2, 3, 4, 5, 22, 33, 44, 55, 66, 77, 121]"
      ]
     },
     "execution_count": 185,
     "metadata": {},
     "output_type": "execute_result"
    }
   ],
   "source": [
    "sua_lista"
   ]
  },
  {
   "cell_type": "code",
   "execution_count": 186,
   "id": "a4ea6f74",
   "metadata": {},
   "outputs": [
    {
     "data": {
      "text/plain": [
       "1"
      ]
     },
     "execution_count": 186,
     "metadata": {},
     "output_type": "execute_result"
    }
   ],
   "source": [
    "sua_lista.count(33) #conta quantas vezes o elemento aparece "
   ]
  },
  {
   "cell_type": "code",
   "execution_count": 187,
   "id": "5dfbe8e8",
   "metadata": {},
   "outputs": [
    {
     "data": {
      "text/plain": [
       "11"
      ]
     },
     "execution_count": 187,
     "metadata": {},
     "output_type": "execute_result"
    }
   ],
   "source": [
    "sua_lista.index(121) #saber o índice do elemento "
   ]
  },
  {
   "cell_type": "code",
   "execution_count": 188,
   "id": "6d23d99d",
   "metadata": {},
   "outputs": [],
   "source": [
    "sua_lista.insert(6,101) # adiciona o elemento 101 na posição 7"
   ]
  },
  {
   "cell_type": "code",
   "execution_count": 189,
   "id": "351b18df",
   "metadata": {},
   "outputs": [
    {
     "data": {
      "text/plain": [
       "[1, 2, 3, 4, 5, 22, 101, 33, 44, 55, 66, 77, 121]"
      ]
     },
     "execution_count": 189,
     "metadata": {},
     "output_type": "execute_result"
    }
   ],
   "source": [
    "sua_lista"
   ]
  },
  {
   "cell_type": "code",
   "execution_count": 190,
   "id": "5f65c592",
   "metadata": {},
   "outputs": [],
   "source": [
    "sua_lista.sort() #ordena os elementos da lista"
   ]
  },
  {
   "cell_type": "code",
   "execution_count": 191,
   "id": "b26ffaf9",
   "metadata": {},
   "outputs": [
    {
     "data": {
      "text/plain": [
       "[1, 2, 3, 4, 5, 22, 33, 44, 55, 66, 77, 101, 121]"
      ]
     },
     "execution_count": 191,
     "metadata": {},
     "output_type": "execute_result"
    }
   ],
   "source": [
    "sua_lista"
   ]
  },
  {
   "cell_type": "code",
   "execution_count": 192,
   "id": "fca6b58e",
   "metadata": {},
   "outputs": [],
   "source": [
    "sua_lista.reverse() #inverte a ordem dos elementos"
   ]
  },
  {
   "cell_type": "code",
   "execution_count": 193,
   "id": "18129ab8",
   "metadata": {},
   "outputs": [
    {
     "data": {
      "text/plain": [
       "[121, 101, 77, 66, 55, 44, 33, 22, 5, 4, 3, 2, 1]"
      ]
     },
     "execution_count": 193,
     "metadata": {},
     "output_type": "execute_result"
    }
   ],
   "source": [
    "sua_lista"
   ]
  },
  {
   "cell_type": "markdown",
   "id": "64358a00",
   "metadata": {},
   "source": [
    "### cópia e criação de listas"
   ]
  },
  {
   "cell_type": "code",
   "execution_count": 194,
   "id": "e3f06956",
   "metadata": {},
   "outputs": [],
   "source": [
    "#lista de números\n",
    "numeros = [11,22,33,44,55]"
   ]
  },
  {
   "cell_type": "code",
   "execution_count": 195,
   "id": "978f0248",
   "metadata": {},
   "outputs": [],
   "source": [
    "#faz referenciação de numeros para novos\n",
    "novos = numeros"
   ]
  },
  {
   "cell_type": "code",
   "execution_count": 196,
   "id": "c1d8ee77",
   "metadata": {},
   "outputs": [],
   "source": [
    "#adiciona valores a lista 'novos'\n",
    "novos.append(1)\n",
    "novos.append(77)"
   ]
  },
  {
   "cell_type": "code",
   "execution_count": 197,
   "id": "83141c90",
   "metadata": {},
   "outputs": [
    {
     "data": {
      "text/plain": [
       "[11, 22, 33, 44, 55, 1, 77]"
      ]
     },
     "execution_count": 197,
     "metadata": {},
     "output_type": "execute_result"
    }
   ],
   "source": [
    "#veja o que acontece\n",
    "numeros"
   ]
  },
  {
   "cell_type": "code",
   "execution_count": 198,
   "id": "07d94502",
   "metadata": {},
   "outputs": [],
   "source": [
    "#cria nova variável com elementos de 'numeros'\n",
    "numeros2 = numeros[:]"
   ]
  },
  {
   "cell_type": "code",
   "execution_count": 199,
   "id": "8d3f0abc",
   "metadata": {},
   "outputs": [],
   "source": [
    "numeros2.append(57)"
   ]
  },
  {
   "cell_type": "code",
   "execution_count": 200,
   "id": "1e3e140a",
   "metadata": {},
   "outputs": [
    {
     "data": {
      "text/plain": [
       "[11, 22, 33, 44, 55, 1, 77]"
      ]
     },
     "execution_count": 200,
     "metadata": {},
     "output_type": "execute_result"
    }
   ],
   "source": [
    "numeros"
   ]
  },
  {
   "cell_type": "code",
   "execution_count": 201,
   "id": "d4e35b73",
   "metadata": {},
   "outputs": [
    {
     "data": {
      "text/plain": [
       "[11, 22, 33, 44, 55, 1, 77, 57]"
      ]
     },
     "execution_count": 201,
     "metadata": {},
     "output_type": "execute_result"
    }
   ],
   "source": [
    "numeros2"
   ]
  },
  {
   "cell_type": "code",
   "execution_count": 202,
   "id": "a351dd2b",
   "metadata": {},
   "outputs": [
    {
     "data": {
      "text/plain": [
       "[11, 22, 33, 44, 55, 1, 77]"
      ]
     },
     "execution_count": 202,
     "metadata": {},
     "output_type": "execute_result"
    }
   ],
   "source": [
    "novos"
   ]
  },
  {
   "cell_type": "code",
   "execution_count": 203,
   "id": "88282812",
   "metadata": {},
   "outputs": [],
   "source": [
    "#faz cópia dos elementos de 'numeros' para 'numeros3'\n",
    "numeros3 = numeros.copy()"
   ]
  },
  {
   "cell_type": "code",
   "execution_count": 205,
   "id": "78da1c61",
   "metadata": {},
   "outputs": [],
   "source": [
    "#faz cópia dos elementos de 'numeros' para 'numeros3'\n",
    "numeros4 = list(numeros)"
   ]
  },
  {
   "cell_type": "code",
   "execution_count": 206,
   "id": "a80aaccb",
   "metadata": {},
   "outputs": [
    {
     "data": {
      "text/plain": [
       "[11, 22, 33, 44, 55, 1, 77]"
      ]
     },
     "execution_count": 206,
     "metadata": {},
     "output_type": "execute_result"
    }
   ],
   "source": [
    "numeros3"
   ]
  },
  {
   "cell_type": "code",
   "execution_count": 207,
   "id": "5622f4fa",
   "metadata": {},
   "outputs": [
    {
     "data": {
      "text/plain": [
       "[11, 22, 33, 44, 55, 1, 77]"
      ]
     },
     "execution_count": 207,
     "metadata": {},
     "output_type": "execute_result"
    }
   ],
   "source": [
    "numeros4"
   ]
  },
  {
   "cell_type": "code",
   "execution_count": 208,
   "id": "fe86c142",
   "metadata": {},
   "outputs": [],
   "source": [
    "lis = [] #cria lista vazia"
   ]
  },
  {
   "cell_type": "code",
   "execution_count": 209,
   "id": "cf25007e",
   "metadata": {},
   "outputs": [
    {
     "data": {
      "text/plain": [
       "list"
      ]
     },
     "execution_count": 209,
     "metadata": {},
     "output_type": "execute_result"
    }
   ],
   "source": [
    "type(lis)"
   ]
  },
  {
   "cell_type": "code",
   "execution_count": 210,
   "id": "2832ac5d",
   "metadata": {},
   "outputs": [
    {
     "data": {
      "text/plain": [
       "0"
      ]
     },
     "execution_count": 210,
     "metadata": {},
     "output_type": "execute_result"
    }
   ],
   "source": [
    "len(lis)"
   ]
  },
  {
   "cell_type": "code",
   "execution_count": 212,
   "id": "ebf98ce2",
   "metadata": {},
   "outputs": [],
   "source": [
    "lis.append(1)"
   ]
  },
  {
   "cell_type": "code",
   "execution_count": 213,
   "id": "37ea5f9c",
   "metadata": {},
   "outputs": [
    {
     "data": {
      "text/plain": [
       "[1]"
      ]
     },
     "execution_count": 213,
     "metadata": {},
     "output_type": "execute_result"
    }
   ],
   "source": [
    "lis"
   ]
  },
  {
   "cell_type": "markdown",
   "id": "137534c1",
   "metadata": {},
   "source": [
    "### List comprehension"
   ]
  },
  {
   "cell_type": "code",
   "execution_count": 1,
   "id": "c94e7a32",
   "metadata": {},
   "outputs": [],
   "source": [
    "#Operações matemática dentror de listas\n",
    "list_num = [x**2 for x in range(100)]"
   ]
  },
  {
   "cell_type": "code",
   "execution_count": 2,
   "id": "a5f10f2d",
   "metadata": {},
   "outputs": [
    {
     "data": {
      "text/plain": [
       "[0,\n",
       " 1,\n",
       " 4,\n",
       " 9,\n",
       " 16,\n",
       " 25,\n",
       " 36,\n",
       " 49,\n",
       " 64,\n",
       " 81,\n",
       " 100,\n",
       " 121,\n",
       " 144,\n",
       " 169,\n",
       " 196,\n",
       " 225,\n",
       " 256,\n",
       " 289,\n",
       " 324,\n",
       " 361,\n",
       " 400,\n",
       " 441,\n",
       " 484,\n",
       " 529,\n",
       " 576,\n",
       " 625,\n",
       " 676,\n",
       " 729,\n",
       " 784,\n",
       " 841,\n",
       " 900,\n",
       " 961,\n",
       " 1024,\n",
       " 1089,\n",
       " 1156,\n",
       " 1225,\n",
       " 1296,\n",
       " 1369,\n",
       " 1444,\n",
       " 1521,\n",
       " 1600,\n",
       " 1681,\n",
       " 1764,\n",
       " 1849,\n",
       " 1936,\n",
       " 2025,\n",
       " 2116,\n",
       " 2209,\n",
       " 2304,\n",
       " 2401,\n",
       " 2500,\n",
       " 2601,\n",
       " 2704,\n",
       " 2809,\n",
       " 2916,\n",
       " 3025,\n",
       " 3136,\n",
       " 3249,\n",
       " 3364,\n",
       " 3481,\n",
       " 3600,\n",
       " 3721,\n",
       " 3844,\n",
       " 3969,\n",
       " 4096,\n",
       " 4225,\n",
       " 4356,\n",
       " 4489,\n",
       " 4624,\n",
       " 4761,\n",
       " 4900,\n",
       " 5041,\n",
       " 5184,\n",
       " 5329,\n",
       " 5476,\n",
       " 5625,\n",
       " 5776,\n",
       " 5929,\n",
       " 6084,\n",
       " 6241,\n",
       " 6400,\n",
       " 6561,\n",
       " 6724,\n",
       " 6889,\n",
       " 7056,\n",
       " 7225,\n",
       " 7396,\n",
       " 7569,\n",
       " 7744,\n",
       " 7921,\n",
       " 8100,\n",
       " 8281,\n",
       " 8464,\n",
       " 8649,\n",
       " 8836,\n",
       " 9025,\n",
       " 9216,\n",
       " 9409,\n",
       " 9604,\n",
       " 9801]"
      ]
     },
     "execution_count": 2,
     "metadata": {},
     "output_type": "execute_result"
    }
   ],
   "source": [
    "list_num"
   ]
  },
  {
   "cell_type": "code",
   "execution_count": 4,
   "id": "bbb8c238",
   "metadata": {},
   "outputs": [],
   "source": [
    "#obter uma lista somente com elementos de valores par da 'list_num'\n",
    "list_par = [x for x in list_num if x % 2 == 0]"
   ]
  },
  {
   "cell_type": "code",
   "execution_count": 5,
   "id": "ff826f7f",
   "metadata": {},
   "outputs": [
    {
     "data": {
      "text/plain": [
       "[0,\n",
       " 4,\n",
       " 16,\n",
       " 36,\n",
       " 64,\n",
       " 100,\n",
       " 144,\n",
       " 196,\n",
       " 256,\n",
       " 324,\n",
       " 400,\n",
       " 484,\n",
       " 576,\n",
       " 676,\n",
       " 784,\n",
       " 900,\n",
       " 1024,\n",
       " 1156,\n",
       " 1296,\n",
       " 1444,\n",
       " 1600,\n",
       " 1764,\n",
       " 1936,\n",
       " 2116,\n",
       " 2304,\n",
       " 2500,\n",
       " 2704,\n",
       " 2916,\n",
       " 3136,\n",
       " 3364,\n",
       " 3600,\n",
       " 3844,\n",
       " 4096,\n",
       " 4356,\n",
       " 4624,\n",
       " 4900,\n",
       " 5184,\n",
       " 5476,\n",
       " 5776,\n",
       " 6084,\n",
       " 6400,\n",
       " 6724,\n",
       " 7056,\n",
       " 7396,\n",
       " 7744,\n",
       " 8100,\n",
       " 8464,\n",
       " 8836,\n",
       " 9216,\n",
       " 9604]"
      ]
     },
     "execution_count": 5,
     "metadata": {},
     "output_type": "execute_result"
    }
   ],
   "source": [
    "list_par"
   ]
  },
  {
   "cell_type": "code",
   "execution_count": 6,
   "id": "5704a9dc",
   "metadata": {},
   "outputs": [],
   "source": [
    "#De uma sequência de caracteres retornar cada caracter\n",
    "letras = [letra for letra in 'Python']"
   ]
  },
  {
   "cell_type": "code",
   "execution_count": 7,
   "id": "5f9b1f78",
   "metadata": {},
   "outputs": [
    {
     "data": {
      "text/plain": [
       "['P', 'y', 't', 'h', 'o', 'n']"
      ]
     },
     "execution_count": 7,
     "metadata": {},
     "output_type": "execute_result"
    }
   ],
   "source": [
    "letras"
   ]
  },
  {
   "cell_type": "markdown",
   "id": "4f88b6d3",
   "metadata": {},
   "source": [
    "### Dicionários"
   ]
  },
  {
   "cell_type": "code",
   "execution_count": 8,
   "id": "0557950d",
   "metadata": {},
   "outputs": [],
   "source": [
    "#Exemplo de lista\n",
    "salario_list = ['Pedro',1000,'Carlos',750,'Ricardo',2000,'Letícia',2500]"
   ]
  },
  {
   "cell_type": "code",
   "execution_count": 9,
   "id": "81bb5cd2",
   "metadata": {},
   "outputs": [
    {
     "data": {
      "text/plain": [
       "['Pedro', 1000, 'Carlos', 750, 'Ricardo', 2000, 'Letícia', 2500]"
      ]
     },
     "execution_count": 9,
     "metadata": {},
     "output_type": "execute_result"
    }
   ],
   "source": [
    "salario_list"
   ]
  },
  {
   "cell_type": "code",
   "execution_count": 10,
   "id": "7fa290e5",
   "metadata": {},
   "outputs": [
    {
     "data": {
      "text/plain": [
       "list"
      ]
     },
     "execution_count": 10,
     "metadata": {},
     "output_type": "execute_result"
    }
   ],
   "source": [
    "type(salario_list)"
   ]
  },
  {
   "cell_type": "code",
   "execution_count": 12,
   "id": "fb4e1baf",
   "metadata": {},
   "outputs": [],
   "source": [
    "#Exemplo de dicionário\n",
    "salario_dict = {'Pedro':1000,'Carlos':570,'Ricardo':2000,'Letícia':2500}"
   ]
  },
  {
   "cell_type": "code",
   "execution_count": 13,
   "id": "7110a920",
   "metadata": {},
   "outputs": [
    {
     "data": {
      "text/plain": [
       "{'Pedro': 1000, 'Carlos': 570, 'Ricardo': 2000, 'Letícia': 2500}"
      ]
     },
     "execution_count": 13,
     "metadata": {},
     "output_type": "execute_result"
    }
   ],
   "source": [
    "salario_dict"
   ]
  },
  {
   "cell_type": "code",
   "execution_count": 14,
   "id": "55667a31",
   "metadata": {},
   "outputs": [
    {
     "data": {
      "text/plain": [
       "dict"
      ]
     },
     "execution_count": 14,
     "metadata": {},
     "output_type": "execute_result"
    }
   ],
   "source": [
    "type(salario_dict)"
   ]
  },
  {
   "cell_type": "code",
   "execution_count": 15,
   "id": "d69a7850",
   "metadata": {},
   "outputs": [
    {
     "data": {
      "text/plain": [
       "1000"
      ]
     },
     "execution_count": 15,
     "metadata": {},
     "output_type": "execute_result"
    }
   ],
   "source": [
    "#Qual é o salário de Pedro?\n",
    "salario_dict['Pedro']"
   ]
  },
  {
   "cell_type": "code",
   "execution_count": 16,
   "id": "80bdfe88",
   "metadata": {},
   "outputs": [
    {
     "data": {
      "text/plain": [
       "2500"
      ]
     },
     "execution_count": 16,
     "metadata": {},
     "output_type": "execute_result"
    }
   ],
   "source": [
    "#Qual é o salário de Letícia?\n",
    "salario_dict['Letícia']"
   ]
  },
  {
   "cell_type": "code",
   "execution_count": 17,
   "id": "3f3ba6c2",
   "metadata": {},
   "outputs": [
    {
     "data": {
      "text/plain": [
       "4"
      ]
     },
     "execution_count": 17,
     "metadata": {},
     "output_type": "execute_result"
    }
   ],
   "source": [
    "len(salario_dict)"
   ]
  },
  {
   "cell_type": "code",
   "execution_count": 18,
   "id": "90d12a2c",
   "metadata": {},
   "outputs": [],
   "source": [
    "#Adiciona o salário de Rafael\n",
    "salario_dict['Rafael'] = 1200"
   ]
  },
  {
   "cell_type": "code",
   "execution_count": 19,
   "id": "c5b4caf8",
   "metadata": {},
   "outputs": [
    {
     "data": {
      "text/plain": [
       "{'Pedro': 1000,\n",
       " 'Carlos': 570,\n",
       " 'Ricardo': 2000,\n",
       " 'Letícia': 2500,\n",
       " 'Rafael': 1200}"
      ]
     },
     "execution_count": 19,
     "metadata": {},
     "output_type": "execute_result"
    }
   ],
   "source": [
    "salario_dict"
   ]
  },
  {
   "cell_type": "code",
   "execution_count": 20,
   "id": "cd180ea9",
   "metadata": {},
   "outputs": [
    {
     "data": {
      "text/plain": [
       "5"
      ]
     },
     "execution_count": 20,
     "metadata": {},
     "output_type": "execute_result"
    }
   ],
   "source": [
    "len(salario_dict)"
   ]
  },
  {
   "cell_type": "markdown",
   "id": "120c4ddc",
   "metadata": {},
   "source": [
    "#### Métodos dos dicionários"
   ]
  },
  {
   "cell_type": "code",
   "execution_count": 21,
   "id": "19b4745d",
   "metadata": {},
   "outputs": [
    {
     "data": {
      "text/plain": [
       "dict_keys(['Pedro', 'Carlos', 'Ricardo', 'Letícia', 'Rafael'])"
      ]
     },
     "execution_count": 21,
     "metadata": {},
     "output_type": "execute_result"
    }
   ],
   "source": [
    "#Retorna as chaves do dicionário\n",
    "salario_dict.keys()"
   ]
  },
  {
   "cell_type": "code",
   "execution_count": 22,
   "id": "c3763919",
   "metadata": {},
   "outputs": [
    {
     "data": {
      "text/plain": [
       "dict_values([1000, 570, 2000, 2500, 1200])"
      ]
     },
     "execution_count": 22,
     "metadata": {},
     "output_type": "execute_result"
    }
   ],
   "source": [
    "#Retorna os valores do dicionário\n",
    "salario_dict.values()"
   ]
  },
  {
   "cell_type": "code",
   "execution_count": 23,
   "id": "6318480c",
   "metadata": {},
   "outputs": [],
   "source": [
    "#Para juntas 2 dicionários\n",
    "#Dicionário 1 contendo os nome e respectivos pesos (Kg)\n",
    "pesos1 = {'Paulo':57, 'Priscila':65}"
   ]
  },
  {
   "cell_type": "code",
   "execution_count": 25,
   "id": "e70f2ac8",
   "metadata": {},
   "outputs": [],
   "source": [
    "#Dicionário 2 contendo os nomes e respectivos pesos (Kg)\n",
    "pesos2 = {'Débora': 68, 'Jeferson':70}"
   ]
  },
  {
   "cell_type": "code",
   "execution_count": 26,
   "id": "14991000",
   "metadata": {},
   "outputs": [],
   "source": [
    "#Agrupa dicionário peso2 em peso1\n",
    "pesos1.update(pesos2)"
   ]
  },
  {
   "cell_type": "code",
   "execution_count": 27,
   "id": "d925071d",
   "metadata": {},
   "outputs": [
    {
     "data": {
      "text/plain": [
       "{'Paulo': 57, 'Priscila': 65, 'Débora': 68, 'Jeferson': 70}"
      ]
     },
     "execution_count": 27,
     "metadata": {},
     "output_type": "execute_result"
    }
   ],
   "source": [
    "pesos1"
   ]
  },
  {
   "cell_type": "code",
   "execution_count": 28,
   "id": "9a92dedc",
   "metadata": {},
   "outputs": [],
   "source": [
    "#Deleta a chave Paulo com seu respectivo valor\n",
    "del pesos1['Paulo']"
   ]
  },
  {
   "cell_type": "code",
   "execution_count": 29,
   "id": "731f1945",
   "metadata": {},
   "outputs": [
    {
     "data": {
      "text/plain": [
       "{'Priscila': 65, 'Débora': 68, 'Jeferson': 70}"
      ]
     },
     "execution_count": 29,
     "metadata": {},
     "output_type": "execute_result"
    }
   ],
   "source": [
    "pesos1"
   ]
  },
  {
   "cell_type": "code",
   "execution_count": 30,
   "id": "f8b07a0e",
   "metadata": {},
   "outputs": [],
   "source": [
    "#Limpa todo o dicionário\n",
    "pesos1.clear()"
   ]
  },
  {
   "cell_type": "code",
   "execution_count": 31,
   "id": "27f9dc8c",
   "metadata": {},
   "outputs": [
    {
     "data": {
      "text/plain": [
       "{}"
      ]
     },
     "execution_count": 31,
     "metadata": {},
     "output_type": "execute_result"
    }
   ],
   "source": [
    "pesos1"
   ]
  },
  {
   "cell_type": "code",
   "execution_count": 32,
   "id": "225b105d",
   "metadata": {},
   "outputs": [],
   "source": [
    "#Deleta o dicionário pesos2 - não apenas o conteúdo\n",
    "#como é feito com o método .clear()\n",
    "del pesos2"
   ]
  },
  {
   "cell_type": "code",
   "execution_count": 33,
   "id": "cd05fd3b",
   "metadata": {},
   "outputs": [
    {
     "ename": "NameError",
     "evalue": "name 'pesos2' is not defined",
     "output_type": "error",
     "traceback": [
      "\u001b[0;31m---------------------------------------------------------------------------\u001b[0m",
      "\u001b[0;31mNameError\u001b[0m                                 Traceback (most recent call last)",
      "\u001b[0;32m/tmp/ipykernel_8014/976176657.py\u001b[0m in \u001b[0;36m<module>\u001b[0;34m\u001b[0m\n\u001b[0;32m----> 1\u001b[0;31m \u001b[0mpesos2\u001b[0m \u001b[0;31m#teremos um erro, pois não existe mais a variável na memória\u001b[0m\u001b[0;34m\u001b[0m\u001b[0;34m\u001b[0m\u001b[0m\n\u001b[0m",
      "\u001b[0;31mNameError\u001b[0m: name 'pesos2' is not defined"
     ]
    }
   ],
   "source": [
    "pesos2 #teremos um erro, pois não existe mais a variável na memória"
   ]
  },
  {
   "cell_type": "code",
   "execution_count": 34,
   "id": "dcf1a841",
   "metadata": {},
   "outputs": [],
   "source": [
    "#Dicionário misto\n",
    "dicionario = {'Maria':53,77:'João','Nome':'Silva'}"
   ]
  },
  {
   "cell_type": "code",
   "execution_count": 35,
   "id": "e676ddca",
   "metadata": {},
   "outputs": [
    {
     "data": {
      "text/plain": [
       "{'Maria': 53, 77: 'João', 'Nome': 'Silva'}"
      ]
     },
     "execution_count": 35,
     "metadata": {},
     "output_type": "execute_result"
    }
   ],
   "source": [
    "dicionario"
   ]
  },
  {
   "cell_type": "code",
   "execution_count": 36,
   "id": "f71af5b5",
   "metadata": {},
   "outputs": [
    {
     "data": {
      "text/plain": [
       "53"
      ]
     },
     "execution_count": 36,
     "metadata": {},
     "output_type": "execute_result"
    }
   ],
   "source": [
    "#Acesssando o valor a partir da chave Maria\n",
    "dicionario['Maria']"
   ]
  },
  {
   "cell_type": "code",
   "execution_count": 37,
   "id": "ac35a981",
   "metadata": {},
   "outputs": [
    {
     "data": {
      "text/plain": [
       "'João'"
      ]
     },
     "execution_count": 37,
     "metadata": {},
     "output_type": "execute_result"
    }
   ],
   "source": [
    "#Acessando o valor a partir da chave 77\n",
    "dicionario[77]"
   ]
  },
  {
   "cell_type": "code",
   "execution_count": 38,
   "id": "dbd46ed1",
   "metadata": {},
   "outputs": [
    {
     "data": {
      "text/plain": [
       "'Silva'"
      ]
     },
     "execution_count": 38,
     "metadata": {},
     "output_type": "execute_result"
    }
   ],
   "source": [
    "#Acessando o valor a partir da chave Nome\n",
    "dicionario['Nome']"
   ]
  },
  {
   "cell_type": "code",
   "execution_count": 40,
   "id": "fef17f1b",
   "metadata": {},
   "outputs": [],
   "source": [
    "#Criar dicionário de listas\n",
    "dic1 = {'chaves1':231,'chaves2':[3,4,5,3],'chaves3':['seg','ter','qua','qui','sex','sab','dom']}"
   ]
  },
  {
   "cell_type": "code",
   "execution_count": 41,
   "id": "1d0342fe",
   "metadata": {},
   "outputs": [
    {
     "data": {
      "text/plain": [
       "{'chaves1': 231,\n",
       " 'chaves2': [3, 4, 5, 3],\n",
       " 'chaves3': ['seg', 'ter', 'qua', 'qui', 'sex', 'sab', 'dom']}"
      ]
     },
     "execution_count": 41,
     "metadata": {},
     "output_type": "execute_result"
    }
   ],
   "source": [
    "dic1"
   ]
  },
  {
   "cell_type": "code",
   "execution_count": 42,
   "id": "64c5d456",
   "metadata": {},
   "outputs": [],
   "source": [
    "#Dicionários aninhados\n",
    "dic2 = {'c1':1,'c2':77,'c3':{'d1':10,'d2':5,'d3':17}}"
   ]
  },
  {
   "cell_type": "code",
   "execution_count": 43,
   "id": "c6a79116",
   "metadata": {},
   "outputs": [
    {
     "data": {
      "text/plain": [
       "{'c1': 1, 'c2': 77, 'c3': {'d1': 10, 'd2': 5, 'd3': 17}}"
      ]
     },
     "execution_count": 43,
     "metadata": {},
     "output_type": "execute_result"
    }
   ],
   "source": [
    "dic2"
   ]
  },
  {
   "cell_type": "code",
   "execution_count": 44,
   "id": "da88ab6e",
   "metadata": {},
   "outputs": [
    {
     "data": {
      "text/plain": [
       "{'d1': 10, 'd2': 5, 'd3': 17}"
      ]
     },
     "execution_count": 44,
     "metadata": {},
     "output_type": "execute_result"
    }
   ],
   "source": [
    "dic2['c3']"
   ]
  },
  {
   "cell_type": "code",
   "execution_count": 45,
   "id": "b587d1ab",
   "metadata": {},
   "outputs": [
    {
     "data": {
      "text/plain": [
       "dict"
      ]
     },
     "execution_count": 45,
     "metadata": {},
     "output_type": "execute_result"
    }
   ],
   "source": [
    "type(dic2['c3'])"
   ]
  },
  {
   "cell_type": "markdown",
   "id": "cfd93211",
   "metadata": {},
   "source": [
    "### Tuplas"
   ]
  },
  {
   "cell_type": "code",
   "execution_count": 46,
   "id": "72687a2d",
   "metadata": {},
   "outputs": [],
   "source": [
    "#Definição de uma tupla sem parênteses\n",
    "tupla1 = 'a','b','c','d','e'"
   ]
  },
  {
   "cell_type": "code",
   "execution_count": 47,
   "id": "33dbe699",
   "metadata": {},
   "outputs": [
    {
     "data": {
      "text/plain": [
       "('a', 'b', 'c', 'd', 'e')"
      ]
     },
     "execution_count": 47,
     "metadata": {},
     "output_type": "execute_result"
    }
   ],
   "source": [
    "tupla1"
   ]
  },
  {
   "cell_type": "code",
   "execution_count": 48,
   "id": "1ff95330",
   "metadata": {},
   "outputs": [
    {
     "data": {
      "text/plain": [
       "tuple"
      ]
     },
     "execution_count": 48,
     "metadata": {},
     "output_type": "execute_result"
    }
   ],
   "source": [
    "type(tupla1)"
   ]
  },
  {
   "cell_type": "code",
   "execution_count": 49,
   "id": "51f78628",
   "metadata": {},
   "outputs": [],
   "source": [
    "#Definição de uma tupla com parêntese\n",
    "tupla2 = ('a','b','c','d','e')"
   ]
  },
  {
   "cell_type": "code",
   "execution_count": 50,
   "id": "cc1da816",
   "metadata": {},
   "outputs": [
    {
     "data": {
      "text/plain": [
       "('a', 'b', 'c', 'd', 'e')"
      ]
     },
     "execution_count": 50,
     "metadata": {},
     "output_type": "execute_result"
    }
   ],
   "source": [
    "tupla2"
   ]
  },
  {
   "cell_type": "code",
   "execution_count": 51,
   "id": "7b827355",
   "metadata": {},
   "outputs": [
    {
     "data": {
      "text/plain": [
       "tuple"
      ]
     },
     "execution_count": 51,
     "metadata": {},
     "output_type": "execute_result"
    }
   ],
   "source": [
    "type(tupla2)"
   ]
  },
  {
   "cell_type": "code",
   "execution_count": 52,
   "id": "357cb95e",
   "metadata": {},
   "outputs": [],
   "source": [
    "#Obs: tuplas são imutáveis\n",
    "tupla = (11,1.5,154,77,'Maria')"
   ]
  },
  {
   "cell_type": "code",
   "execution_count": 53,
   "id": "62b40e45",
   "metadata": {},
   "outputs": [
    {
     "data": {
      "text/plain": [
       "(11, 1.5, 154, 77, 'Maria')"
      ]
     },
     "execution_count": 53,
     "metadata": {},
     "output_type": "execute_result"
    }
   ],
   "source": [
    "tupla"
   ]
  },
  {
   "cell_type": "code",
   "execution_count": 54,
   "id": "f708584c",
   "metadata": {},
   "outputs": [
    {
     "data": {
      "text/plain": [
       "154"
      ]
     },
     "execution_count": 54,
     "metadata": {},
     "output_type": "execute_result"
    }
   ],
   "source": [
    "tupla[2]"
   ]
  },
  {
   "cell_type": "code",
   "execution_count": 55,
   "id": "2e2afeee",
   "metadata": {},
   "outputs": [
    {
     "ename": "TypeError",
     "evalue": "'tuple' object doesn't support item deletion",
     "output_type": "error",
     "traceback": [
      "\u001b[0;31m---------------------------------------------------------------------------\u001b[0m",
      "\u001b[0;31mTypeError\u001b[0m                                 Traceback (most recent call last)",
      "\u001b[0;32m/tmp/ipykernel_8014/2034536023.py\u001b[0m in \u001b[0;36m<module>\u001b[0;34m\u001b[0m\n\u001b[1;32m      1\u001b[0m \u001b[0;31m#não é possível deletar um elemento de uma tupla\u001b[0m\u001b[0;34m\u001b[0m\u001b[0;34m\u001b[0m\u001b[0;34m\u001b[0m\u001b[0m\n\u001b[0;32m----> 2\u001b[0;31m \u001b[0;32mdel\u001b[0m \u001b[0mtupla\u001b[0m\u001b[0;34m[\u001b[0m\u001b[0;36m1\u001b[0m\u001b[0;34m]\u001b[0m\u001b[0;34m\u001b[0m\u001b[0;34m\u001b[0m\u001b[0m\n\u001b[0m",
      "\u001b[0;31mTypeError\u001b[0m: 'tuple' object doesn't support item deletion"
     ]
    }
   ],
   "source": [
    "#não é possível deletar um elemento de uma tupla\n",
    "del tupla[1]"
   ]
  },
  {
   "cell_type": "code",
   "execution_count": 56,
   "id": "b6c96210",
   "metadata": {},
   "outputs": [],
   "source": [
    "#Mas podemos deletar a tupla inteira\n",
    "del tupla"
   ]
  },
  {
   "cell_type": "code",
   "execution_count": 57,
   "id": "7f68727d",
   "metadata": {},
   "outputs": [
    {
     "ename": "NameError",
     "evalue": "name 'tupla' is not defined",
     "output_type": "error",
     "traceback": [
      "\u001b[0;31m---------------------------------------------------------------------------\u001b[0m",
      "\u001b[0;31mNameError\u001b[0m                                 Traceback (most recent call last)",
      "\u001b[0;32m/tmp/ipykernel_8014/3236752088.py\u001b[0m in \u001b[0;36m<module>\u001b[0;34m\u001b[0m\n\u001b[0;32m----> 1\u001b[0;31m \u001b[0mtupla\u001b[0m \u001b[0;31m#mostrará um erro porque a tupla não existe mais na memória\u001b[0m\u001b[0;34m\u001b[0m\u001b[0;34m\u001b[0m\u001b[0m\n\u001b[0m",
      "\u001b[0;31mNameError\u001b[0m: name 'tupla' is not defined"
     ]
    }
   ],
   "source": [
    "tupla #mostrará um erro porque a tupla não existe mais na memória"
   ]
  },
  {
   "cell_type": "code",
   "execution_count": 58,
   "id": "5e93becd",
   "metadata": {},
   "outputs": [],
   "source": [
    "#Também não é possível adicionar outro item a tupla\n",
    "tupla = 1,2,3"
   ]
  },
  {
   "cell_type": "code",
   "execution_count": 59,
   "id": "14b60be8",
   "metadata": {},
   "outputs": [
    {
     "data": {
      "text/plain": [
       "(1, 2, 3)"
      ]
     },
     "execution_count": 59,
     "metadata": {},
     "output_type": "execute_result"
    }
   ],
   "source": [
    "tupla"
   ]
  },
  {
   "cell_type": "code",
   "execution_count": 60,
   "id": "75d9c14c",
   "metadata": {},
   "outputs": [
    {
     "ename": "TypeError",
     "evalue": "'tuple' object does not support item assignment",
     "output_type": "error",
     "traceback": [
      "\u001b[0;31m---------------------------------------------------------------------------\u001b[0m",
      "\u001b[0;31mTypeError\u001b[0m                                 Traceback (most recent call last)",
      "\u001b[0;32m/tmp/ipykernel_8014/3835333966.py\u001b[0m in \u001b[0;36m<module>\u001b[0;34m\u001b[0m\n\u001b[0;32m----> 1\u001b[0;31m \u001b[0mtupla\u001b[0m\u001b[0;34m[\u001b[0m\u001b[0;36m3\u001b[0m\u001b[0;34m]\u001b[0m \u001b[0;34m=\u001b[0m \u001b[0;36m4\u001b[0m\u001b[0;34m\u001b[0m\u001b[0;34m\u001b[0m\u001b[0m\n\u001b[0m",
      "\u001b[0;31mTypeError\u001b[0m: 'tuple' object does not support item assignment"
     ]
    }
   ],
   "source": [
    "tupla[3] = 4 #exibe um erro porque a tupla é imutável e não aceita adicionar item"
   ]
  },
  {
   "cell_type": "code",
   "execution_count": 61,
   "id": "9e37b9e3",
   "metadata": {},
   "outputs": [],
   "source": [
    "#Para fazer alterações numa tupla é possível transformá-la numa lista\n",
    "lis1 = list(tupla)"
   ]
  },
  {
   "cell_type": "code",
   "execution_count": 62,
   "id": "4bf85a3c",
   "metadata": {},
   "outputs": [],
   "source": [
    "#Adicionar o valor a lista\n",
    "lis1.append(4)"
   ]
  },
  {
   "cell_type": "code",
   "execution_count": 63,
   "id": "156b37fc",
   "metadata": {},
   "outputs": [],
   "source": [
    "#Transformar a lista em tupla\n",
    "tupla = tuple(lis1)"
   ]
  },
  {
   "cell_type": "code",
   "execution_count": 64,
   "id": "8f7463a0",
   "metadata": {},
   "outputs": [
    {
     "data": {
      "text/plain": [
       "(1, 2, 3, 4)"
      ]
     },
     "execution_count": 64,
     "metadata": {},
     "output_type": "execute_result"
    }
   ],
   "source": [
    "tupla"
   ]
  },
  {
   "cell_type": "markdown",
   "id": "2fa4eb38",
   "metadata": {},
   "source": [
    "### Vetores e matrizes"
   ]
  },
  {
   "cell_type": "code",
   "execution_count": 66,
   "id": "9065cf4d",
   "metadata": {},
   "outputs": [],
   "source": [
    "import numpy as np #para trabalhar com arrays é necessário usar a biblioteca NumPy"
   ]
  },
  {
   "cell_type": "code",
   "execution_count": 67,
   "id": "ab861398",
   "metadata": {},
   "outputs": [],
   "source": [
    "#Criar um vetor\n",
    "vet1 = np.array([1,2,3,4])"
   ]
  },
  {
   "cell_type": "code",
   "execution_count": 68,
   "id": "ad3418aa",
   "metadata": {},
   "outputs": [
    {
     "data": {
      "text/plain": [
       "array([1, 2, 3, 4])"
      ]
     },
     "execution_count": 68,
     "metadata": {},
     "output_type": "execute_result"
    }
   ],
   "source": [
    "vet1"
   ]
  },
  {
   "cell_type": "code",
   "execution_count": 69,
   "id": "bdb88982",
   "metadata": {},
   "outputs": [
    {
     "data": {
      "text/plain": [
       "numpy.ndarray"
      ]
     },
     "execution_count": 69,
     "metadata": {},
     "output_type": "execute_result"
    }
   ],
   "source": [
    "type(vet1)"
   ]
  },
  {
   "cell_type": "code",
   "execution_count": 70,
   "id": "43329d8f",
   "metadata": {},
   "outputs": [],
   "source": [
    "#Array não aceita tipos diferentes de int, float ou double\n",
    "vet2 = np.array([1,2,3,'4']) #tentando adicionar str '4'"
   ]
  },
  {
   "cell_type": "code",
   "execution_count": 71,
   "id": "8a49b7fb",
   "metadata": {},
   "outputs": [
    {
     "data": {
      "text/plain": [
       "array(['1', '2', '3', '4'], dtype='<U21')"
      ]
     },
     "execution_count": 71,
     "metadata": {},
     "output_type": "execute_result"
    }
   ],
   "source": [
    "#Ao fazer isso, o python transforma todos os elementos em strings\n",
    "vet2"
   ]
  },
  {
   "cell_type": "code",
   "execution_count": 72,
   "id": "e8c4ca70",
   "metadata": {},
   "outputs": [
    {
     "data": {
      "text/plain": [
       "'2'"
      ]
     },
     "execution_count": 72,
     "metadata": {},
     "output_type": "execute_result"
    }
   ],
   "source": [
    "vet2[1]"
   ]
  },
  {
   "cell_type": "code",
   "execution_count": 73,
   "id": "c5f8d4ee",
   "metadata": {},
   "outputs": [
    {
     "data": {
      "text/plain": [
       "numpy.str_"
      ]
     },
     "execution_count": 73,
     "metadata": {},
     "output_type": "execute_result"
    }
   ],
   "source": [
    "type(vet2[1])"
   ]
  },
  {
   "cell_type": "code",
   "execution_count": 74,
   "id": "50130e0e",
   "metadata": {},
   "outputs": [],
   "source": [
    "#Por que o python não transformou o '4' em número?\n",
    "vet3 = np.array([7,8,9,'a'])"
   ]
  },
  {
   "cell_type": "code",
   "execution_count": 75,
   "id": "c394d8e5",
   "metadata": {},
   "outputs": [
    {
     "data": {
      "text/plain": [
       "array(['7', '8', '9', 'a'], dtype='<U21')"
      ]
     },
     "execution_count": 75,
     "metadata": {},
     "output_type": "execute_result"
    }
   ],
   "source": [
    "#Porque não seria possível transformar 'a' em número\n",
    "vet3"
   ]
  },
  {
   "cell_type": "code",
   "execution_count": 76,
   "id": "dbdd8e61",
   "metadata": {},
   "outputs": [
    {
     "data": {
      "text/plain": [
       "numpy.str_"
      ]
     },
     "execution_count": 76,
     "metadata": {},
     "output_type": "execute_result"
    }
   ],
   "source": [
    "type(vet3[0])"
   ]
  },
  {
   "cell_type": "code",
   "execution_count": 79,
   "id": "9042afc7",
   "metadata": {},
   "outputs": [],
   "source": [
    "#Matrizes\n",
    "#Define uma matrix com 2 linhas e 3 colunas\n",
    "a = np.array([[1,2,3],[3,4,5]])"
   ]
  },
  {
   "cell_type": "code",
   "execution_count": 80,
   "id": "67a5bbeb",
   "metadata": {},
   "outputs": [],
   "source": [
    "a2 = np.matrix([[1,2,3],[3,4,5]])"
   ]
  },
  {
   "cell_type": "code",
   "execution_count": 81,
   "id": "5820b6bb",
   "metadata": {},
   "outputs": [
    {
     "data": {
      "text/plain": [
       "numpy.ndarray"
      ]
     },
     "execution_count": 81,
     "metadata": {},
     "output_type": "execute_result"
    }
   ],
   "source": [
    "type(a)"
   ]
  },
  {
   "cell_type": "code",
   "execution_count": 82,
   "id": "11224442",
   "metadata": {},
   "outputs": [
    {
     "data": {
      "text/plain": [
       "numpy.matrix"
      ]
     },
     "execution_count": 82,
     "metadata": {},
     "output_type": "execute_result"
    }
   ],
   "source": [
    "type(a2)"
   ]
  },
  {
   "cell_type": "code",
   "execution_count": 83,
   "id": "822850da",
   "metadata": {},
   "outputs": [
    {
     "data": {
      "text/plain": [
       "array([[1, 2, 3],\n",
       "       [3, 4, 5]])"
      ]
     },
     "execution_count": 83,
     "metadata": {},
     "output_type": "execute_result"
    }
   ],
   "source": [
    "a"
   ]
  },
  {
   "cell_type": "code",
   "execution_count": 84,
   "id": "f871f580",
   "metadata": {},
   "outputs": [
    {
     "data": {
      "text/plain": [
       "matrix([[1, 2, 3],\n",
       "        [3, 4, 5]])"
      ]
     },
     "execution_count": 84,
     "metadata": {},
     "output_type": "execute_result"
    }
   ],
   "source": [
    "a2"
   ]
  },
  {
   "cell_type": "code",
   "execution_count": 85,
   "id": "fb81cab1",
   "metadata": {},
   "outputs": [
    {
     "data": {
      "text/plain": [
       "5"
      ]
     },
     "execution_count": 85,
     "metadata": {},
     "output_type": "execute_result"
    }
   ],
   "source": [
    "#Para obter elementos e fatias das matrizes\n",
    "#Acessar elemento da linha 2 e coluna 3\n",
    "a[1,2]"
   ]
  },
  {
   "cell_type": "code",
   "execution_count": 86,
   "id": "a3876110",
   "metadata": {},
   "outputs": [
    {
     "data": {
      "text/plain": [
       "array([1, 2, 3])"
      ]
     },
     "execution_count": 86,
     "metadata": {},
     "output_type": "execute_result"
    }
   ],
   "source": [
    "#Obter todos os elementos da linha 1\n",
    "a[0,:]"
   ]
  },
  {
   "cell_type": "code",
   "execution_count": 87,
   "id": "4a1b5e6a",
   "metadata": {},
   "outputs": [
    {
     "data": {
      "text/plain": [
       "matrix([[2],\n",
       "        [4]])"
      ]
     },
     "execution_count": 87,
     "metadata": {},
     "output_type": "execute_result"
    }
   ],
   "source": [
    "#Obter os elementos da coluna 2\n",
    "a2[:,1]"
   ]
  },
  {
   "cell_type": "code",
   "execution_count": 88,
   "id": "68ec9f8f",
   "metadata": {},
   "outputs": [],
   "source": [
    "#comportamento de manter o tipo de elementos\n",
    "b = np.array([[1,2,3],[3,4,'5']])"
   ]
  },
  {
   "cell_type": "code",
   "execution_count": 89,
   "id": "23e73c04",
   "metadata": {},
   "outputs": [
    {
     "data": {
      "text/plain": [
       "array([['1', '2', '3'],\n",
       "       ['3', '4', '5']], dtype='<U21')"
      ]
     },
     "execution_count": 89,
     "metadata": {},
     "output_type": "execute_result"
    }
   ],
   "source": [
    "b"
   ]
  },
  {
   "cell_type": "code",
   "execution_count": 90,
   "id": "21c226ca",
   "metadata": {},
   "outputs": [
    {
     "data": {
      "text/plain": [
       "numpy.str_"
      ]
     },
     "execution_count": 90,
     "metadata": {},
     "output_type": "execute_result"
    }
   ],
   "source": [
    "#O pyhton transformou todos os elementos em string\n",
    "type(b[0][0])"
   ]
  },
  {
   "cell_type": "code",
   "execution_count": 91,
   "id": "645012d2",
   "metadata": {},
   "outputs": [],
   "source": [
    "#Operações com vetores e matrizes"
   ]
  },
  {
   "cell_type": "code",
   "execution_count": 92,
   "id": "34805a02",
   "metadata": {},
   "outputs": [],
   "source": [
    "#Defina o vetor\n",
    "v = np.array([11,22,33])"
   ]
  },
  {
   "cell_type": "code",
   "execution_count": 96,
   "id": "2afff00b",
   "metadata": {},
   "outputs": [],
   "source": [
    "a = np.array([[1,2,3],[4,5,6]])"
   ]
  },
  {
   "cell_type": "code",
   "execution_count": 97,
   "id": "5139aa28",
   "metadata": {},
   "outputs": [],
   "source": [
    "#Defina a matriz\n",
    "b = np.array([[1,1,1],[2,3,3]])"
   ]
  },
  {
   "cell_type": "code",
   "execution_count": 98,
   "id": "cbf8e2c9",
   "metadata": {},
   "outputs": [],
   "source": [
    "#Soma o vetor com a matriz\n",
    "sva = v + a"
   ]
  },
  {
   "cell_type": "code",
   "execution_count": 99,
   "id": "8e66152b",
   "metadata": {},
   "outputs": [
    {
     "data": {
      "text/plain": [
       "array([[12, 24, 36],\n",
       "       [15, 27, 39]])"
      ]
     },
     "execution_count": 99,
     "metadata": {},
     "output_type": "execute_result"
    }
   ],
   "source": [
    "sva"
   ]
  },
  {
   "cell_type": "code",
   "execution_count": 100,
   "id": "e6a869eb",
   "metadata": {},
   "outputs": [],
   "source": [
    "#O python realiza algumas operação elemento a elemento"
   ]
  },
  {
   "cell_type": "code",
   "execution_count": 101,
   "id": "76c8cc45",
   "metadata": {},
   "outputs": [],
   "source": [
    "#Multiplica o vetor 'v' pela matriz 'a'\n",
    "va = v*a"
   ]
  },
  {
   "cell_type": "code",
   "execution_count": 102,
   "id": "89ea2c07",
   "metadata": {},
   "outputs": [
    {
     "data": {
      "text/plain": [
       "array([[ 11,  44,  99],\n",
       "       [ 44, 110, 198]])"
      ]
     },
     "execution_count": 102,
     "metadata": {},
     "output_type": "execute_result"
    }
   ],
   "source": [
    "va"
   ]
  },
  {
   "cell_type": "code",
   "execution_count": 103,
   "id": "48fca89d",
   "metadata": {},
   "outputs": [],
   "source": [
    "#Soma dos elementos das matrizes\n",
    "c = a+b"
   ]
  },
  {
   "cell_type": "code",
   "execution_count": 104,
   "id": "99a34d08",
   "metadata": {},
   "outputs": [
    {
     "data": {
      "text/plain": [
       "array([[2, 3, 4],\n",
       "       [6, 8, 9]])"
      ]
     },
     "execution_count": 104,
     "metadata": {},
     "output_type": "execute_result"
    }
   ],
   "source": [
    "c"
   ]
  },
  {
   "cell_type": "code",
   "execution_count": 105,
   "id": "e7ed57f4",
   "metadata": {},
   "outputs": [],
   "source": [
    "#Operações com matrizes\n",
    "d = 2*a+b"
   ]
  },
  {
   "cell_type": "code",
   "execution_count": 106,
   "id": "402485df",
   "metadata": {},
   "outputs": [
    {
     "data": {
      "text/plain": [
       "array([[ 3,  5,  7],\n",
       "       [10, 13, 15]])"
      ]
     },
     "execution_count": 106,
     "metadata": {},
     "output_type": "execute_result"
    }
   ],
   "source": [
    "d"
   ]
  },
  {
   "cell_type": "code",
   "execution_count": 107,
   "id": "584fc10c",
   "metadata": {},
   "outputs": [],
   "source": [
    "#Multiplica elementos das matrizes\n",
    "mab = a*b"
   ]
  },
  {
   "cell_type": "code",
   "execution_count": 108,
   "id": "1a3bdb7c",
   "metadata": {},
   "outputs": [
    {
     "data": {
      "text/plain": [
       "array([[ 1,  2,  3],\n",
       "       [ 8, 15, 18]])"
      ]
     },
     "execution_count": 108,
     "metadata": {},
     "output_type": "execute_result"
    }
   ],
   "source": [
    "mab"
   ]
  },
  {
   "cell_type": "code",
   "execution_count": 109,
   "id": "780bbeca",
   "metadata": {},
   "outputs": [
    {
     "ename": "ValueError",
     "evalue": "shapes (2,3) and (2,3) not aligned: 3 (dim 1) != 2 (dim 0)",
     "output_type": "error",
     "traceback": [
      "\u001b[0;31m---------------------------------------------------------------------------\u001b[0m",
      "\u001b[0;31mValueError\u001b[0m                                Traceback (most recent call last)",
      "\u001b[0;32m/tmp/ipykernel_8014/1588920234.py\u001b[0m in \u001b[0;36m<module>\u001b[0;34m\u001b[0m\n\u001b[1;32m      1\u001b[0m \u001b[0;31m#Multplicação matricial\u001b[0m\u001b[0;34m\u001b[0m\u001b[0;34m\u001b[0m\u001b[0;34m\u001b[0m\u001b[0m\n\u001b[0;32m----> 2\u001b[0;31m \u001b[0mdab\u001b[0m \u001b[0;34m=\u001b[0m \u001b[0mnp\u001b[0m\u001b[0;34m.\u001b[0m\u001b[0mdot\u001b[0m\u001b[0;34m(\u001b[0m\u001b[0ma\u001b[0m\u001b[0;34m,\u001b[0m\u001b[0mb\u001b[0m\u001b[0;34m)\u001b[0m \u001b[0;31m#resulta em erro porque não há concordância entre o número de colunas e linhas das duas matrizes\u001b[0m\u001b[0;34m\u001b[0m\u001b[0;34m\u001b[0m\u001b[0m\n\u001b[0m",
      "\u001b[0;32m<__array_function__ internals>\u001b[0m in \u001b[0;36mdot\u001b[0;34m(*args, **kwargs)\u001b[0m\n",
      "\u001b[0;31mValueError\u001b[0m: shapes (2,3) and (2,3) not aligned: 3 (dim 1) != 2 (dim 0)"
     ]
    }
   ],
   "source": [
    "#Multplicação matricial\n",
    "dab = np.dot(a,b) #resulta em erro porque não há concordância entre o número de colunas e linhas das duas matrizes"
   ]
  },
  {
   "cell_type": "code",
   "execution_count": 110,
   "id": "456e96c9",
   "metadata": {},
   "outputs": [],
   "source": [
    "#Para multiplicação matricial devemos ter\n",
    "#nº de colunas de 'a' igual nº de linhas de 'b'\n",
    "dab = np.dot(a,b.T) #b.T -> transposta de 'b' "
   ]
  },
  {
   "cell_type": "code",
   "execution_count": 111,
   "id": "c696f308",
   "metadata": {},
   "outputs": [
    {
     "data": {
      "text/plain": [
       "array([[ 6, 17],\n",
       "       [15, 41]])"
      ]
     },
     "execution_count": 111,
     "metadata": {},
     "output_type": "execute_result"
    }
   ],
   "source": [
    "dab"
   ]
  },
  {
   "cell_type": "code",
   "execution_count": null,
   "id": "08db3178",
   "metadata": {},
   "outputs": [],
   "source": []
  }
 ],
 "metadata": {
  "kernelspec": {
   "display_name": "Python 3 (ipykernel)",
   "language": "python",
   "name": "python3"
  },
  "language_info": {
   "codemirror_mode": {
    "name": "ipython",
    "version": 3
   },
   "file_extension": ".py",
   "mimetype": "text/x-python",
   "name": "python",
   "nbconvert_exporter": "python",
   "pygments_lexer": "ipython3",
   "version": "3.9.1"
  }
 },
 "nbformat": 4,
 "nbformat_minor": 5
}
