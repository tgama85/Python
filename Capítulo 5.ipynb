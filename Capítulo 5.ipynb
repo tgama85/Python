{
 "cells": [
  {
   "cell_type": "markdown",
   "id": "a3459609",
   "metadata": {},
   "source": [
    "<h1 style=\"color: lightblue\">Capítulo 5</h1>\n",
    "<p style =\"color: gray\"><b>I/O de arquivos<b></p>"
   ]
  },
  {
   "cell_type": "code",
   "execution_count": 1,
   "id": "03d3e6e4",
   "metadata": {},
   "outputs": [],
   "source": [
    "# I = Input (entrada)\n",
    "# O = Output (saída)"
   ]
  },
  {
   "cell_type": "code",
   "execution_count": 2,
   "id": "12b5d763",
   "metadata": {},
   "outputs": [],
   "source": [
    "# Modos de manipulação de arquivos:\n",
    "# r - leitura (read)\n",
    "# w - escrita (write)\n",
    "# a - adição (append)\n",
    "# b - binário (modo letura + atualização)"
   ]
  },
  {
   "cell_type": "code",
   "execution_count": 3,
   "id": "778e3b8c",
   "metadata": {},
   "outputs": [],
   "source": [
    "#Ponteiro para um arquivo\n",
    "arq = open('dados_fun_quadraticos.txt', 'w')\n",
    "for linha in range (0,101):\n",
    "    arq.write('%d %d \\n'% (linha,linha**2))\n",
    "arq.close()"
   ]
  },
  {
   "cell_type": "code",
   "execution_count": 4,
   "id": "02cebde4",
   "metadata": {},
   "outputs": [],
   "source": [
    "#Abrir arquivo para leitura apenas\n",
    "arq = open('dados_fun_quadraticos.txt','r')"
   ]
  },
  {
   "cell_type": "code",
   "execution_count": 5,
   "id": "f7d13c33",
   "metadata": {},
   "outputs": [
    {
     "data": {
      "text/plain": [
       "list"
      ]
     },
     "execution_count": 5,
     "metadata": {},
     "output_type": "execute_result"
    }
   ],
   "source": [
    "#O método arquivo .readlines() ler todas as linhas do arq\n",
    "linhas = arq.readlines()\n",
    "type(linhas)"
   ]
  },
  {
   "cell_type": "code",
   "execution_count": 6,
   "id": "ff0ccab0",
   "metadata": {},
   "outputs": [
    {
     "data": {
      "text/plain": [
       "101"
      ]
     },
     "execution_count": 6,
     "metadata": {},
     "output_type": "execute_result"
    }
   ],
   "source": [
    "#Tamanho da lista\n",
    "len(linhas)"
   ]
  },
  {
   "cell_type": "code",
   "execution_count": 8,
   "id": "7e32718b",
   "metadata": {},
   "outputs": [
    {
     "name": "stdout",
     "output_type": "stream",
     "text": [
      "0 0 \n",
      "\n",
      "1 1 \n",
      "\n",
      "2 4 \n",
      "\n",
      "3 9 \n",
      "\n",
      "4 16 \n",
      "\n",
      "5 25 \n",
      "\n",
      "6 36 \n",
      "\n",
      "7 49 \n",
      "\n",
      "8 64 \n",
      "\n",
      "9 81 \n",
      "\n",
      "10 100 \n",
      "\n",
      "11 121 \n",
      "\n",
      "12 144 \n",
      "\n",
      "13 169 \n",
      "\n",
      "14 196 \n",
      "\n",
      "15 225 \n",
      "\n",
      "16 256 \n",
      "\n",
      "17 289 \n",
      "\n",
      "18 324 \n",
      "\n",
      "19 361 \n",
      "\n",
      "20 400 \n",
      "\n",
      "21 441 \n",
      "\n",
      "22 484 \n",
      "\n",
      "23 529 \n",
      "\n",
      "24 576 \n",
      "\n",
      "25 625 \n",
      "\n",
      "26 676 \n",
      "\n",
      "27 729 \n",
      "\n",
      "28 784 \n",
      "\n",
      "29 841 \n",
      "\n",
      "30 900 \n",
      "\n",
      "31 961 \n",
      "\n",
      "32 1024 \n",
      "\n",
      "33 1089 \n",
      "\n",
      "34 1156 \n",
      "\n",
      "35 1225 \n",
      "\n",
      "36 1296 \n",
      "\n",
      "37 1369 \n",
      "\n",
      "38 1444 \n",
      "\n",
      "39 1521 \n",
      "\n",
      "40 1600 \n",
      "\n",
      "41 1681 \n",
      "\n",
      "42 1764 \n",
      "\n",
      "43 1849 \n",
      "\n",
      "44 1936 \n",
      "\n",
      "45 2025 \n",
      "\n",
      "46 2116 \n",
      "\n",
      "47 2209 \n",
      "\n",
      "48 2304 \n",
      "\n",
      "49 2401 \n",
      "\n",
      "50 2500 \n",
      "\n",
      "51 2601 \n",
      "\n",
      "52 2704 \n",
      "\n",
      "53 2809 \n",
      "\n",
      "54 2916 \n",
      "\n",
      "55 3025 \n",
      "\n",
      "56 3136 \n",
      "\n",
      "57 3249 \n",
      "\n",
      "58 3364 \n",
      "\n",
      "59 3481 \n",
      "\n",
      "60 3600 \n",
      "\n",
      "61 3721 \n",
      "\n",
      "62 3844 \n",
      "\n",
      "63 3969 \n",
      "\n",
      "64 4096 \n",
      "\n",
      "65 4225 \n",
      "\n",
      "66 4356 \n",
      "\n",
      "67 4489 \n",
      "\n",
      "68 4624 \n",
      "\n",
      "69 4761 \n",
      "\n",
      "70 4900 \n",
      "\n",
      "71 5041 \n",
      "\n",
      "72 5184 \n",
      "\n",
      "73 5329 \n",
      "\n",
      "74 5476 \n",
      "\n",
      "75 5625 \n",
      "\n",
      "76 5776 \n",
      "\n",
      "77 5929 \n",
      "\n",
      "78 6084 \n",
      "\n",
      "79 6241 \n",
      "\n",
      "80 6400 \n",
      "\n",
      "81 6561 \n",
      "\n",
      "82 6724 \n",
      "\n",
      "83 6889 \n",
      "\n",
      "84 7056 \n",
      "\n",
      "85 7225 \n",
      "\n",
      "86 7396 \n",
      "\n",
      "87 7569 \n",
      "\n",
      "88 7744 \n",
      "\n",
      "89 7921 \n",
      "\n",
      "90 8100 \n",
      "\n",
      "91 8281 \n",
      "\n",
      "92 8464 \n",
      "\n",
      "93 8649 \n",
      "\n",
      "94 8836 \n",
      "\n",
      "95 9025 \n",
      "\n",
      "96 9216 \n",
      "\n",
      "97 9409 \n",
      "\n",
      "98 9604 \n",
      "\n",
      "99 9801 \n",
      "\n",
      "100 10000 \n",
      "\n"
     ]
    }
   ],
   "source": [
    "#Lendo os valores das linhas com loop\n",
    "for linha in linhas:\n",
    "    print(linha)\n",
    "arq.close() # o método .close() fecha o arq"
   ]
  },
  {
   "cell_type": "code",
   "execution_count": 11,
   "id": "6462e699",
   "metadata": {},
   "outputs": [],
   "source": [
    "#Abrir arquivo no modo append\n",
    "arq = open('dados_fun_quadraticos.txt', 'a')"
   ]
  },
  {
   "cell_type": "code",
   "execution_count": 12,
   "id": "40d31378",
   "metadata": {},
   "outputs": [],
   "source": [
    "for i in range(1,7):\n",
    "    arq.write('%d \\n' % i)\n",
    "arq.close()\n",
    "#Após executar, abra o arquico e confira 6 linhas a\n",
    "#mais com números de 1 a 6 ordenados"
   ]
  },
  {
   "cell_type": "code",
   "execution_count": null,
   "id": "c941ac4d",
   "metadata": {},
   "outputs": [],
   "source": []
  }
 ],
 "metadata": {
  "kernelspec": {
   "display_name": "Python 3 (ipykernel)",
   "language": "python",
   "name": "python3"
  },
  "language_info": {
   "codemirror_mode": {
    "name": "ipython",
    "version": 3
   },
   "file_extension": ".py",
   "mimetype": "text/x-python",
   "name": "python",
   "nbconvert_exporter": "python",
   "pygments_lexer": "ipython3",
   "version": "3.9.1"
  }
 },
 "nbformat": 4,
 "nbformat_minor": 5
}
