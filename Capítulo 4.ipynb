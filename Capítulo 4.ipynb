{
 "cells": [
  {
   "cell_type": "markdown",
   "id": "74f74186",
   "metadata": {},
   "source": [
    "<h1 style=\"color: lightblue\">Capítulo 4</h1>\n",
    "<p style=\"color:gray\"><b>Funções<b></p>"
   ]
  },
  {
   "cell_type": "code",
   "execution_count": 2,
   "id": "ae81e530",
   "metadata": {},
   "outputs": [],
   "source": [
    "#Algumas funções já usadas: len(), range(), list()\n",
    "#Criando uma função calculadora"
   ]
  },
  {
   "cell_type": "code",
   "execution_count": 3,
   "id": "d47cc6ab",
   "metadata": {},
   "outputs": [],
   "source": [
    "def soma(a,b):\n",
    "    return a+b\n",
    "def subtrai(a,b):\n",
    "    return a-b\n",
    "def multiplica(a,b):\n",
    "    return a*b\n",
    "def divide(a,b):\n",
    "    if b != 0:\n",
    "        return a/b\n",
    "    else:\n",
    "        return 'Erro: divisão por zero!'"
   ]
  },
  {
   "cell_type": "code",
   "execution_count": 4,
   "id": "992e753a",
   "metadata": {},
   "outputs": [
    {
     "name": "stdout",
     "output_type": "stream",
     "text": [
      "Soma de x com y:  30\n",
      "Subtração de x com y:  -10\n",
      "Multiplicação de x com y:  200\n",
      "Divisão de x com y:  0.5\n"
     ]
    }
   ],
   "source": [
    "x = 10\n",
    "y = 20\n",
    "\n",
    "print('Soma de x com y: ',soma(x,y))\n",
    "print('Subtração de x com y: ',subtrai(x,y))\n",
    "print('Multiplicação de x com y: ',multiplica(x,y))\n",
    "print('Divisão de x com y: ',divide(x,y))"
   ]
  },
  {
   "cell_type": "code",
   "execution_count": 5,
   "id": "50a2b3fc",
   "metadata": {},
   "outputs": [],
   "source": [
    "#A função pode não ter nenhum parâmetro de entrada e retorno"
   ]
  },
  {
   "cell_type": "code",
   "execution_count": 6,
   "id": "c6195dc0",
   "metadata": {},
   "outputs": [],
   "source": [
    "def ola_mundo():\n",
    "    print('Olá mundo!')"
   ]
  },
  {
   "cell_type": "code",
   "execution_count": 7,
   "id": "f53aba37",
   "metadata": {},
   "outputs": [
    {
     "name": "stdout",
     "output_type": "stream",
     "text": [
      "Olá mundo!\n"
     ]
    }
   ],
   "source": [
    "ola_mundo()"
   ]
  },
  {
   "cell_type": "markdown",
   "id": "12c65e74",
   "metadata": {},
   "source": [
    "### Variáveis locais e globais - funções"
   ]
  },
  {
   "cell_type": "code",
   "execution_count": 8,
   "id": "ff216114",
   "metadata": {},
   "outputs": [],
   "source": [
    "#Variáveis declaradas dentro de funções têm escopo local\n",
    "#Variáveis no coropo do código têm escopo global"
   ]
  },
  {
   "cell_type": "code",
   "execution_count": 9,
   "id": "ad414c90",
   "metadata": {},
   "outputs": [],
   "source": [
    "#Variável global\n",
    "\n",
    "var_resp = 7\n",
    "\n",
    "def soma_dois_numeros(a,b):\n",
    "    #var_resp = variável local\n",
    "    #serve apenas par ao contexto da função\n",
    "    var_resp = a + b\n",
    "    return(var_resp) #resultado da soma na função"
   ]
  },
  {
   "cell_type": "code",
   "execution_count": 10,
   "id": "ca86236c",
   "metadata": {},
   "outputs": [
    {
     "data": {
      "text/plain": [
       "23"
      ]
     },
     "execution_count": 10,
     "metadata": {},
     "output_type": "execute_result"
    }
   ],
   "source": [
    "soma_dois_numeros(3,20)"
   ]
  },
  {
   "cell_type": "code",
   "execution_count": 11,
   "id": "ce08746b",
   "metadata": {},
   "outputs": [
    {
     "name": "stdout",
     "output_type": "stream",
     "text": [
      "7\n"
     ]
    }
   ],
   "source": [
    "#Mostrar a var_resp\n",
    "print(var_resp) #variável global"
   ]
  },
  {
   "cell_type": "code",
   "execution_count": 12,
   "id": "7e0ceaed",
   "metadata": {},
   "outputs": [],
   "source": [
    "#Evite usar mesmo nome para variáveis globais e locais"
   ]
  },
  {
   "cell_type": "code",
   "execution_count": 13,
   "id": "f8bd0a30",
   "metadata": {},
   "outputs": [],
   "source": [
    "#Variável global\n",
    "var_resp = 7\n",
    "\n",
    "def soma_dois_numeros(a,b):\n",
    "    #var_resp = variável local\n",
    "    #serve apenas par ao contexto da função\n",
    "    var_resp_loc = a + b\n",
    "    return(var_resp_loc)"
   ]
  },
  {
   "cell_type": "code",
   "execution_count": 14,
   "id": "204cfde0",
   "metadata": {},
   "outputs": [
    {
     "ename": "NameError",
     "evalue": "name 'var_resp_loc' is not defined",
     "output_type": "error",
     "traceback": [
      "\u001b[0;31m---------------------------------------------------------------------------\u001b[0m",
      "\u001b[0;31mNameError\u001b[0m                                 Traceback (most recent call last)",
      "\u001b[0;32m/tmp/ipykernel_18232/249627297.py\u001b[0m in \u001b[0;36m<module>\u001b[0;34m\u001b[0m\n\u001b[1;32m      1\u001b[0m \u001b[0;31m#Mostrar a variável local: var_resp_loc\u001b[0m\u001b[0;34m\u001b[0m\u001b[0;34m\u001b[0m\u001b[0;34m\u001b[0m\u001b[0m\n\u001b[0;32m----> 2\u001b[0;31m \u001b[0mprint\u001b[0m\u001b[0;34m(\u001b[0m\u001b[0mvar_resp_loc\u001b[0m\u001b[0;34m)\u001b[0m \u001b[0;31m#exibirá erro porque ela não é global\u001b[0m\u001b[0;34m\u001b[0m\u001b[0;34m\u001b[0m\u001b[0m\n\u001b[0m",
      "\u001b[0;31mNameError\u001b[0m: name 'var_resp_loc' is not defined"
     ]
    }
   ],
   "source": [
    "#Mostrar a variável local: var_resp_loc\n",
    "print(var_resp_loc) #exibirá erro porque ela não é global"
   ]
  },
  {
   "cell_type": "markdown",
   "id": "3db089d1",
   "metadata": {},
   "source": [
    "### Funções úteis no Python"
   ]
  },
  {
   "cell_type": "code",
   "execution_count": 15,
   "id": "cf15f85a",
   "metadata": {},
   "outputs": [],
   "source": [
    "# str() - transforma valores em strings\n",
    "# int() - transforma variáveis em inteiros\n",
    "# float() - transforma variáveis em decimais\n",
    "# max() - encontra o máximo valor num conjunto\n",
    "# min() - encontra o mínimo valor num conjunto\n",
    "# len() - retorna o comprimento de uma lista,tupla, dicionário, vetor, matriz...\n",
    "# suma() - soma todos os elementos de uma lista"
   ]
  },
  {
   "cell_type": "code",
   "execution_count": 16,
   "id": "da840968",
   "metadata": {},
   "outputs": [
    {
     "name": "stdout",
     "output_type": "stream",
     "text": [
      "Digite a sua nota: 8\n"
     ]
    },
    {
     "ename": "TypeError",
     "evalue": "'>' not supported between instances of 'str' and 'int'",
     "output_type": "error",
     "traceback": [
      "\u001b[0;31m---------------------------------------------------------------------------\u001b[0m",
      "\u001b[0;31mTypeError\u001b[0m                                 Traceback (most recent call last)",
      "\u001b[0;32m/tmp/ipykernel_18232/1915488007.py\u001b[0m in \u001b[0;36m<module>\u001b[0;34m\u001b[0m\n\u001b[1;32m      4\u001b[0m \u001b[0mnota\u001b[0m \u001b[0;34m=\u001b[0m \u001b[0minput\u001b[0m\u001b[0;34m(\u001b[0m\u001b[0;34m'Digite a sua nota: '\u001b[0m\u001b[0;34m)\u001b[0m\u001b[0;34m\u001b[0m\u001b[0;34m\u001b[0m\u001b[0m\n\u001b[1;32m      5\u001b[0m \u001b[0;34m\u001b[0m\u001b[0m\n\u001b[0;32m----> 6\u001b[0;31m \u001b[0;32mif\u001b[0m \u001b[0mnota\u001b[0m \u001b[0;34m>\u001b[0m \u001b[0;36m7\u001b[0m\u001b[0;34m:\u001b[0m\u001b[0;34m\u001b[0m\u001b[0;34m\u001b[0m\u001b[0m\n\u001b[0m\u001b[1;32m      7\u001b[0m     \u001b[0mprint\u001b[0m\u001b[0;34m(\u001b[0m\u001b[0;34m'Aluno aprovado com nota = '\u001b[0m\u001b[0;34m,\u001b[0m \u001b[0mnota\u001b[0m\u001b[0;34m)\u001b[0m\u001b[0;34m\u001b[0m\u001b[0;34m\u001b[0m\u001b[0m\n\u001b[1;32m      8\u001b[0m \u001b[0;32melse\u001b[0m\u001b[0;34m:\u001b[0m\u001b[0;34m\u001b[0m\u001b[0;34m\u001b[0m\u001b[0m\n",
      "\u001b[0;31mTypeError\u001b[0m: '>' not supported between instances of 'str' and 'int'"
     ]
    }
   ],
   "source": [
    "#usando funções built-in\n",
    "#variável\n",
    "\n",
    "nota = input('Digite a sua nota: ')\n",
    "\n",
    "if nota > 7:\n",
    "    print('Aluno aprovado com nota = ', nota)\n",
    "else:\n",
    "    print('Aluno reprovado com nota = ', nota) \n",
    "#exbirá erro porque estamos avaliando uma string e não um inteiro"
   ]
  },
  {
   "cell_type": "code",
   "execution_count": 17,
   "id": "044deffe",
   "metadata": {},
   "outputs": [
    {
     "name": "stdout",
     "output_type": "stream",
     "text": [
      "Digite a sua nota: 8\n",
      "Aluno aprovado com nota =  8\n"
     ]
    }
   ],
   "source": [
    "#variável\n",
    "\n",
    "nota = input('Digite a sua nota: ')\n",
    "\n",
    "if float(nota) > 7:\n",
    "    print('Aluno aprovado com nota = ', nota)\n",
    "else:\n",
    "    print('Aluno reprovado com nota = ', nota) \n",
    "#executará porque nota é um float"
   ]
  },
  {
   "cell_type": "code",
   "execution_count": 18,
   "id": "6579b7c5",
   "metadata": {},
   "outputs": [],
   "source": [
    "lista_num = [1,3.14,'7',1.618,'99',8,33,77]"
   ]
  },
  {
   "cell_type": "code",
   "execution_count": 19,
   "id": "fc1d9786",
   "metadata": {},
   "outputs": [
    {
     "data": {
      "text/plain": [
       "[1, 3.14, '7', 1.618, '99', 8, 33, 77]"
      ]
     },
     "execution_count": 19,
     "metadata": {},
     "output_type": "execute_result"
    }
   ],
   "source": [
    "lista_num"
   ]
  },
  {
   "cell_type": "code",
   "execution_count": 20,
   "id": "2a968e66",
   "metadata": {},
   "outputs": [
    {
     "data": {
      "text/plain": [
       "8"
      ]
     },
     "execution_count": 20,
     "metadata": {},
     "output_type": "execute_result"
    }
   ],
   "source": [
    "#Tamanho da lista:\n",
    "len(lista_num)"
   ]
  },
  {
   "cell_type": "code",
   "execution_count": 21,
   "id": "88f0b684",
   "metadata": {},
   "outputs": [
    {
     "ename": "TypeError",
     "evalue": "'>' not supported between instances of 'str' and 'float'",
     "output_type": "error",
     "traceback": [
      "\u001b[0;31m---------------------------------------------------------------------------\u001b[0m",
      "\u001b[0;31mTypeError\u001b[0m                                 Traceback (most recent call last)",
      "\u001b[0;32m/tmp/ipykernel_18232/1755841778.py\u001b[0m in \u001b[0;36m<module>\u001b[0;34m\u001b[0m\n\u001b[1;32m      1\u001b[0m \u001b[0;31m#a lista tem strings e números, logo ao fazer\u001b[0m\u001b[0;34m\u001b[0m\u001b[0;34m\u001b[0m\u001b[0;34m\u001b[0m\u001b[0m\n\u001b[1;32m      2\u001b[0m \u001b[0;31m#Máximo valor da lista\u001b[0m\u001b[0;34m\u001b[0m\u001b[0;34m\u001b[0m\u001b[0;34m\u001b[0m\u001b[0m\n\u001b[0;32m----> 3\u001b[0;31m \u001b[0mmax\u001b[0m\u001b[0;34m(\u001b[0m\u001b[0mlista_num\u001b[0m\u001b[0;34m)\u001b[0m \u001b[0;31m#exibirá erro\u001b[0m\u001b[0;34m\u001b[0m\u001b[0;34m\u001b[0m\u001b[0m\n\u001b[0m",
      "\u001b[0;31mTypeError\u001b[0m: '>' not supported between instances of 'str' and 'float'"
     ]
    }
   ],
   "source": [
    "#a lista tem strings e números, logo ao fazer\n",
    "#Máximo valor da lista\n",
    "max(lista_num) #exibirá erro"
   ]
  },
  {
   "cell_type": "code",
   "execution_count": 22,
   "id": "de0995f0",
   "metadata": {},
   "outputs": [
    {
     "data": {
      "text/plain": [
       "[1, 3, 7, 1, 99, 8, 33, 77]"
      ]
     },
     "execution_count": 22,
     "metadata": {},
     "output_type": "execute_result"
    }
   ],
   "source": [
    "#convertendo a lista para inteiros\n",
    "#variável para adicionar lista de inteiros\n",
    "lista_int = []\n",
    "for i in lista_num:\n",
    "    lista_int.append(int(i))\n",
    "lista_int"
   ]
  },
  {
   "cell_type": "code",
   "execution_count": 23,
   "id": "c73e7b55",
   "metadata": {},
   "outputs": [
    {
     "data": {
      "text/plain": [
       "[1.0, 3.14, 7.0, 1.618, 99.0, 8.0, 33.0, 77.0]"
      ]
     },
     "execution_count": 23,
     "metadata": {},
     "output_type": "execute_result"
    }
   ],
   "source": [
    "#convertendo a lista para float\n",
    "#variável para adicionar lista de floats\n",
    "lista_float = []\n",
    "for i in lista_num:\n",
    "    lista_float.append(float(i))\n",
    "lista_float"
   ]
  },
  {
   "cell_type": "code",
   "execution_count": 24,
   "id": "6a309c66",
   "metadata": {},
   "outputs": [
    {
     "data": {
      "text/plain": [
       "['1', '3.14', '7', '1.618', '99', '8', '33', '77']"
      ]
     },
     "execution_count": 24,
     "metadata": {},
     "output_type": "execute_result"
    }
   ],
   "source": [
    "#convertendo a lista para strings\n",
    "#variável para adicionar lista de strings\n",
    "lista_string = []\n",
    "for i in lista_num:\n",
    "    lista_string.append(str(i))\n",
    "lista_string"
   ]
  },
  {
   "cell_type": "code",
   "execution_count": 25,
   "id": "65e5fc95",
   "metadata": {},
   "outputs": [
    {
     "data": {
      "text/plain": [
       "99.0"
      ]
     },
     "execution_count": 25,
     "metadata": {},
     "output_type": "execute_result"
    }
   ],
   "source": [
    "#valor máximo\n",
    "max(lista_float)"
   ]
  },
  {
   "cell_type": "code",
   "execution_count": 26,
   "id": "2a4e5d98",
   "metadata": {},
   "outputs": [
    {
     "data": {
      "text/plain": [
       "1.0"
      ]
     },
     "execution_count": 26,
     "metadata": {},
     "output_type": "execute_result"
    }
   ],
   "source": [
    "#valor mínimo\n",
    "min(lista_float)"
   ]
  },
  {
   "cell_type": "code",
   "execution_count": 27,
   "id": "06d16cf7",
   "metadata": {},
   "outputs": [
    {
     "data": {
      "text/plain": [
       "229"
      ]
     },
     "execution_count": 27,
     "metadata": {},
     "output_type": "execute_result"
    }
   ],
   "source": [
    "#Soma de todos os valores da lista\n",
    "sum(lista_int)"
   ]
  },
  {
   "cell_type": "code",
   "execution_count": 28,
   "id": "ef574289",
   "metadata": {},
   "outputs": [],
   "source": [
    "#Funções com parâmetros indeterminados (*asterisco)"
   ]
  },
  {
   "cell_type": "code",
   "execution_count": 29,
   "id": "2141b4cb",
   "metadata": {},
   "outputs": [],
   "source": [
    "def soma_valores(*valores):\n",
    "    soma = 0\n",
    "    for i in valores:\n",
    "        soma = soma + i\n",
    "    return(soma)"
   ]
  },
  {
   "cell_type": "code",
   "execution_count": 30,
   "id": "bf76843a",
   "metadata": {},
   "outputs": [
    {
     "data": {
      "text/plain": [
       "3"
      ]
     },
     "execution_count": 30,
     "metadata": {},
     "output_type": "execute_result"
    }
   ],
   "source": [
    "soma_valores(1,2)"
   ]
  },
  {
   "cell_type": "code",
   "execution_count": 31,
   "id": "16bd60e9",
   "metadata": {},
   "outputs": [
    {
     "data": {
      "text/plain": [
       "10"
      ]
     },
     "execution_count": 31,
     "metadata": {},
     "output_type": "execute_result"
    }
   ],
   "source": [
    "soma_valores(1,2,3,4)"
   ]
  },
  {
   "cell_type": "code",
   "execution_count": 32,
   "id": "543e1c6a",
   "metadata": {},
   "outputs": [
    {
     "data": {
      "text/plain": [
       "550"
      ]
     },
     "execution_count": 32,
     "metadata": {},
     "output_type": "execute_result"
    }
   ],
   "source": [
    "soma_valores(10,20,30,40,50,60,70,80,90,100)"
   ]
  },
  {
   "cell_type": "code",
   "execution_count": 33,
   "id": "6bdb41e5",
   "metadata": {},
   "outputs": [],
   "source": [
    "#Funções Lambda - conhecidas como funções inline\n",
    "#ou funções anônimas\n",
    "#São funções criadas sem o 'def' e em tempo de \n",
    "#execução do código\n",
    "#Podem ser usadas como funções como map(), reduce()\n",
    "# filter()"
   ]
  },
  {
   "cell_type": "code",
   "execution_count": 34,
   "id": "9dc380f1",
   "metadata": {},
   "outputs": [],
   "source": [
    "#Diferença entre lambda e def"
   ]
  },
  {
   "cell_type": "code",
   "execution_count": 35,
   "id": "e13ea5ed",
   "metadata": {},
   "outputs": [],
   "source": [
    "#Definir função com três linhas\n",
    "def duplica(x):\n",
    "    resposta = x * 2\n",
    "    return(resposta)"
   ]
  },
  {
   "cell_type": "code",
   "execution_count": 36,
   "id": "ecd3d8e4",
   "metadata": {},
   "outputs": [
    {
     "data": {
      "text/plain": [
       "6"
      ]
     },
     "execution_count": 36,
     "metadata": {},
     "output_type": "execute_result"
    }
   ],
   "source": [
    "duplica(3)"
   ]
  },
  {
   "cell_type": "code",
   "execution_count": 37,
   "id": "746a294f",
   "metadata": {},
   "outputs": [],
   "source": [
    "#Definir função com duas linhas\n",
    "def duplica(x):\n",
    "    return(x*2)"
   ]
  },
  {
   "cell_type": "code",
   "execution_count": 38,
   "id": "8aff6111",
   "metadata": {},
   "outputs": [
    {
     "data": {
      "text/plain": [
       "12"
      ]
     },
     "execution_count": 38,
     "metadata": {},
     "output_type": "execute_result"
    }
   ],
   "source": [
    "duplica(6)"
   ]
  },
  {
   "cell_type": "code",
   "execution_count": 39,
   "id": "2051fffa",
   "metadata": {},
   "outputs": [],
   "source": [
    "#Definir a função com uma linha\n",
    "def duplica(x): return(x*2)"
   ]
  },
  {
   "cell_type": "code",
   "execution_count": 40,
   "id": "b947f64b",
   "metadata": {},
   "outputs": [
    {
     "data": {
      "text/plain": [
       "10"
      ]
     },
     "execution_count": 40,
     "metadata": {},
     "output_type": "execute_result"
    }
   ],
   "source": [
    "duplica(5)"
   ]
  },
  {
   "cell_type": "code",
   "execution_count": 41,
   "id": "57a40f8e",
   "metadata": {},
   "outputs": [],
   "source": [
    "#Usando o Lambda\n",
    "duplica = lambda x:x*2"
   ]
  },
  {
   "cell_type": "code",
   "execution_count": 42,
   "id": "0d8f6a3f",
   "metadata": {},
   "outputs": [
    {
     "data": {
      "text/plain": [
       "16"
      ]
     },
     "execution_count": 42,
     "metadata": {},
     "output_type": "execute_result"
    }
   ],
   "source": [
    "duplica(8)"
   ]
  },
  {
   "cell_type": "code",
   "execution_count": 43,
   "id": "f3072c5f",
   "metadata": {},
   "outputs": [],
   "source": [
    "#Função avalia se aluno aprovado\n",
    "aprovado = lambda nota:nota>7"
   ]
  },
  {
   "cell_type": "code",
   "execution_count": 44,
   "id": "824a22b7",
   "metadata": {},
   "outputs": [
    {
     "data": {
      "text/plain": [
       "True"
      ]
     },
     "execution_count": 44,
     "metadata": {},
     "output_type": "execute_result"
    }
   ],
   "source": [
    "aprovado(8)"
   ]
  },
  {
   "cell_type": "code",
   "execution_count": 45,
   "id": "a9550b19",
   "metadata": {},
   "outputs": [
    {
     "data": {
      "text/plain": [
       "False"
      ]
     },
     "execution_count": 45,
     "metadata": {},
     "output_type": "execute_result"
    }
   ],
   "source": [
    "aprovado(4)"
   ]
  },
  {
   "cell_type": "code",
   "execution_count": 46,
   "id": "138f760c",
   "metadata": {},
   "outputs": [],
   "source": [
    "#Função para inverter ordem das letras\n",
    "inverte_letras = lambda palavra:palavra[::-1]"
   ]
  },
  {
   "cell_type": "code",
   "execution_count": 47,
   "id": "16e1b7f0",
   "metadata": {},
   "outputs": [
    {
     "data": {
      "text/plain": [
       "'nohtyP'"
      ]
     },
     "execution_count": 47,
     "metadata": {},
     "output_type": "execute_result"
    }
   ],
   "source": [
    "inverte_letras('Python')"
   ]
  },
  {
   "cell_type": "code",
   "execution_count": 48,
   "id": "692f13af",
   "metadata": {},
   "outputs": [],
   "source": [
    "#Multiplica três valores\n",
    "mult_tres_valores = lambda var1,var2,var3:var1*var2*var3"
   ]
  },
  {
   "cell_type": "code",
   "execution_count": 49,
   "id": "35defcc1",
   "metadata": {},
   "outputs": [
    {
     "data": {
      "text/plain": [
       "100"
      ]
     },
     "execution_count": 49,
     "metadata": {},
     "output_type": "execute_result"
    }
   ],
   "source": [
    "mult_tres_valores(2,5,10)"
   ]
  }
 ],
 "metadata": {
  "kernelspec": {
   "display_name": "Python 3 (ipykernel)",
   "language": "python",
   "name": "python3"
  },
  "language_info": {
   "codemirror_mode": {
    "name": "ipython",
    "version": 3
   },
   "file_extension": ".py",
   "mimetype": "text/x-python",
   "name": "python",
   "nbconvert_exporter": "python",
   "pygments_lexer": "ipython3",
   "version": "3.9.1"
  }
 },
 "nbformat": 4,
 "nbformat_minor": 5
}
