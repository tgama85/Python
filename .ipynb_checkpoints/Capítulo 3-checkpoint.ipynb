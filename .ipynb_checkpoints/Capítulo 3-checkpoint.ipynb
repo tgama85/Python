{
 "cells": [
  {
   "cell_type": "markdown",
   "id": "fa22440a",
   "metadata": {},
   "source": [
    "<h1 style = \"color: lightblue\"> Capítulo 3</h1>\n",
    "<p style = \"color: gray\"><b>Condicionais, laços de repetição e listas<b></p>"
   ]
  },
  {
   "cell_type": "markdown",
   "id": "7a84af84",
   "metadata": {},
   "source": [
    "### Condicionais if/else/elif"
   ]
  },
  {
   "cell_type": "code",
   "execution_count": 1,
   "id": "4e45b23a",
   "metadata": {},
   "outputs": [
    {
     "name": "stdout",
     "output_type": "stream",
     "text": [
      "Digite o valor de A: 10\n",
      "Digite o valor de B: 7\n"
     ]
    }
   ],
   "source": [
    "#Usando if\n",
    "#Entrada de valores\n",
    "A = int(input('Digite o valor de A: '))\n",
    "B = int(input('Digite o valor de B: '))"
   ]
  },
  {
   "cell_type": "code",
   "execution_count": 2,
   "id": "66a0e9b9",
   "metadata": {},
   "outputs": [
    {
     "name": "stdout",
     "output_type": "stream",
     "text": [
      "A é maior que B!\n"
     ]
    }
   ],
   "source": [
    "if (A > B):\n",
    "    print('A é maior que B!')\n",
    "if (A < B):\n",
    "    print('B é maior que A!')"
   ]
  },
  {
   "cell_type": "code",
   "execution_count": 3,
   "id": "b59fa17d",
   "metadata": {},
   "outputs": [
    {
     "name": "stdout",
     "output_type": "stream",
     "text": [
      "A é maior do que B!\n"
     ]
    }
   ],
   "source": [
    "#Usando else\n",
    "if(A > B):\n",
    "    print('A é maior do que B!')\n",
    "else:\n",
    "    print('B é maior do que A!')"
   ]
  },
  {
   "cell_type": "code",
   "execution_count": 4,
   "id": "b3e4756d",
   "metadata": {},
   "outputs": [],
   "source": [
    "idade = 80\n",
    "sexo = 'F'"
   ]
  },
  {
   "cell_type": "code",
   "execution_count": 5,
   "id": "f3cb31b8",
   "metadata": {},
   "outputs": [
    {
     "name": "stdout",
     "output_type": "stream",
     "text": [
      "Não é uma criança!\n",
      "Sexo feminino.\n"
     ]
    }
   ],
   "source": [
    "if idade < 9:\n",
    "    print('É uma criança.')\n",
    "    if sexo == 'M':\n",
    "        print('Sexo masculino.')\n",
    "    else:\n",
    "        print('Sexo feminino.')\n",
    "else:\n",
    "    print('Não é uma criança!')\n",
    "    if sexo == 'M':\n",
    "        print('Sexo masculino.')\n",
    "    else:\n",
    "        print('Sexo feminino.')"
   ]
  },
  {
   "cell_type": "code",
   "execution_count": 6,
   "id": "e2e02fab",
   "metadata": {},
   "outputs": [],
   "source": [
    "idade = 7\n",
    "sexo = 'M'"
   ]
  },
  {
   "cell_type": "code",
   "execution_count": 7,
   "id": "33e1030b",
   "metadata": {},
   "outputs": [
    {
     "name": "stdout",
     "output_type": "stream",
     "text": [
      "É uma criança.\n",
      "Sexo masculino.\n"
     ]
    }
   ],
   "source": [
    "if idade < 9:\n",
    "    print('É uma criança.')\n",
    "    if sexo == 'M':\n",
    "        print('Sexo masculino.')\n",
    "    else:\n",
    "        print('Sexo feminino.')\n",
    "else:\n",
    "    print('Não é uma criança!')\n",
    "    if sexo == 'M':\n",
    "        print('Sexo masculino.')\n",
    "    else:\n",
    "        print('Sexo feminino.')"
   ]
  },
  {
   "cell_type": "code",
   "execution_count": 8,
   "id": "6a5a1e5e",
   "metadata": {},
   "outputs": [],
   "source": [
    "nota = 5"
   ]
  },
  {
   "cell_type": "code",
   "execution_count": 9,
   "id": "2518a0eb",
   "metadata": {},
   "outputs": [
    {
     "name": "stdout",
     "output_type": "stream",
     "text": [
      "Nota na média.\n"
     ]
    }
   ],
   "source": [
    "#aninhamento de if e else\n",
    "if nota <= 1 and nota > 0:\n",
    "    print('Nota muito baixa!')\n",
    "else:\n",
    "    if nota > 1 and nota <= 4:\n",
    "        print('Nota baixa.')\n",
    "    else:\n",
    "        if nota > 4 and nota <= 7:\n",
    "            print('Nota na média.')\n",
    "        else:\n",
    "            if nota > 7 and nota <= 10:\n",
    "                print(('Nota alta!')) \n",
    "            else:\n",
    "                print('Nota inválida!')"
   ]
  },
  {
   "cell_type": "code",
   "execution_count": 10,
   "id": "683065cc",
   "metadata": {},
   "outputs": [],
   "source": [
    "#Usando elif\n",
    "nota = 8"
   ]
  },
  {
   "cell_type": "code",
   "execution_count": 11,
   "id": "a53856df",
   "metadata": {},
   "outputs": [
    {
     "name": "stdout",
     "output_type": "stream",
     "text": [
      "Nota alta!\n"
     ]
    }
   ],
   "source": [
    "if nota <= 1 and nota > 0:\n",
    "    print('Nota muito baixa!')\n",
    "elif nota > 1 and nota <= 4:\n",
    "    print('Nota baixa.')\n",
    "elif nota > 4 and nota <= 7:\n",
    "    print('Nota na média.')\n",
    "elif nota > 7 and nota <= 10:\n",
    "    print('Nota alta!')\n",
    "else: print('Nota inválida!')"
   ]
  },
  {
   "cell_type": "markdown",
   "id": "ab09b64c",
   "metadata": {},
   "source": [
    "### Laços de repetição for e while"
   ]
  },
  {
   "cell_type": "code",
   "execution_count": 12,
   "id": "9fe8600b",
   "metadata": {},
   "outputs": [],
   "source": [
    "#for é usado quando precisamos que uma atividade\n",
    "#seja executada um número específico de vezes\n",
    "#while é usando para executar uma atividade até que\n",
    "#uma condição lógina seja atingida"
   ]
  },
  {
   "cell_type": "code",
   "execution_count": 13,
   "id": "0194db2e",
   "metadata": {},
   "outputs": [
    {
     "name": "stdout",
     "output_type": "stream",
     "text": [
      "1\n",
      "2\n",
      "3\n",
      "4\n",
      "5\n",
      "6\n",
      "7\n",
      "8\n",
      "9\n",
      "10\n"
     ]
    }
   ],
   "source": [
    "# USANDO FOR\n",
    "#imprimir números de 1 a 10\n",
    "for i in range(10):\n",
    "    print(i+1)"
   ]
  },
  {
   "cell_type": "code",
   "execution_count": 14,
   "id": "a8ec6feb",
   "metadata": {},
   "outputs": [
    {
     "name": "stdout",
     "output_type": "stream",
     "text": [
      "1\n",
      "2\n",
      "3\n",
      "4\n",
      "5\n",
      "6\n",
      "7\n",
      "8\n",
      "9\n",
      "10\n"
     ]
    }
   ],
   "source": [
    "#outra forma\n",
    "for i in range(1,11): #range é uma função built-in\n",
    "    print(i)"
   ]
  },
  {
   "cell_type": "code",
   "execution_count": 15,
   "id": "cde4aa83",
   "metadata": {},
   "outputs": [
    {
     "name": "stdout",
     "output_type": "stream",
     "text": [
      "0\n",
      "3\n",
      "6\n",
      "9\n",
      "12\n",
      "15\n",
      "18\n"
     ]
    }
   ],
   "source": [
    "#usando incremento\n",
    "#valores de 0 a 20 com incremento de 3 unidades\n",
    "for i in range(0,20,3):\n",
    "    print(i)"
   ]
  },
  {
   "cell_type": "code",
   "execution_count": 16,
   "id": "74a2efcc",
   "metadata": {},
   "outputs": [],
   "source": [
    "#passeando por lista\n",
    "lista = [10,77,88,32,100]"
   ]
  },
  {
   "cell_type": "code",
   "execution_count": 17,
   "id": "8f471dc6",
   "metadata": {},
   "outputs": [
    {
     "name": "stdout",
     "output_type": "stream",
     "text": [
      "10\n",
      "77\n",
      "88\n",
      "32\n",
      "100\n"
     ]
    }
   ],
   "source": [
    "for i in lista:\n",
    "    print(i)"
   ]
  },
  {
   "cell_type": "code",
   "execution_count": 18,
   "id": "c1151524",
   "metadata": {},
   "outputs": [],
   "source": [
    "#usando estruturas condicionais\n",
    "#números pares de uma lista de valores\n",
    "valores = [11,55,22,16,10,7,9,68]"
   ]
  },
  {
   "cell_type": "code",
   "execution_count": 19,
   "id": "d2a42b4a",
   "metadata": {},
   "outputs": [
    {
     "name": "stdout",
     "output_type": "stream",
     "text": [
      "22\n",
      "16\n",
      "10\n",
      "68\n"
     ]
    }
   ],
   "source": [
    "for v in valores:\n",
    "    if v%2 == 0: #se resto da divisão por 2 for nula\n",
    "        print(v)"
   ]
  },
  {
   "cell_type": "code",
   "execution_count": 20,
   "id": "21e78670",
   "metadata": {},
   "outputs": [
    {
     "name": "stdout",
     "output_type": "stream",
     "text": [
      "1.2\n",
      "7.9\n",
      "9.0\n",
      "3.4\n",
      "10.2\n"
     ]
    }
   ],
   "source": [
    "#operações\n",
    "lista = [10,77,88,32,100]\n",
    "\n",
    "for i in lista:\n",
    "    #faer alguma operação matemática com os elementos\n",
    "    #da lista:\n",
    "    resp = (i+2)/10\n",
    "    print(resp)"
   ]
  },
  {
   "cell_type": "code",
   "execution_count": 21,
   "id": "f5ef3359",
   "metadata": {},
   "outputs": [],
   "source": [
    "#passeando por dicionários\n",
    "dic = {'var1':10,'var2':20,'var3':30,'var4':40}"
   ]
  },
  {
   "cell_type": "code",
   "execution_count": 22,
   "id": "6cbb06d0",
   "metadata": {},
   "outputs": [
    {
     "name": "stdout",
     "output_type": "stream",
     "text": [
      "var1\n",
      "var2\n",
      "var3\n",
      "var4\n"
     ]
    }
   ],
   "source": [
    "for i in dic: #retorna apenas as chaves (keys)\n",
    "    print(i)"
   ]
  },
  {
   "cell_type": "code",
   "execution_count": 23,
   "id": "be9b7aaf",
   "metadata": {},
   "outputs": [
    {
     "name": "stdout",
     "output_type": "stream",
     "text": [
      "var1 10\n",
      "var2 20\n",
      "var3 30\n",
      "var4 40\n"
     ]
    }
   ],
   "source": [
    "#para retornar chaves e valores\n",
    "for c,v in dic.items():\n",
    "    print(c,v) #mostra c-chave, v-valor"
   ]
  },
  {
   "cell_type": "code",
   "execution_count": 24,
   "id": "ec8ac8f7",
   "metadata": {},
   "outputs": [],
   "source": [
    "#passeando por tuplas\n",
    "tupla = (11,22,33,44,55)"
   ]
  },
  {
   "cell_type": "code",
   "execution_count": 25,
   "id": "7ed62829",
   "metadata": {},
   "outputs": [
    {
     "name": "stdout",
     "output_type": "stream",
     "text": [
      "11\n",
      "22\n",
      "33\n",
      "44\n",
      "55\n"
     ]
    }
   ],
   "source": [
    "for i in tupla:\n",
    "    print(i)"
   ]
  },
  {
   "cell_type": "code",
   "execution_count": 26,
   "id": "a16fb46a",
   "metadata": {},
   "outputs": [],
   "source": [
    "#loops aninhados costumam ser usados com vetores e matrizes"
   ]
  },
  {
   "cell_type": "code",
   "execution_count": 27,
   "id": "df0c08f2",
   "metadata": {},
   "outputs": [],
   "source": [
    "lista = [[1,2,3],[4,5,6,7,7,8],[11,12,13,14,15,16,17,18]]"
   ]
  },
  {
   "cell_type": "code",
   "execution_count": 28,
   "id": "a5bcd92a",
   "metadata": {},
   "outputs": [
    {
     "name": "stdout",
     "output_type": "stream",
     "text": [
      "[1, 2, 3]\n",
      "[4, 5, 6, 7, 7, 8]\n",
      "[11, 12, 13, 14, 15, 16, 17, 18]\n"
     ]
    }
   ],
   "source": [
    "for i in lista:\n",
    "    print(i)"
   ]
  },
  {
   "cell_type": "code",
   "execution_count": 29,
   "id": "7de16eeb",
   "metadata": {},
   "outputs": [
    {
     "name": "stdout",
     "output_type": "stream",
     "text": [
      "1\n",
      "2\n",
      "3\n",
      "--------\n",
      "4\n",
      "5\n",
      "6\n",
      "7\n",
      "7\n",
      "8\n",
      "--------\n",
      "11\n",
      "12\n",
      "13\n",
      "14\n",
      "15\n",
      "16\n",
      "17\n",
      "18\n",
      "--------\n"
     ]
    }
   ],
   "source": [
    "#criando o loop dentro da lista\n",
    "for i in lista:\n",
    "    for j in i:\n",
    "        print(j) # j são os valores contidos dentro de i\n",
    "    print('--------')"
   ]
  },
  {
   "cell_type": "code",
   "execution_count": 30,
   "id": "6ffe1c49",
   "metadata": {},
   "outputs": [
    {
     "name": "stdout",
     "output_type": "stream",
     "text": [
      "1\n",
      "2\n",
      "3\n",
      "----\n",
      "4\n",
      "5\n",
      "6\n",
      "7\n",
      "7\n",
      "8\n",
      "----\n",
      "11\n",
      "12\n",
      "13\n",
      "14\n",
      "15\n",
      "16\n",
      "17\n",
      "18\n",
      "----\n"
     ]
    }
   ],
   "source": [
    "# podemos chamar as variáveis iteradoras (i,j) de \n",
    "#qualquer modo\n",
    "\n",
    "for li in lista:\n",
    "    for var in li:\n",
    "        print(var)\n",
    "    print('----')"
   ]
  },
  {
   "cell_type": "code",
   "execution_count": 31,
   "id": "8a24a62e",
   "metadata": {},
   "outputs": [
    {
     "name": "stdout",
     "output_type": "stream",
     "text": [
      "1\n",
      "2\n",
      "3\n",
      "4\n",
      "5\n",
      "6\n",
      "7\n",
      "8\n",
      "9\n",
      "10\n"
     ]
    }
   ],
   "source": [
    "#USANDO WHILE\n",
    "count = 1\n",
    "while count <= 10:\n",
    "    print(count)\n",
    "    count = count + 1 #temos que add esta linha para \n",
    "                      #não termos um loop infinito"
   ]
  },
  {
   "cell_type": "code",
   "execution_count": 32,
   "id": "8b2dd232",
   "metadata": {},
   "outputs": [],
   "source": [
    "# diretivas: pass, break ou continue\n",
    "# pass: não executa nada na estrutura e continua o laço\n",
    "# break: termina o laço de repetição\n",
    "# continue: pula uma iteração passando para a próxima"
   ]
  },
  {
   "cell_type": "code",
   "execution_count": 33,
   "id": "964ae4c8",
   "metadata": {},
   "outputs": [
    {
     "name": "stdout",
     "output_type": "stream",
     "text": [
      "p\n",
      "r\n",
      "o\n",
      "g\n",
      "r\n",
      "a\n",
      "m\n",
      "a\n",
      "d\n",
      "o\n",
      "r\n"
     ]
    }
   ],
   "source": [
    "#diferença entre pass e continue\n",
    "for letra in  'programador':\n",
    "    if letra == 'a':\n",
    "        pass\n",
    "    print(letra)"
   ]
  },
  {
   "cell_type": "code",
   "execution_count": 34,
   "id": "9ce4ada0",
   "metadata": {},
   "outputs": [
    {
     "name": "stdout",
     "output_type": "stream",
     "text": [
      "p\n",
      "r\n",
      "o\n",
      "g\n",
      "r\n",
      "m\n",
      "d\n",
      "o\n",
      "r\n"
     ]
    }
   ],
   "source": [
    "for letra in \"programador\":\n",
    "    if letra == 'a':\n",
    "        continue\n",
    "    print(letra)"
   ]
  },
  {
   "cell_type": "code",
   "execution_count": 35,
   "id": "ac35a3f8",
   "metadata": {},
   "outputs": [
    {
     "name": "stdout",
     "output_type": "stream",
     "text": [
      "p\n",
      "r\n",
      "o\n",
      "g\n",
      "r\n"
     ]
    }
   ],
   "source": [
    "#se usarmos o break\n",
    "for letra in \"programador\":\n",
    "    if letra == 'a':\n",
    "        break #interrompe a execução\n",
    "    print(letra)"
   ]
  },
  {
   "cell_type": "markdown",
   "id": "ea0db945",
   "metadata": {},
   "source": [
    "### Jogo de advinhação de número\n",
    " - O jogador deverá escolher um número qualquer entre 0 e 50\n",
    " -  O jogador receberá dicas se seu chute está acima ou abaixo do valor oculto gerado pelo computador de maneira aleatória, caso não acerte de primeira\n",
    " - O jogador terá 10 tentativas para adivinhar qual foi o número oculto gerado pelo computador entre o intervalo (0 a 50)"
   ]
  },
  {
   "cell_type": "code",
   "execution_count": 36,
   "id": "b92f59f2",
   "metadata": {},
   "outputs": [],
   "source": [
    "#para instalar o numpy se tiver o pip, use pip install numpy (outras informações em https://numpy.org/install/)\n",
    "import numpy as np"
   ]
  },
  {
   "cell_type": "code",
   "execution_count": 37,
   "id": "180b45f1",
   "metadata": {},
   "outputs": [],
   "source": [
    "n_tentativas = 10"
   ]
  },
  {
   "cell_type": "code",
   "execution_count": 38,
   "id": "e15edf9a",
   "metadata": {},
   "outputs": [
    {
     "name": "stdout",
     "output_type": "stream",
     "text": [
      "Adivinhe o número entre 1 a 50! Você tem 10 chances!\n"
     ]
    }
   ],
   "source": [
    "print('Adivinhe o número entre 1 a 50! Você tem',n_tentativas, 'chances!')"
   ]
  },
  {
   "cell_type": "code",
   "execution_count": 39,
   "id": "3029cd79",
   "metadata": {},
   "outputs": [
    {
     "name": "stdout",
     "output_type": "stream",
     "text": [
      "Escolha um número: 10\n",
      "O número oculto é menor!\n",
      "Nº restante de tentativas = 9\n",
      "Escolha um número: 5\n",
      "O número oculto é menor!\n",
      "Nº restante de tentativas = 8\n",
      "Escolha um número: 2\n",
      "O número oculto é maior!\n",
      "Nº restante de tentativas = 7\n",
      "Escolha um número: 4\n",
      "Parabéns! Você acertou o nº que é: 4\n"
     ]
    }
   ],
   "source": [
    "#Gera um número aleatório inteiro entre 0 e 100:\n",
    "num_oculto = np.random.randint(0,50)\n",
    "\n",
    "while n_tentativas > 0:\n",
    "    n_tentativas = n_tentativas - 1\n",
    "    chute = int(input('Escolha um número: '))\n",
    "    if chute > num_oculto:\n",
    "        print('O número oculto é menor!')\n",
    "        print('Nº restante de tentativas = %d' % n_tentativas)\n",
    "    elif chute < num_oculto:\n",
    "        print('O número oculto é maior!')\n",
    "        print('Nº restante de tentativas = %d' % n_tentativas)\n",
    "    else:\n",
    "        print('Parabéns! Você acertou o nº que é: %d' % num_oculto)\n",
    "        break\n",
    "if n_tentativas == 0:\n",
    "    print('---GAME OVER---')\n",
    "    print('Infelizmente suas tentativas acabaram!')\n",
    "    print('O nº oculto era: %d '% num_oculto)"
   ]
  }
 ],
 "metadata": {
  "kernelspec": {
   "display_name": "Python 3 (ipykernel)",
   "language": "python",
   "name": "python3"
  },
  "language_info": {
   "codemirror_mode": {
    "name": "ipython",
    "version": 3
   },
   "file_extension": ".py",
   "mimetype": "text/x-python",
   "name": "python",
   "nbconvert_exporter": "python",
   "pygments_lexer": "ipython3",
   "version": "3.9.1"
  }
 },
 "nbformat": 4,
 "nbformat_minor": 5
}
