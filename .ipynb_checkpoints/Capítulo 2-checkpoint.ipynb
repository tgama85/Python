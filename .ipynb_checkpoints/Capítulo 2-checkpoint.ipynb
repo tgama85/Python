{
 "cells": [
  {
   "cell_type": "markdown",
   "id": "6d96abfd",
   "metadata": {},
   "source": [
    "<h1 style=\"color: lightblue\">Capítulo 2</h1>\n",
    "\n",
    "**Variáveis, tipos, estruturas e operações**\n",
    "\n",
    "Plano de construção de algoritmos:\n",
    " - Definir o problema\n",
    " - Separar em partes\n",
    " - Ordenar atividades\n",
    " - Traduzir para códigos\n",
    " - Obter solução do problema</p>"
   ]
  },
  {
   "cell_type": "markdown",
   "id": "5498b281",
   "metadata": {},
   "source": [
    "### Operações"
   ]
  },
  {
   "cell_type": "code",
   "execution_count": 1,
   "id": "ff8dacc0",
   "metadata": {},
   "outputs": [
    {
     "data": {
      "text/plain": [
       "4"
      ]
     },
     "execution_count": 1,
     "metadata": {},
     "output_type": "execute_result"
    }
   ],
   "source": [
    "#Soma\n",
    "2 + 2"
   ]
  },
  {
   "cell_type": "code",
   "execution_count": 2,
   "id": "b8618277",
   "metadata": {},
   "outputs": [
    {
     "data": {
      "text/plain": [
       "1"
      ]
     },
     "execution_count": 2,
     "metadata": {},
     "output_type": "execute_result"
    }
   ],
   "source": [
    "#Subtração\n",
    "2 - 1"
   ]
  },
  {
   "cell_type": "code",
   "execution_count": 3,
   "id": "8e95957c",
   "metadata": {},
   "outputs": [
    {
     "data": {
      "text/plain": [
       "49"
      ]
     },
     "execution_count": 3,
     "metadata": {},
     "output_type": "execute_result"
    }
   ],
   "source": [
    "#Multiplicação\n",
    "7 * 7"
   ]
  },
  {
   "cell_type": "code",
   "execution_count": 4,
   "id": "6c6626e0",
   "metadata": {},
   "outputs": [
    {
     "data": {
      "text/plain": [
       "3.5"
      ]
     },
     "execution_count": 4,
     "metadata": {},
     "output_type": "execute_result"
    }
   ],
   "source": [
    "#Divisão\n",
    "7/2"
   ]
  },
  {
   "cell_type": "code",
   "execution_count": 5,
   "id": "60d10038",
   "metadata": {},
   "outputs": [
    {
     "data": {
      "text/plain": [
       "1"
      ]
     },
     "execution_count": 5,
     "metadata": {},
     "output_type": "execute_result"
    }
   ],
   "source": [
    "#Mõdulo ou resto da divisão\n",
    "9%2"
   ]
  },
  {
   "cell_type": "code",
   "execution_count": 6,
   "id": "ad26b732",
   "metadata": {},
   "outputs": [
    {
     "data": {
      "text/plain": [
       "3.0"
      ]
     },
     "execution_count": 6,
     "metadata": {},
     "output_type": "execute_result"
    }
   ],
   "source": [
    "#Divisão com um / retorma um float\n",
    "6/2"
   ]
  },
  {
   "cell_type": "code",
   "execution_count": 7,
   "id": "5c6f960a",
   "metadata": {},
   "outputs": [
    {
     "data": {
      "text/plain": [
       "3"
      ]
     },
     "execution_count": 7,
     "metadata": {},
     "output_type": "execute_result"
    }
   ],
   "source": [
    "#Divisão com duas // retorna um int\n",
    "6//2"
   ]
  },
  {
   "cell_type": "markdown",
   "id": "757d92ba",
   "metadata": {},
   "source": [
    "### Função type"
   ]
  },
  {
   "cell_type": "code",
   "execution_count": 8,
   "id": "89a5673e",
   "metadata": {},
   "outputs": [
    {
     "data": {
      "text/plain": [
       "int"
      ]
     },
     "execution_count": 8,
     "metadata": {},
     "output_type": "execute_result"
    }
   ],
   "source": [
    "type(77)"
   ]
  },
  {
   "cell_type": "code",
   "execution_count": 9,
   "id": "b4b2f5bf",
   "metadata": {},
   "outputs": [
    {
     "data": {
      "text/plain": [
       "float"
      ]
     },
     "execution_count": 9,
     "metadata": {},
     "output_type": "execute_result"
    }
   ],
   "source": [
    "type(1.618)"
   ]
  },
  {
   "cell_type": "code",
   "execution_count": 10,
   "id": "f0ea962f",
   "metadata": {},
   "outputs": [
    {
     "data": {
      "text/plain": [
       "str"
      ]
     },
     "execution_count": 10,
     "metadata": {},
     "output_type": "execute_result"
    }
   ],
   "source": [
    "type(\"Aqui temos um texto\")"
   ]
  },
  {
   "cell_type": "markdown",
   "id": "aceeede2",
   "metadata": {},
   "source": [
    "### Conversão de números"
   ]
  },
  {
   "cell_type": "code",
   "execution_count": 11,
   "id": "1ee7ebdb",
   "metadata": {},
   "outputs": [
    {
     "data": {
      "text/plain": [
       "3.0"
      ]
     },
     "execution_count": 11,
     "metadata": {},
     "output_type": "execute_result"
    }
   ],
   "source": [
    "float(3)"
   ]
  },
  {
   "cell_type": "code",
   "execution_count": 12,
   "id": "2f5fc91c",
   "metadata": {},
   "outputs": [
    {
     "data": {
      "text/plain": [
       "1"
      ]
     },
     "execution_count": 12,
     "metadata": {},
     "output_type": "execute_result"
    }
   ],
   "source": [
    "int(1.0)"
   ]
  },
  {
   "cell_type": "code",
   "execution_count": 13,
   "id": "e357f067",
   "metadata": {},
   "outputs": [
    {
     "data": {
      "text/plain": [
       "1"
      ]
     },
     "execution_count": 13,
     "metadata": {},
     "output_type": "execute_result"
    }
   ],
   "source": [
    "int(1.618) #coletando apenas a parte inteira"
   ]
  },
  {
   "cell_type": "markdown",
   "id": "53344619",
   "metadata": {},
   "source": [
    "### Transformações: hexadecimal e binário"
   ]
  },
  {
   "cell_type": "code",
   "execution_count": 14,
   "id": "a5351511",
   "metadata": {},
   "outputs": [
    {
     "data": {
      "text/plain": [
       "'0x4d'"
      ]
     },
     "execution_count": 14,
     "metadata": {},
     "output_type": "execute_result"
    }
   ],
   "source": [
    "hex(77) # para representar o inteiro 77 em hexadecimal"
   ]
  },
  {
   "cell_type": "code",
   "execution_count": 15,
   "id": "932eee30",
   "metadata": {},
   "outputs": [
    {
     "data": {
      "text/plain": [
       "'0xe7'"
      ]
     },
     "execution_count": 15,
     "metadata": {},
     "output_type": "execute_result"
    }
   ],
   "source": [
    "hex(231)"
   ]
  },
  {
   "cell_type": "code",
   "execution_count": 16,
   "id": "c2286abc",
   "metadata": {},
   "outputs": [
    {
     "data": {
      "text/plain": [
       "'0b1001101'"
      ]
     },
     "execution_count": 16,
     "metadata": {},
     "output_type": "execute_result"
    }
   ],
   "source": [
    "bin(77)"
   ]
  },
  {
   "cell_type": "code",
   "execution_count": 17,
   "id": "a0db5e67",
   "metadata": {},
   "outputs": [
    {
     "data": {
      "text/plain": [
       "'0b11100111'"
      ]
     },
     "execution_count": 17,
     "metadata": {},
     "output_type": "execute_result"
    }
   ],
   "source": [
    "bin(231) # para representar o inteiro 231 em binário"
   ]
  },
  {
   "cell_type": "markdown",
   "id": "aef154e9",
   "metadata": {},
   "source": [
    "### Funções para computação científica"
   ]
  },
  {
   "cell_type": "code",
   "execution_count": 18,
   "id": "ebd9c2d4",
   "metadata": {},
   "outputs": [
    {
     "data": {
      "text/plain": [
       "8"
      ]
     },
     "execution_count": 18,
     "metadata": {},
     "output_type": "execute_result"
    }
   ],
   "source": [
    "# Retorna o valor absoluto (positivo)\n",
    "abs(-8)"
   ]
  },
  {
   "cell_type": "code",
   "execution_count": 19,
   "id": "ee8695fd",
   "metadata": {},
   "outputs": [
    {
     "data": {
      "text/plain": [
       "8"
      ]
     },
     "execution_count": 19,
     "metadata": {},
     "output_type": "execute_result"
    }
   ],
   "source": [
    "# Retorna o valor absoluto\n",
    "abs(8)"
   ]
  },
  {
   "cell_type": "code",
   "execution_count": 20,
   "id": "08e6b1f5",
   "metadata": {},
   "outputs": [
    {
     "data": {
      "text/plain": [
       "256"
      ]
     },
     "execution_count": 20,
     "metadata": {},
     "output_type": "execute_result"
    }
   ],
   "source": [
    "# Retorna a potência qualquer de um número \n",
    "pow(2,8) # potência de 2 ^ 8 (dois elevado a 8)"
   ]
  },
  {
   "cell_type": "code",
   "execution_count": 21,
   "id": "0e33d84b",
   "metadata": {},
   "outputs": [
    {
     "data": {
      "text/plain": [
       "7888609052210118054117285652827862296732064351090230047702789306640625"
      ]
     },
     "execution_count": 21,
     "metadata": {},
     "output_type": "execute_result"
    }
   ],
   "source": [
    "# Retorna a potência\n",
    "pow(5,100) #potência de 5 ^ 100"
   ]
  },
  {
   "cell_type": "code",
   "execution_count": 22,
   "id": "84a2d986",
   "metadata": {},
   "outputs": [
    {
     "data": {
      "text/plain": [
       "3"
      ]
     },
     "execution_count": 22,
     "metadata": {},
     "output_type": "execute_result"
    }
   ],
   "source": [
    "# faz arredondamento de números\n",
    "round(3.1415)"
   ]
  },
  {
   "cell_type": "code",
   "execution_count": 23,
   "id": "160da080",
   "metadata": {},
   "outputs": [
    {
     "data": {
      "text/plain": [
       "2"
      ]
     },
     "execution_count": 23,
     "metadata": {},
     "output_type": "execute_result"
    }
   ],
   "source": [
    "round(1.618)"
   ]
  },
  {
   "cell_type": "code",
   "execution_count": 24,
   "id": "4cd4ef30",
   "metadata": {},
   "outputs": [
    {
     "data": {
      "text/plain": [
       "1.62"
      ]
     },
     "execution_count": 24,
     "metadata": {},
     "output_type": "execute_result"
    }
   ],
   "source": [
    "# Arredondar com duas casas decimais\n",
    "round(1.616,2)"
   ]
  },
  {
   "cell_type": "markdown",
   "id": "a397c2ed",
   "metadata": {},
   "source": [
    "### Diferença entre valor e variável"
   ]
  },
  {
   "cell_type": "code",
   "execution_count": 25,
   "id": "1ab8eddd",
   "metadata": {},
   "outputs": [],
   "source": [
    "a = 77 # variável 'a' com valor atribuído 77"
   ]
  },
  {
   "cell_type": "code",
   "execution_count": 26,
   "id": "e60ab75f",
   "metadata": {},
   "outputs": [
    {
     "name": "stdout",
     "output_type": "stream",
     "text": [
      "77\n"
     ]
    }
   ],
   "source": [
    "print(77) # imprime o valor 77"
   ]
  },
  {
   "cell_type": "code",
   "execution_count": 27,
   "id": "eb6e55b9",
   "metadata": {},
   "outputs": [
    {
     "name": "stdout",
     "output_type": "stream",
     "text": [
      "77\n"
     ]
    }
   ],
   "source": [
    "print(a) # imprime o valor da variável 'a'"
   ]
  },
  {
   "cell_type": "markdown",
   "id": "eb5052a8",
   "metadata": {},
   "source": [
    "### Declarando variáveis"
   ]
  },
  {
   "cell_type": "code",
   "execution_count": 28,
   "id": "d1246ede",
   "metadata": {},
   "outputs": [],
   "source": [
    "# Atribuindo o valor 7 à vriável var_a\n",
    "var_a = 7"
   ]
  },
  {
   "cell_type": "code",
   "execution_count": 29,
   "id": "7f372030",
   "metadata": {},
   "outputs": [
    {
     "data": {
      "text/plain": [
       "7"
      ]
     },
     "execution_count": 29,
     "metadata": {},
     "output_type": "execute_result"
    }
   ],
   "source": [
    "# Imprimindo o valor da variável\n",
    "var_a"
   ]
  },
  {
   "cell_type": "code",
   "execution_count": 30,
   "id": "6928a66c",
   "metadata": {},
   "outputs": [
    {
     "name": "stdout",
     "output_type": "stream",
     "text": [
      "7\n"
     ]
    }
   ],
   "source": [
    "# Imprimindo o valor da variável\n",
    "print(var_a)"
   ]
  },
  {
   "cell_type": "code",
   "execution_count": 31,
   "id": "a01c6b62",
   "metadata": {},
   "outputs": [],
   "source": [
    "var_c = 20"
   ]
  },
  {
   "cell_type": "code",
   "execution_count": 32,
   "id": "77226981",
   "metadata": {},
   "outputs": [
    {
     "data": {
      "text/plain": [
       "int"
      ]
     },
     "execution_count": 32,
     "metadata": {},
     "output_type": "execute_result"
    }
   ],
   "source": [
    "type(var_c)"
   ]
  },
  {
   "cell_type": "code",
   "execution_count": 33,
   "id": "edab1859",
   "metadata": {},
   "outputs": [],
   "source": [
    "#variável do tipo float aloca um espaço de 4 bytes\n",
    "#variável do tipo double aloca 8 bytes"
   ]
  },
  {
   "cell_type": "code",
   "execution_count": 34,
   "id": "1993a0aa",
   "metadata": {},
   "outputs": [],
   "source": [
    "var_d = 3.14"
   ]
  },
  {
   "cell_type": "code",
   "execution_count": 35,
   "id": "7198774a",
   "metadata": {},
   "outputs": [
    {
     "data": {
      "text/plain": [
       "float"
      ]
     },
     "execution_count": 35,
     "metadata": {},
     "output_type": "execute_result"
    }
   ],
   "source": [
    "type(var_d)"
   ]
  },
  {
   "cell_type": "code",
   "execution_count": 36,
   "id": "4f9c7cd7",
   "metadata": {},
   "outputs": [],
   "source": [
    "var_e = 11."
   ]
  },
  {
   "cell_type": "code",
   "execution_count": 37,
   "id": "a298739c",
   "metadata": {},
   "outputs": [
    {
     "data": {
      "text/plain": [
       "float"
      ]
     },
     "execution_count": 37,
     "metadata": {},
     "output_type": "execute_result"
    }
   ],
   "source": [
    "type(var_e)"
   ]
  },
  {
   "cell_type": "markdown",
   "id": "6679a3a2",
   "metadata": {},
   "source": [
    "### Variável do tipo string"
   ]
  },
  {
   "cell_type": "code",
   "execution_count": 38,
   "id": "312104a9",
   "metadata": {},
   "outputs": [],
   "source": [
    "str_var_1 = 'A'"
   ]
  },
  {
   "cell_type": "code",
   "execution_count": 39,
   "id": "2eeb92dc",
   "metadata": {},
   "outputs": [
    {
     "data": {
      "text/plain": [
       "str"
      ]
     },
     "execution_count": 39,
     "metadata": {},
     "output_type": "execute_result"
    }
   ],
   "source": [
    "type(str_var_1)"
   ]
  },
  {
   "cell_type": "code",
   "execution_count": 40,
   "id": "b4487a00",
   "metadata": {},
   "outputs": [],
   "source": [
    "str_var_2 = 'Python'"
   ]
  },
  {
   "cell_type": "code",
   "execution_count": 41,
   "id": "197cb557",
   "metadata": {},
   "outputs": [
    {
     "data": {
      "text/plain": [
       "str"
      ]
     },
     "execution_count": 41,
     "metadata": {},
     "output_type": "execute_result"
    }
   ],
   "source": [
    "type(str_var_2)"
   ]
  },
  {
   "cell_type": "code",
   "execution_count": 42,
   "id": "14d2f4d1",
   "metadata": {},
   "outputs": [],
   "source": [
    "str_var_3 = \"Python uma excelente linguagem!\""
   ]
  },
  {
   "cell_type": "code",
   "execution_count": 43,
   "id": "dcf4e894",
   "metadata": {},
   "outputs": [
    {
     "data": {
      "text/plain": [
       "str"
      ]
     },
     "execution_count": 43,
     "metadata": {},
     "output_type": "execute_result"
    }
   ],
   "source": [
    "type(str_var_3)"
   ]
  },
  {
   "cell_type": "markdown",
   "id": "d341da6b",
   "metadata": {},
   "source": [
    "### Concatenando strings"
   ]
  },
  {
   "cell_type": "code",
   "execution_count": 44,
   "id": "2ce5418f",
   "metadata": {},
   "outputs": [],
   "source": [
    "nome1 = \"Maria\""
   ]
  },
  {
   "cell_type": "code",
   "execution_count": 45,
   "id": "41db1e38",
   "metadata": {},
   "outputs": [],
   "source": [
    "nome2 = \" Renata\""
   ]
  },
  {
   "cell_type": "code",
   "execution_count": 46,
   "id": "07fe62fb",
   "metadata": {},
   "outputs": [],
   "source": [
    "total = nome1+nome2"
   ]
  },
  {
   "cell_type": "code",
   "execution_count": 47,
   "id": "f807f9b0",
   "metadata": {},
   "outputs": [
    {
     "data": {
      "text/plain": [
       "'Maria Renata'"
      ]
     },
     "execution_count": 47,
     "metadata": {},
     "output_type": "execute_result"
    }
   ],
   "source": [
    "total"
   ]
  },
  {
   "cell_type": "markdown",
   "id": "fd530064",
   "metadata": {},
   "source": [
    "### Variável booleana"
   ]
  },
  {
   "cell_type": "code",
   "execution_count": 51,
   "id": "f8252a5f",
   "metadata": {},
   "outputs": [],
   "source": [
    "a = True #Obs: True deve iniciar com letra maiúscula"
   ]
  },
  {
   "cell_type": "code",
   "execution_count": 52,
   "id": "ba8e3fbd",
   "metadata": {},
   "outputs": [
    {
     "data": {
      "text/plain": [
       "bool"
      ]
     },
     "execution_count": 52,
     "metadata": {},
     "output_type": "execute_result"
    }
   ],
   "source": [
    "type(a)"
   ]
  },
  {
   "cell_type": "code",
   "execution_count": 53,
   "id": "5d5949f1",
   "metadata": {},
   "outputs": [],
   "source": [
    "b = False # Obs: False deve iniciar com letra minúscula"
   ]
  },
  {
   "cell_type": "code",
   "execution_count": 54,
   "id": "486d3a30",
   "metadata": {},
   "outputs": [
    {
     "data": {
      "text/plain": [
       "bool"
      ]
     },
     "execution_count": 54,
     "metadata": {},
     "output_type": "execute_result"
    }
   ],
   "source": [
    "type(b)"
   ]
  },
  {
   "cell_type": "markdown",
   "id": "bd07de2e",
   "metadata": {},
   "source": [
    "### Declaração múltipla"
   ]
  },
  {
   "cell_type": "code",
   "execution_count": 55,
   "id": "3dc13cda",
   "metadata": {},
   "outputs": [],
   "source": [
    "disciplina1, disciplina2, disciplina3 = \"Química\", \"Estatística\", \"Matemática\""
   ]
  },
  {
   "cell_type": "code",
   "execution_count": 56,
   "id": "33220386",
   "metadata": {},
   "outputs": [
    {
     "data": {
      "text/plain": [
       "'Química'"
      ]
     },
     "execution_count": 56,
     "metadata": {},
     "output_type": "execute_result"
    }
   ],
   "source": [
    "disciplina1"
   ]
  },
  {
   "cell_type": "code",
   "execution_count": 57,
   "id": "ed33a5fd",
   "metadata": {},
   "outputs": [
    {
     "data": {
      "text/plain": [
       "'Estatística'"
      ]
     },
     "execution_count": 57,
     "metadata": {},
     "output_type": "execute_result"
    }
   ],
   "source": [
    "disciplina2"
   ]
  },
  {
   "cell_type": "code",
   "execution_count": 58,
   "id": "c89200d0",
   "metadata": {},
   "outputs": [
    {
     "data": {
      "text/plain": [
       "'Matemática'"
      ]
     },
     "execution_count": 58,
     "metadata": {},
     "output_type": "execute_result"
    }
   ],
   "source": [
    "disciplina3"
   ]
  },
  {
   "cell_type": "code",
   "execution_count": 59,
   "id": "d7aefc9e",
   "metadata": {},
   "outputs": [],
   "source": [
    "assunto1 = assunto2 = assunto3 = \"Teoria da relatividade\""
   ]
  },
  {
   "cell_type": "code",
   "execution_count": 60,
   "id": "41c2a9a7",
   "metadata": {},
   "outputs": [
    {
     "data": {
      "text/plain": [
       "'Teoria da relatividade'"
      ]
     },
     "execution_count": 60,
     "metadata": {},
     "output_type": "execute_result"
    }
   ],
   "source": [
    "assunto1"
   ]
  },
  {
   "cell_type": "code",
   "execution_count": 61,
   "id": "40ba1b72",
   "metadata": {},
   "outputs": [
    {
     "data": {
      "text/plain": [
       "'Teoria da relatividade'"
      ]
     },
     "execution_count": 61,
     "metadata": {},
     "output_type": "execute_result"
    }
   ],
   "source": [
    "assunto2"
   ]
  },
  {
   "cell_type": "code",
   "execution_count": 62,
   "id": "f526b9f1",
   "metadata": {},
   "outputs": [
    {
     "data": {
      "text/plain": [
       "'Teoria da relatividade'"
      ]
     },
     "execution_count": 62,
     "metadata": {},
     "output_type": "execute_result"
    }
   ],
   "source": [
    "assunto3"
   ]
  },
  {
   "cell_type": "code",
   "execution_count": 63,
   "id": "f548d651",
   "metadata": {},
   "outputs": [],
   "source": [
    "idade, nome, vivo = 30, \"Renata\", True"
   ]
  },
  {
   "cell_type": "code",
   "execution_count": 64,
   "id": "7b60a4b3",
   "metadata": {},
   "outputs": [
    {
     "data": {
      "text/plain": [
       "30"
      ]
     },
     "execution_count": 64,
     "metadata": {},
     "output_type": "execute_result"
    }
   ],
   "source": [
    "idade"
   ]
  },
  {
   "cell_type": "code",
   "execution_count": 65,
   "id": "a8b070ba",
   "metadata": {},
   "outputs": [
    {
     "data": {
      "text/plain": [
       "'Renata'"
      ]
     },
     "execution_count": 65,
     "metadata": {},
     "output_type": "execute_result"
    }
   ],
   "source": [
    "nome"
   ]
  },
  {
   "cell_type": "code",
   "execution_count": 66,
   "id": "365d2bf3",
   "metadata": {},
   "outputs": [
    {
     "data": {
      "text/plain": [
       "True"
      ]
     },
     "execution_count": 66,
     "metadata": {},
     "output_type": "execute_result"
    }
   ],
   "source": [
    "vivo"
   ]
  },
  {
   "cell_type": "markdown",
   "id": "03fd231b",
   "metadata": {},
   "source": [
    "### Erros comuns"
   ]
  },
  {
   "cell_type": "code",
   "execution_count": 67,
   "id": "15bd6ab8",
   "metadata": {},
   "outputs": [
    {
     "ename": "SyntaxError",
     "evalue": "invalid syntax (4243905531.py, line 1)",
     "output_type": "error",
     "traceback": [
      "\u001b[0;36m  File \u001b[0;32m\"/tmp/ipykernel_16976/4243905531.py\"\u001b[0;36m, line \u001b[0;32m1\u001b[0m\n\u001b[0;31m    7x = 50 #Mensagem de erro, pois o python não permite nomes de variáveis que iniciem com números\u001b[0m\n\u001b[0m     ^\u001b[0m\n\u001b[0;31mSyntaxError\u001b[0m\u001b[0;31m:\u001b[0m invalid syntax\n"
     ]
    }
   ],
   "source": [
    "7x = 50 #Mensagem de erro, pois o python não permite nomes de variáveis que iniciem com números"
   ]
  },
  {
   "cell_type": "code",
   "execution_count": 68,
   "id": "19a8dd7b",
   "metadata": {},
   "outputs": [
    {
     "ename": "SyntaxError",
     "evalue": "invalid syntax (1795098644.py, line 1)",
     "output_type": "error",
     "traceback": [
      "\u001b[0;36m  File \u001b[0;32m\"/tmp/ipykernel_16976/1795098644.py\"\u001b[0;36m, line \u001b[0;32m1\u001b[0m\n\u001b[0;31m    class = 3 # class é uma palavra reservada em python\u001b[0m\n\u001b[0m          ^\u001b[0m\n\u001b[0;31mSyntaxError\u001b[0m\u001b[0;31m:\u001b[0m invalid syntax\n"
     ]
    }
   ],
   "source": [
    "class = 3 # class é uma palavra reservada em python"
   ]
  },
  {
   "cell_type": "markdown",
   "id": "a820c8d0",
   "metadata": {},
   "source": [
    "### Operações com variáveis"
   ]
  },
  {
   "cell_type": "code",
   "execution_count": 69,
   "id": "73ab8353",
   "metadata": {},
   "outputs": [],
   "source": [
    "var1 = 10"
   ]
  },
  {
   "cell_type": "code",
   "execution_count": 70,
   "id": "7a283c10",
   "metadata": {},
   "outputs": [],
   "source": [
    "var2 = 3"
   ]
  },
  {
   "cell_type": "code",
   "execution_count": 71,
   "id": "68434da7",
   "metadata": {},
   "outputs": [
    {
     "data": {
      "text/plain": [
       "13"
      ]
     },
     "execution_count": 71,
     "metadata": {},
     "output_type": "execute_result"
    }
   ],
   "source": [
    "var1+var2 #soma"
   ]
  },
  {
   "cell_type": "code",
   "execution_count": 72,
   "id": "373fb1df",
   "metadata": {},
   "outputs": [
    {
     "data": {
      "text/plain": [
       "-7"
      ]
     },
     "execution_count": 72,
     "metadata": {},
     "output_type": "execute_result"
    }
   ],
   "source": [
    "var2-var1 #subtração"
   ]
  },
  {
   "cell_type": "code",
   "execution_count": 73,
   "id": "fd008504",
   "metadata": {},
   "outputs": [
    {
     "data": {
      "text/plain": [
       "30"
      ]
     },
     "execution_count": 73,
     "metadata": {},
     "output_type": "execute_result"
    }
   ],
   "source": [
    "var1*var2 #multiplicação"
   ]
  },
  {
   "cell_type": "code",
   "execution_count": 74,
   "id": "1de6d1a9",
   "metadata": {},
   "outputs": [
    {
     "data": {
      "text/plain": [
       "0.3"
      ]
     },
     "execution_count": 74,
     "metadata": {},
     "output_type": "execute_result"
    }
   ],
   "source": [
    "var2/var1 #divisão"
   ]
  },
  {
   "cell_type": "code",
   "execution_count": 75,
   "id": "055c3355",
   "metadata": {},
   "outputs": [
    {
     "data": {
      "text/plain": [
       "3"
      ]
     },
     "execution_count": 75,
     "metadata": {},
     "output_type": "execute_result"
    }
   ],
   "source": [
    "var2%var1 #resto da divisão var2/var1"
   ]
  },
  {
   "cell_type": "code",
   "execution_count": 76,
   "id": "bef24d37",
   "metadata": {},
   "outputs": [],
   "source": [
    "#Obs: a indexação em Python começa por ZERO\n",
    "#Em python usamos o [] para representar o índice de um objeto"
   ]
  },
  {
   "cell_type": "code",
   "execution_count": 77,
   "id": "5603e670",
   "metadata": {},
   "outputs": [],
   "source": [
    "varstr = 'Estudo'"
   ]
  },
  {
   "cell_type": "code",
   "execution_count": 78,
   "id": "6716a7a5",
   "metadata": {},
   "outputs": [
    {
     "data": {
      "text/plain": [
       "'E'"
      ]
     },
     "execution_count": 78,
     "metadata": {},
     "output_type": "execute_result"
    }
   ],
   "source": [
    "varstr[0]"
   ]
  },
  {
   "cell_type": "code",
   "execution_count": 79,
   "id": "b2b5b510",
   "metadata": {},
   "outputs": [
    {
     "data": {
      "text/plain": [
       "'s'"
      ]
     },
     "execution_count": 79,
     "metadata": {},
     "output_type": "execute_result"
    }
   ],
   "source": [
    "varstr[1]"
   ]
  },
  {
   "cell_type": "code",
   "execution_count": 80,
   "id": "415ac901",
   "metadata": {},
   "outputs": [
    {
     "data": {
      "text/plain": [
       "'t'"
      ]
     },
     "execution_count": 80,
     "metadata": {},
     "output_type": "execute_result"
    }
   ],
   "source": [
    "varstr[2]"
   ]
  },
  {
   "cell_type": "code",
   "execution_count": 81,
   "id": "31ad59ff",
   "metadata": {},
   "outputs": [
    {
     "data": {
      "text/plain": [
       "'u'"
      ]
     },
     "execution_count": 81,
     "metadata": {},
     "output_type": "execute_result"
    }
   ],
   "source": [
    "varstr[3]"
   ]
  },
  {
   "cell_type": "code",
   "execution_count": 82,
   "id": "b9d67444",
   "metadata": {},
   "outputs": [
    {
     "data": {
      "text/plain": [
       "'d'"
      ]
     },
     "execution_count": 82,
     "metadata": {},
     "output_type": "execute_result"
    }
   ],
   "source": [
    "varstr[4]"
   ]
  },
  {
   "cell_type": "code",
   "execution_count": 83,
   "id": "178551e5",
   "metadata": {},
   "outputs": [
    {
     "data": {
      "text/plain": [
       "'o'"
      ]
     },
     "execution_count": 83,
     "metadata": {},
     "output_type": "execute_result"
    }
   ],
   "source": [
    "varstr[5]"
   ]
  },
  {
   "cell_type": "code",
   "execution_count": 84,
   "id": "29d398d3",
   "metadata": {},
   "outputs": [
    {
     "data": {
      "text/plain": [
       "2"
      ]
     },
     "execution_count": 84,
     "metadata": {},
     "output_type": "execute_result"
    }
   ],
   "source": [
    "#podemos buscar o indíce que contém determinado caracter(es)\n",
    "varstr.find('t')"
   ]
  },
  {
   "cell_type": "code",
   "execution_count": 85,
   "id": "e17d6e2d",
   "metadata": {},
   "outputs": [
    {
     "data": {
      "text/plain": [
       "3"
      ]
     },
     "execution_count": 85,
     "metadata": {},
     "output_type": "execute_result"
    }
   ],
   "source": [
    "varstr.find('ud')"
   ]
  },
  {
   "cell_type": "code",
   "execution_count": 86,
   "id": "2fabf84d",
   "metadata": {},
   "outputs": [],
   "source": [
    "frase = 'Python é uma linguagem muito poderosa'"
   ]
  },
  {
   "cell_type": "code",
   "execution_count": 87,
   "id": "a25ea651",
   "metadata": {},
   "outputs": [
    {
     "data": {
      "text/plain": [
       "'thon é uma linguagem muito poderosa'"
      ]
     },
     "execution_count": 87,
     "metadata": {},
     "output_type": "execute_result"
    }
   ],
   "source": [
    "frase[2:]"
   ]
  },
  {
   "cell_type": "code",
   "execution_count": 88,
   "id": "ad307de5",
   "metadata": {},
   "outputs": [
    {
     "data": {
      "text/plain": [
       "'Python é uma'"
      ]
     },
     "execution_count": 88,
     "metadata": {},
     "output_type": "execute_result"
    }
   ],
   "source": [
    "frase[:12]"
   ]
  },
  {
   "cell_type": "code",
   "execution_count": 89,
   "id": "8f1cd568",
   "metadata": {},
   "outputs": [
    {
     "data": {
      "text/plain": [
       "'a'"
      ]
     },
     "execution_count": 89,
     "metadata": {},
     "output_type": "execute_result"
    }
   ],
   "source": [
    "frase[-1]"
   ]
  },
  {
   "cell_type": "code",
   "execution_count": 90,
   "id": "8fdfcdc1",
   "metadata": {},
   "outputs": [
    {
     "data": {
      "text/plain": [
       "' poder'"
      ]
     },
     "execution_count": 90,
     "metadata": {},
     "output_type": "execute_result"
    }
   ],
   "source": [
    "frase[-9:-3]"
   ]
  },
  {
   "cell_type": "code",
   "execution_count": 91,
   "id": "87e03894",
   "metadata": {},
   "outputs": [
    {
     "data": {
      "text/plain": [
       "'Python é uma linguagem muito poderosa'"
      ]
     },
     "execution_count": 91,
     "metadata": {},
     "output_type": "execute_result"
    }
   ],
   "source": [
    "frase[::1] #retorna a string pulando 1 caracter"
   ]
  },
  {
   "cell_type": "code",
   "execution_count": 92,
   "id": "f80c58af",
   "metadata": {},
   "outputs": [
    {
     "data": {
      "text/plain": [
       "'Pto  m igae ut oeoa'"
      ]
     },
     "execution_count": 92,
     "metadata": {},
     "output_type": "execute_result"
    }
   ],
   "source": [
    "frase[::2] #retorna a string pulando 2 caracteres"
   ]
  },
  {
   "cell_type": "code",
   "execution_count": 93,
   "id": "3c7fb574",
   "metadata": {},
   "outputs": [
    {
     "data": {
      "text/plain": [
       "'Ph u namuoora'"
      ]
     },
     "execution_count": 93,
     "metadata": {},
     "output_type": "execute_result"
    }
   ],
   "source": [
    "frase[::3] #retorna a string pulando 3 caracteres"
   ]
  },
  {
   "cell_type": "code",
   "execution_count": 94,
   "id": "fccdaaa8",
   "metadata": {},
   "outputs": [
    {
     "data": {
      "text/plain": [
       "'asoredop otium megaugnil amu é nohtyP'"
      ]
     },
     "execution_count": 94,
     "metadata": {},
     "output_type": "execute_result"
    }
   ],
   "source": [
    "frase[::-1] #retorna a strinf pulando 1 caracter"
   ]
  },
  {
   "cell_type": "markdown",
   "id": "0be334ec",
   "metadata": {},
   "source": [
    "### Funções"
   ]
  },
  {
   "cell_type": "code",
   "execution_count": 96,
   "id": "2146ce86",
   "metadata": {},
   "outputs": [],
   "source": [
    "texto = 'Python para análise Quant.'"
   ]
  },
  {
   "cell_type": "code",
   "execution_count": 97,
   "id": "eb686b9b",
   "metadata": {},
   "outputs": [
    {
     "data": {
      "text/plain": [
       "'PYTHON PARA ANÁLISE QUANT.'"
      ]
     },
     "execution_count": 97,
     "metadata": {},
     "output_type": "execute_result"
    }
   ],
   "source": [
    "texto.upper() #transforma texto para carateres maiúsculos"
   ]
  },
  {
   "cell_type": "code",
   "execution_count": 98,
   "id": "5ca4706d",
   "metadata": {},
   "outputs": [
    {
     "data": {
      "text/plain": [
       "'python para análise quant.'"
      ]
     },
     "execution_count": 98,
     "metadata": {},
     "output_type": "execute_result"
    }
   ],
   "source": [
    "texto.lower() #transforma texto para caracteres minúsculos"
   ]
  },
  {
   "cell_type": "code",
   "execution_count": 99,
   "id": "894138ff",
   "metadata": {},
   "outputs": [
    {
     "data": {
      "text/plain": [
       "['Python', 'para', 'análise', 'Quant.']"
      ]
     },
     "execution_count": 99,
     "metadata": {},
     "output_type": "execute_result"
    }
   ],
   "source": [
    "texto.split() #divide string por espaços em branco (padrão da função)"
   ]
  },
  {
   "cell_type": "code",
   "execution_count": 100,
   "id": "d79239ce",
   "metadata": {},
   "outputs": [
    {
     "data": {
      "text/plain": [
       "['Py', 'hon para análise Quan', '.']"
      ]
     },
     "execution_count": 100,
     "metadata": {},
     "output_type": "execute_result"
    }
   ],
   "source": [
    "texto.split('t') #divide string no elemneto esécificado 't'"
   ]
  },
  {
   "cell_type": "markdown",
   "id": "41b48f50",
   "metadata": {},
   "source": [
    "### Listas"
   ]
  },
  {
   "cell_type": "code",
   "execution_count": 101,
   "id": "b8eead47",
   "metadata": {},
   "outputs": [],
   "source": [
    "lista_vazia = [] #cria lista vazia"
   ]
  },
  {
   "cell_type": "code",
   "execution_count": 102,
   "id": "a7f2edbe",
   "metadata": {},
   "outputs": [],
   "source": [
    "lista_vazia2 = list() #tbm cria lista vazia"
   ]
  },
  {
   "cell_type": "code",
   "execution_count": 103,
   "id": "8334b7f7",
   "metadata": {},
   "outputs": [
    {
     "data": {
      "text/plain": [
       "list"
      ]
     },
     "execution_count": 103,
     "metadata": {},
     "output_type": "execute_result"
    }
   ],
   "source": [
    "type(lista_vazia)"
   ]
  },
  {
   "cell_type": "code",
   "execution_count": 104,
   "id": "1fdaad94",
   "metadata": {},
   "outputs": [
    {
     "data": {
      "text/plain": [
       "list"
      ]
     },
     "execution_count": 104,
     "metadata": {},
     "output_type": "execute_result"
    }
   ],
   "source": [
    "type(lista_vazia2)"
   ]
  },
  {
   "cell_type": "code",
   "execution_count": 105,
   "id": "817d9029",
   "metadata": {},
   "outputs": [],
   "source": [
    "#para criar listas utilizamos []\n",
    "lista_nomes1 = ['Robson', 'Ricardo','Rafael','Renata']"
   ]
  },
  {
   "cell_type": "code",
   "execution_count": 106,
   "id": "4e00fd0c",
   "metadata": {},
   "outputs": [],
   "source": [
    "lista_nomes2 = ['Robson, Ricardo, Rafael, Renata']"
   ]
  },
  {
   "cell_type": "code",
   "execution_count": 107,
   "id": "a289a630",
   "metadata": {},
   "outputs": [
    {
     "data": {
      "text/plain": [
       "list"
      ]
     },
     "execution_count": 107,
     "metadata": {},
     "output_type": "execute_result"
    }
   ],
   "source": [
    "type(lista_nomes1)"
   ]
  },
  {
   "cell_type": "code",
   "execution_count": 108,
   "id": "602daa15",
   "metadata": {},
   "outputs": [
    {
     "data": {
      "text/plain": [
       "list"
      ]
     },
     "execution_count": 108,
     "metadata": {},
     "output_type": "execute_result"
    }
   ],
   "source": [
    "type(lista_nomes2)"
   ]
  },
  {
   "cell_type": "code",
   "execution_count": 109,
   "id": "5ee9099f",
   "metadata": {},
   "outputs": [
    {
     "data": {
      "text/plain": [
       "4"
      ]
     },
     "execution_count": 109,
     "metadata": {},
     "output_type": "execute_result"
    }
   ],
   "source": [
    "#função len() diz o tamanho da lista\n",
    "len(lista_nomes1)"
   ]
  },
  {
   "cell_type": "code",
   "execution_count": 110,
   "id": "fa9d0e78",
   "metadata": {},
   "outputs": [
    {
     "data": {
      "text/plain": [
       "1"
      ]
     },
     "execution_count": 110,
     "metadata": {},
     "output_type": "execute_result"
    }
   ],
   "source": [
    "len(lista_nomes2)"
   ]
  },
  {
   "cell_type": "code",
   "execution_count": 111,
   "id": "888a23d0",
   "metadata": {},
   "outputs": [
    {
     "data": {
      "text/plain": [
       "'Robson'"
      ]
     },
     "execution_count": 111,
     "metadata": {},
     "output_type": "execute_result"
    }
   ],
   "source": [
    "lista_nomes1[0] #retorna o elemento index 0"
   ]
  },
  {
   "cell_type": "code",
   "execution_count": 112,
   "id": "5c93ee31",
   "metadata": {},
   "outputs": [
    {
     "data": {
      "text/plain": [
       "'Robson, Ricardo, Rafael, Renata'"
      ]
     },
     "execution_count": 112,
     "metadata": {},
     "output_type": "execute_result"
    }
   ],
   "source": [
    "lista_nomes2[0]"
   ]
  },
  {
   "cell_type": "code",
   "execution_count": 113,
   "id": "ffe710c3",
   "metadata": {},
   "outputs": [],
   "source": [
    "lista_mista = ['elevador',77,3.14]"
   ]
  },
  {
   "cell_type": "code",
   "execution_count": 114,
   "id": "23b793e1",
   "metadata": {},
   "outputs": [
    {
     "name": "stdout",
     "output_type": "stream",
     "text": [
      "['elevador', 77, 3.14]\n"
     ]
    }
   ],
   "source": [
    "print(lista_mista)"
   ]
  },
  {
   "cell_type": "code",
   "execution_count": 115,
   "id": "75b61178",
   "metadata": {},
   "outputs": [
    {
     "name": "stdout",
     "output_type": "stream",
     "text": [
      "Tamanho da lista =  3\n"
     ]
    }
   ],
   "source": [
    "print('Tamanho da lista = ', len(lista_mista))"
   ]
  },
  {
   "cell_type": "code",
   "execution_count": 116,
   "id": "3792dacf",
   "metadata": {},
   "outputs": [
    {
     "data": {
      "text/plain": [
       "'elevador'"
      ]
     },
     "execution_count": 116,
     "metadata": {},
     "output_type": "execute_result"
    }
   ],
   "source": [
    "lista_mista[0]"
   ]
  },
  {
   "cell_type": "code",
   "execution_count": 117,
   "id": "ae0ef6f3",
   "metadata": {},
   "outputs": [
    {
     "data": {
      "text/plain": [
       "77"
      ]
     },
     "execution_count": 117,
     "metadata": {},
     "output_type": "execute_result"
    }
   ],
   "source": [
    "lista_mista[1]"
   ]
  },
  {
   "cell_type": "code",
   "execution_count": 118,
   "id": "9f9237f6",
   "metadata": {},
   "outputs": [
    {
     "data": {
      "text/plain": [
       "3.14"
      ]
     },
     "execution_count": 118,
     "metadata": {},
     "output_type": "execute_result"
    }
   ],
   "source": [
    "lista_mista[2]"
   ]
  },
  {
   "cell_type": "code",
   "execution_count": 119,
   "id": "014fa5de",
   "metadata": {},
   "outputs": [],
   "source": [
    "#Obs: erro index out of range tentativa de acesso e elemento fora do range"
   ]
  },
  {
   "cell_type": "markdown",
   "id": "01177699",
   "metadata": {},
   "source": [
    "### Deletando elemento da lista"
   ]
  },
  {
   "cell_type": "code",
   "execution_count": 120,
   "id": "21c94b6d",
   "metadata": {},
   "outputs": [],
   "source": [
    "del lista_mista[1]"
   ]
  },
  {
   "cell_type": "code",
   "execution_count": 121,
   "id": "2b923b37",
   "metadata": {},
   "outputs": [
    {
     "name": "stdout",
     "output_type": "stream",
     "text": [
      "['elevador', 3.14]\n"
     ]
    }
   ],
   "source": [
    "print(lista_mista)"
   ]
  },
  {
   "cell_type": "code",
   "execution_count": 122,
   "id": "ff1087ea",
   "metadata": {},
   "outputs": [],
   "source": [
    "lista_mista2 = ['casa',77,3.14,'viagem',123,10,3,77]"
   ]
  },
  {
   "cell_type": "code",
   "execution_count": 123,
   "id": "4d63e28a",
   "metadata": {},
   "outputs": [
    {
     "data": {
      "text/plain": [
       "['casa', 77, 3.14, 'viagem', 123, 10, 3, 77]"
      ]
     },
     "execution_count": 123,
     "metadata": {},
     "output_type": "execute_result"
    }
   ],
   "source": [
    "lista_mista2"
   ]
  },
  {
   "cell_type": "code",
   "execution_count": 124,
   "id": "a4076ae0",
   "metadata": {},
   "outputs": [],
   "source": [
    "lista_mista2.remove(3.14)"
   ]
  },
  {
   "cell_type": "code",
   "execution_count": 125,
   "id": "1661cd85",
   "metadata": {},
   "outputs": [
    {
     "data": {
      "text/plain": [
       "['casa', 77, 'viagem', 123, 10, 3, 77]"
      ]
     },
     "execution_count": 125,
     "metadata": {},
     "output_type": "execute_result"
    }
   ],
   "source": [
    "lista_mista2"
   ]
  },
  {
   "cell_type": "code",
   "execution_count": 126,
   "id": "89615f72",
   "metadata": {},
   "outputs": [],
   "source": [
    "lista_mista2.remove(77)"
   ]
  },
  {
   "cell_type": "code",
   "execution_count": 127,
   "id": "890be7ef",
   "metadata": {},
   "outputs": [
    {
     "data": {
      "text/plain": [
       "['casa', 'viagem', 123, 10, 3, 77]"
      ]
     },
     "execution_count": 127,
     "metadata": {},
     "output_type": "execute_result"
    }
   ],
   "source": [
    "lista_mista2"
   ]
  },
  {
   "cell_type": "code",
   "execution_count": 128,
   "id": "97255bb5",
   "metadata": {},
   "outputs": [],
   "source": [
    "lista_mista2.remove(77)"
   ]
  },
  {
   "cell_type": "code",
   "execution_count": 129,
   "id": "cef016a5",
   "metadata": {},
   "outputs": [
    {
     "data": {
      "text/plain": [
       "['casa', 'viagem', 123, 10, 3]"
      ]
     },
     "execution_count": 129,
     "metadata": {},
     "output_type": "execute_result"
    }
   ],
   "source": [
    "lista_mista2"
   ]
  },
  {
   "cell_type": "markdown",
   "id": "b5567a10",
   "metadata": {},
   "source": [
    "### Aninhamento de listas"
   ]
  },
  {
   "cell_type": "code",
   "execution_count": 130,
   "id": "fcdd6164",
   "metadata": {},
   "outputs": [],
   "source": [
    "#criar uma lista de listas\n",
    "lista = [[11,22,33],[1,2,3,4],[100,200,300,400,500]]"
   ]
  },
  {
   "cell_type": "code",
   "execution_count": 131,
   "id": "1e114bf6",
   "metadata": {},
   "outputs": [
    {
     "data": {
      "text/plain": [
       "[[11, 22, 33], [1, 2, 3, 4], [100, 200, 300, 400, 500]]"
      ]
     },
     "execution_count": 131,
     "metadata": {},
     "output_type": "execute_result"
    }
   ],
   "source": [
    "lista"
   ]
  },
  {
   "cell_type": "code",
   "execution_count": 132,
   "id": "4513d0ce",
   "metadata": {},
   "outputs": [
    {
     "data": {
      "text/plain": [
       "list"
      ]
     },
     "execution_count": 132,
     "metadata": {},
     "output_type": "execute_result"
    }
   ],
   "source": [
    "type(lista)"
   ]
  },
  {
   "cell_type": "code",
   "execution_count": 133,
   "id": "dc3c4025",
   "metadata": {},
   "outputs": [
    {
     "data": {
      "text/plain": [
       "3"
      ]
     },
     "execution_count": 133,
     "metadata": {},
     "output_type": "execute_result"
    }
   ],
   "source": [
    "len(lista)"
   ]
  },
  {
   "cell_type": "code",
   "execution_count": 134,
   "id": "8e94a60c",
   "metadata": {},
   "outputs": [
    {
     "data": {
      "text/plain": [
       "[11, 22, 33]"
      ]
     },
     "execution_count": 134,
     "metadata": {},
     "output_type": "execute_result"
    }
   ],
   "source": [
    "lista[0]"
   ]
  },
  {
   "cell_type": "code",
   "execution_count": 135,
   "id": "0343af80",
   "metadata": {},
   "outputs": [
    {
     "data": {
      "text/plain": [
       "list"
      ]
     },
     "execution_count": 135,
     "metadata": {},
     "output_type": "execute_result"
    }
   ],
   "source": [
    "type(lista[0])"
   ]
  },
  {
   "cell_type": "markdown",
   "id": "75e5a3e5",
   "metadata": {},
   "source": [
    "### Fatiamento (slice)"
   ]
  },
  {
   "cell_type": "code",
   "execution_count": 136,
   "id": "eb3360a8",
   "metadata": {},
   "outputs": [
    {
     "data": {
      "text/plain": [
       "[[11, 22, 33], [1, 2, 3, 4], [100, 200, 300, 400, 500]]"
      ]
     },
     "execution_count": 136,
     "metadata": {},
     "output_type": "execute_result"
    }
   ],
   "source": [
    "lista"
   ]
  },
  {
   "cell_type": "code",
   "execution_count": 137,
   "id": "bf8f6920",
   "metadata": {},
   "outputs": [
    {
     "data": {
      "text/plain": [
       "300"
      ]
     },
     "execution_count": 137,
     "metadata": {},
     "output_type": "execute_result"
    }
   ],
   "source": [
    "lista[2][2] #da lista 3 pegue o elemento 3"
   ]
  },
  {
   "cell_type": "code",
   "execution_count": 138,
   "id": "bff7f67b",
   "metadata": {},
   "outputs": [
    {
     "data": {
      "text/plain": [
       "500"
      ]
     },
     "execution_count": 138,
     "metadata": {},
     "output_type": "execute_result"
    }
   ],
   "source": [
    "lista[2][4] #da lista 3 pegue o elemento 5"
   ]
  },
  {
   "cell_type": "markdown",
   "id": "b5404080",
   "metadata": {},
   "source": [
    "### Juntando listas"
   ]
  },
  {
   "cell_type": "code",
   "execution_count": 139,
   "id": "d64bab56",
   "metadata": {},
   "outputs": [],
   "source": [
    "lista1 = [1,2,3,4,5]"
   ]
  },
  {
   "cell_type": "code",
   "execution_count": 140,
   "id": "cac25404",
   "metadata": {},
   "outputs": [],
   "source": [
    "lista2 = [22,33,44,55,66,77]"
   ]
  },
  {
   "cell_type": "code",
   "execution_count": 141,
   "id": "d940bd1d",
   "metadata": {},
   "outputs": [],
   "source": [
    "sua_lista = lista1+lista2"
   ]
  },
  {
   "cell_type": "code",
   "execution_count": 142,
   "id": "f8b44a82",
   "metadata": {},
   "outputs": [
    {
     "data": {
      "text/plain": [
       "[1, 2, 3, 4, 5, 22, 33, 44, 55, 66, 77]"
      ]
     },
     "execution_count": 142,
     "metadata": {},
     "output_type": "execute_result"
    }
   ],
   "source": [
    "sua_lista"
   ]
  },
  {
   "cell_type": "markdown",
   "id": "9b8379b6",
   "metadata": {},
   "source": [
    "### Outros fatiamentos"
   ]
  },
  {
   "cell_type": "code",
   "execution_count": 143,
   "id": "cfccca3e",
   "metadata": {},
   "outputs": [],
   "source": [
    "minha_lista = ['tio', 'mãe','pai','irmão','sobrinha']"
   ]
  },
  {
   "cell_type": "code",
   "execution_count": 144,
   "id": "d4d1085c",
   "metadata": {},
   "outputs": [
    {
     "data": {
      "text/plain": [
       "['tio', 'mãe', 'pai', 'irmão']"
      ]
     },
     "execution_count": 144,
     "metadata": {},
     "output_type": "execute_result"
    }
   ],
   "source": [
    "#fatiando os 4 primeiros elementos da lista\n",
    "minha_lista[0:4]"
   ]
  },
  {
   "cell_type": "code",
   "execution_count": 145,
   "id": "904f7ecd",
   "metadata": {},
   "outputs": [
    {
     "data": {
      "text/plain": [
       "['mãe', 'pai']"
      ]
     },
     "execution_count": 145,
     "metadata": {},
     "output_type": "execute_result"
    }
   ],
   "source": [
    "#fatiando os elementos 2 a 7 da lista\n",
    "minha_lista[1:3]"
   ]
  },
  {
   "cell_type": "code",
   "execution_count": 146,
   "id": "fe82e916",
   "metadata": {},
   "outputs": [
    {
     "data": {
      "text/plain": [
       "'sobrinha'"
      ]
     },
     "execution_count": 146,
     "metadata": {},
     "output_type": "execute_result"
    }
   ],
   "source": [
    "#Último elemento da lista\n",
    "minha_lista[-1]"
   ]
  },
  {
   "cell_type": "code",
   "execution_count": 147,
   "id": "7d301868",
   "metadata": {},
   "outputs": [
    {
     "data": {
      "text/plain": [
       "['sobrinha', 'irmão', 'pai', 'mãe', 'tio']"
      ]
     },
     "execution_count": 147,
     "metadata": {},
     "output_type": "execute_result"
    }
   ],
   "source": [
    "#Elementos de trás para frente da lista\n",
    "minha_lista[::-1]"
   ]
  },
  {
   "cell_type": "markdown",
   "id": "bed95008",
   "metadata": {},
   "source": [
    "### verificar se um elemento está na lista"
   ]
  },
  {
   "cell_type": "code",
   "execution_count": 148,
   "id": "82b54623",
   "metadata": {},
   "outputs": [
    {
     "data": {
      "text/plain": [
       "[1, 2, 3, 4, 5, 22, 33, 44, 55, 66, 77]"
      ]
     },
     "execution_count": 148,
     "metadata": {},
     "output_type": "execute_result"
    }
   ],
   "source": [
    "sua_lista"
   ]
  },
  {
   "cell_type": "code",
   "execution_count": 149,
   "id": "2b2d52ce",
   "metadata": {},
   "outputs": [
    {
     "data": {
      "text/plain": [
       "False"
      ]
     },
     "execution_count": 149,
     "metadata": {},
     "output_type": "execute_result"
    }
   ],
   "source": [
    "20 in sua_lista #avalia se 20 está na sua_lista"
   ]
  },
  {
   "cell_type": "code",
   "execution_count": 150,
   "id": "babe8c95",
   "metadata": {},
   "outputs": [
    {
     "data": {
      "text/plain": [
       "True"
      ]
     },
     "execution_count": 150,
     "metadata": {},
     "output_type": "execute_result"
    }
   ],
   "source": [
    "77 in sua_lista"
   ]
  },
  {
   "cell_type": "code",
   "execution_count": 151,
   "id": "5706a28d",
   "metadata": {},
   "outputs": [],
   "source": [
    "sua_lista.append(121) #adiciona o elemento no fim da lista"
   ]
  },
  {
   "cell_type": "code",
   "execution_count": 152,
   "id": "a1f7ec30",
   "metadata": {},
   "outputs": [
    {
     "data": {
      "text/plain": [
       "[1, 2, 3, 4, 5, 22, 33, 44, 55, 66, 77, 121]"
      ]
     },
     "execution_count": 152,
     "metadata": {},
     "output_type": "execute_result"
    }
   ],
   "source": [
    "sua_lista"
   ]
  },
  {
   "cell_type": "code",
   "execution_count": 153,
   "id": "64e0b3b9",
   "metadata": {},
   "outputs": [
    {
     "data": {
      "text/plain": [
       "1"
      ]
     },
     "execution_count": 153,
     "metadata": {},
     "output_type": "execute_result"
    }
   ],
   "source": [
    "sua_lista.count(33) #conta quantas vezes o elemento aparece "
   ]
  },
  {
   "cell_type": "code",
   "execution_count": 154,
   "id": "0611e560",
   "metadata": {},
   "outputs": [
    {
     "data": {
      "text/plain": [
       "11"
      ]
     },
     "execution_count": 154,
     "metadata": {},
     "output_type": "execute_result"
    }
   ],
   "source": [
    "sua_lista.index(121) #saber o índice do elemento "
   ]
  },
  {
   "cell_type": "code",
   "execution_count": 155,
   "id": "b1d8771c",
   "metadata": {},
   "outputs": [],
   "source": [
    "sua_lista.insert(6,101) # adiciona o elemento 101 na posição 7"
   ]
  },
  {
   "cell_type": "code",
   "execution_count": 156,
   "id": "d56eab4e",
   "metadata": {},
   "outputs": [
    {
     "data": {
      "text/plain": [
       "[1, 2, 3, 4, 5, 22, 101, 33, 44, 55, 66, 77, 121]"
      ]
     },
     "execution_count": 156,
     "metadata": {},
     "output_type": "execute_result"
    }
   ],
   "source": [
    "sua_lista"
   ]
  },
  {
   "cell_type": "code",
   "execution_count": 157,
   "id": "823785e1",
   "metadata": {},
   "outputs": [],
   "source": [
    "sua_lista.sort() #ordena os elementos da lista"
   ]
  },
  {
   "cell_type": "code",
   "execution_count": 158,
   "id": "f21d2ed7",
   "metadata": {},
   "outputs": [
    {
     "data": {
      "text/plain": [
       "[1, 2, 3, 4, 5, 22, 33, 44, 55, 66, 77, 101, 121]"
      ]
     },
     "execution_count": 158,
     "metadata": {},
     "output_type": "execute_result"
    }
   ],
   "source": [
    "sua_lista"
   ]
  },
  {
   "cell_type": "code",
   "execution_count": 159,
   "id": "e2a432b6",
   "metadata": {},
   "outputs": [],
   "source": [
    "sua_lista.reverse() #inverte a ordem dos elementos"
   ]
  },
  {
   "cell_type": "code",
   "execution_count": 160,
   "id": "9136f04d",
   "metadata": {},
   "outputs": [
    {
     "data": {
      "text/plain": [
       "[121, 101, 77, 66, 55, 44, 33, 22, 5, 4, 3, 2, 1]"
      ]
     },
     "execution_count": 160,
     "metadata": {},
     "output_type": "execute_result"
    }
   ],
   "source": [
    "sua_lista"
   ]
  },
  {
   "cell_type": "markdown",
   "id": "6e830341",
   "metadata": {},
   "source": [
    "### cópia e criação de listas"
   ]
  },
  {
   "cell_type": "code",
   "execution_count": 161,
   "id": "34e923c5",
   "metadata": {},
   "outputs": [],
   "source": [
    "#lista de números\n",
    "numeros = [11,22,33,44,55]"
   ]
  },
  {
   "cell_type": "code",
   "execution_count": 162,
   "id": "e5ee8f60",
   "metadata": {},
   "outputs": [],
   "source": [
    "#faz referenciação de numeros para novos\n",
    "novos = numeros"
   ]
  },
  {
   "cell_type": "code",
   "execution_count": 163,
   "id": "30d2a0d6",
   "metadata": {},
   "outputs": [],
   "source": [
    "#adiciona valores a lista 'novos'\n",
    "novos.append(1)\n",
    "novos.append(77)"
   ]
  },
  {
   "cell_type": "code",
   "execution_count": 164,
   "id": "4f5743ae",
   "metadata": {},
   "outputs": [
    {
     "data": {
      "text/plain": [
       "[11, 22, 33, 44, 55, 1, 77]"
      ]
     },
     "execution_count": 164,
     "metadata": {},
     "output_type": "execute_result"
    }
   ],
   "source": [
    "#veja o que acontece\n",
    "numeros"
   ]
  },
  {
   "cell_type": "code",
   "execution_count": 165,
   "id": "32e3b49e",
   "metadata": {},
   "outputs": [],
   "source": [
    "#cria nova variável com elementos de 'numeros'\n",
    "numeros2 = numeros[:]"
   ]
  },
  {
   "cell_type": "code",
   "execution_count": 166,
   "id": "94901b8e",
   "metadata": {},
   "outputs": [],
   "source": [
    "numeros2.append(57)"
   ]
  },
  {
   "cell_type": "code",
   "execution_count": 167,
   "id": "2fb40a17",
   "metadata": {},
   "outputs": [
    {
     "data": {
      "text/plain": [
       "[11, 22, 33, 44, 55, 1, 77]"
      ]
     },
     "execution_count": 167,
     "metadata": {},
     "output_type": "execute_result"
    }
   ],
   "source": [
    "numeros"
   ]
  },
  {
   "cell_type": "code",
   "execution_count": 168,
   "id": "e481a1c2",
   "metadata": {},
   "outputs": [
    {
     "data": {
      "text/plain": [
       "[11, 22, 33, 44, 55, 1, 77, 57]"
      ]
     },
     "execution_count": 168,
     "metadata": {},
     "output_type": "execute_result"
    }
   ],
   "source": [
    "numeros2"
   ]
  },
  {
   "cell_type": "code",
   "execution_count": 169,
   "id": "70bd5fed",
   "metadata": {},
   "outputs": [
    {
     "data": {
      "text/plain": [
       "[11, 22, 33, 44, 55, 1, 77]"
      ]
     },
     "execution_count": 169,
     "metadata": {},
     "output_type": "execute_result"
    }
   ],
   "source": [
    "novos"
   ]
  },
  {
   "cell_type": "code",
   "execution_count": 170,
   "id": "71c3fd97",
   "metadata": {},
   "outputs": [],
   "source": [
    "#faz cópia dos elementos de 'numeros' para 'numeros3'\n",
    "numeros3 = numeros.copy()"
   ]
  },
  {
   "cell_type": "code",
   "execution_count": 171,
   "id": "7abef975",
   "metadata": {},
   "outputs": [],
   "source": [
    "#faz cópia dos elementos de 'numeros' para 'numeros3'\n",
    "numeros4 = list(numeros)"
   ]
  },
  {
   "cell_type": "code",
   "execution_count": 172,
   "id": "759d7541",
   "metadata": {},
   "outputs": [
    {
     "data": {
      "text/plain": [
       "[11, 22, 33, 44, 55, 1, 77]"
      ]
     },
     "execution_count": 172,
     "metadata": {},
     "output_type": "execute_result"
    }
   ],
   "source": [
    "numeros3"
   ]
  },
  {
   "cell_type": "code",
   "execution_count": 173,
   "id": "e8b773aa",
   "metadata": {},
   "outputs": [
    {
     "data": {
      "text/plain": [
       "[11, 22, 33, 44, 55, 1, 77]"
      ]
     },
     "execution_count": 173,
     "metadata": {},
     "output_type": "execute_result"
    }
   ],
   "source": [
    "numeros4"
   ]
  },
  {
   "cell_type": "code",
   "execution_count": 174,
   "id": "ad1271a7",
   "metadata": {},
   "outputs": [],
   "source": [
    "lis = [] #cria lista vazia"
   ]
  },
  {
   "cell_type": "code",
   "execution_count": 175,
   "id": "8f9961d0",
   "metadata": {},
   "outputs": [
    {
     "data": {
      "text/plain": [
       "list"
      ]
     },
     "execution_count": 175,
     "metadata": {},
     "output_type": "execute_result"
    }
   ],
   "source": [
    "type(lis)"
   ]
  },
  {
   "cell_type": "code",
   "execution_count": 176,
   "id": "a11e6994",
   "metadata": {},
   "outputs": [
    {
     "data": {
      "text/plain": [
       "0"
      ]
     },
     "execution_count": 176,
     "metadata": {},
     "output_type": "execute_result"
    }
   ],
   "source": [
    "len(lis)"
   ]
  },
  {
   "cell_type": "code",
   "execution_count": 177,
   "id": "3e9d5067",
   "metadata": {},
   "outputs": [],
   "source": [
    "lis.append(1)"
   ]
  },
  {
   "cell_type": "code",
   "execution_count": 178,
   "id": "1ef19fe2",
   "metadata": {},
   "outputs": [
    {
     "data": {
      "text/plain": [
       "[1]"
      ]
     },
     "execution_count": 178,
     "metadata": {},
     "output_type": "execute_result"
    }
   ],
   "source": [
    "lis"
   ]
  },
  {
   "cell_type": "markdown",
   "id": "09a5f3c1",
   "metadata": {},
   "source": [
    "### List comprehension"
   ]
  },
  {
   "cell_type": "code",
   "execution_count": 179,
   "id": "8a00c384",
   "metadata": {},
   "outputs": [],
   "source": [
    "#Operações matemática dentror de listas\n",
    "list_num = [x**2 for x in range(100)]"
   ]
  },
  {
   "cell_type": "code",
   "execution_count": 180,
   "id": "fa44e4fa",
   "metadata": {},
   "outputs": [
    {
     "data": {
      "text/plain": [
       "[0,\n",
       " 1,\n",
       " 4,\n",
       " 9,\n",
       " 16,\n",
       " 25,\n",
       " 36,\n",
       " 49,\n",
       " 64,\n",
       " 81,\n",
       " 100,\n",
       " 121,\n",
       " 144,\n",
       " 169,\n",
       " 196,\n",
       " 225,\n",
       " 256,\n",
       " 289,\n",
       " 324,\n",
       " 361,\n",
       " 400,\n",
       " 441,\n",
       " 484,\n",
       " 529,\n",
       " 576,\n",
       " 625,\n",
       " 676,\n",
       " 729,\n",
       " 784,\n",
       " 841,\n",
       " 900,\n",
       " 961,\n",
       " 1024,\n",
       " 1089,\n",
       " 1156,\n",
       " 1225,\n",
       " 1296,\n",
       " 1369,\n",
       " 1444,\n",
       " 1521,\n",
       " 1600,\n",
       " 1681,\n",
       " 1764,\n",
       " 1849,\n",
       " 1936,\n",
       " 2025,\n",
       " 2116,\n",
       " 2209,\n",
       " 2304,\n",
       " 2401,\n",
       " 2500,\n",
       " 2601,\n",
       " 2704,\n",
       " 2809,\n",
       " 2916,\n",
       " 3025,\n",
       " 3136,\n",
       " 3249,\n",
       " 3364,\n",
       " 3481,\n",
       " 3600,\n",
       " 3721,\n",
       " 3844,\n",
       " 3969,\n",
       " 4096,\n",
       " 4225,\n",
       " 4356,\n",
       " 4489,\n",
       " 4624,\n",
       " 4761,\n",
       " 4900,\n",
       " 5041,\n",
       " 5184,\n",
       " 5329,\n",
       " 5476,\n",
       " 5625,\n",
       " 5776,\n",
       " 5929,\n",
       " 6084,\n",
       " 6241,\n",
       " 6400,\n",
       " 6561,\n",
       " 6724,\n",
       " 6889,\n",
       " 7056,\n",
       " 7225,\n",
       " 7396,\n",
       " 7569,\n",
       " 7744,\n",
       " 7921,\n",
       " 8100,\n",
       " 8281,\n",
       " 8464,\n",
       " 8649,\n",
       " 8836,\n",
       " 9025,\n",
       " 9216,\n",
       " 9409,\n",
       " 9604,\n",
       " 9801]"
      ]
     },
     "execution_count": 180,
     "metadata": {},
     "output_type": "execute_result"
    }
   ],
   "source": [
    "list_num"
   ]
  },
  {
   "cell_type": "code",
   "execution_count": 181,
   "id": "e31330ba",
   "metadata": {},
   "outputs": [],
   "source": [
    "#obter uma lista somente com elementos de valores par da 'list_num'\n",
    "list_par = [x for x in list_num if x % 2 == 0]"
   ]
  },
  {
   "cell_type": "code",
   "execution_count": 182,
   "id": "8c347297",
   "metadata": {},
   "outputs": [
    {
     "data": {
      "text/plain": [
       "[0,\n",
       " 4,\n",
       " 16,\n",
       " 36,\n",
       " 64,\n",
       " 100,\n",
       " 144,\n",
       " 196,\n",
       " 256,\n",
       " 324,\n",
       " 400,\n",
       " 484,\n",
       " 576,\n",
       " 676,\n",
       " 784,\n",
       " 900,\n",
       " 1024,\n",
       " 1156,\n",
       " 1296,\n",
       " 1444,\n",
       " 1600,\n",
       " 1764,\n",
       " 1936,\n",
       " 2116,\n",
       " 2304,\n",
       " 2500,\n",
       " 2704,\n",
       " 2916,\n",
       " 3136,\n",
       " 3364,\n",
       " 3600,\n",
       " 3844,\n",
       " 4096,\n",
       " 4356,\n",
       " 4624,\n",
       " 4900,\n",
       " 5184,\n",
       " 5476,\n",
       " 5776,\n",
       " 6084,\n",
       " 6400,\n",
       " 6724,\n",
       " 7056,\n",
       " 7396,\n",
       " 7744,\n",
       " 8100,\n",
       " 8464,\n",
       " 8836,\n",
       " 9216,\n",
       " 9604]"
      ]
     },
     "execution_count": 182,
     "metadata": {},
     "output_type": "execute_result"
    }
   ],
   "source": [
    "list_par"
   ]
  },
  {
   "cell_type": "code",
   "execution_count": 183,
   "id": "fc2ed26b",
   "metadata": {},
   "outputs": [],
   "source": [
    "#De uma sequência de caracteres retornar cada caracter\n",
    "letras = [letra for letra in 'Python']"
   ]
  },
  {
   "cell_type": "code",
   "execution_count": 184,
   "id": "59e8a04c",
   "metadata": {},
   "outputs": [
    {
     "data": {
      "text/plain": [
       "['P', 'y', 't', 'h', 'o', 'n']"
      ]
     },
     "execution_count": 184,
     "metadata": {},
     "output_type": "execute_result"
    }
   ],
   "source": [
    "letras"
   ]
  },
  {
   "cell_type": "markdown",
   "id": "4e5036c0",
   "metadata": {},
   "source": [
    "### Dicionários"
   ]
  },
  {
   "cell_type": "code",
   "execution_count": 185,
   "id": "91372877",
   "metadata": {},
   "outputs": [],
   "source": [
    "#Exemplo de lista\n",
    "salario_list = ['Pedro',1000,'Carlos',750,'Ricardo',2000,'Letícia',2500]"
   ]
  },
  {
   "cell_type": "code",
   "execution_count": 186,
   "id": "20601398",
   "metadata": {},
   "outputs": [
    {
     "data": {
      "text/plain": [
       "['Pedro', 1000, 'Carlos', 750, 'Ricardo', 2000, 'Letícia', 2500]"
      ]
     },
     "execution_count": 186,
     "metadata": {},
     "output_type": "execute_result"
    }
   ],
   "source": [
    "salario_list"
   ]
  },
  {
   "cell_type": "code",
   "execution_count": 187,
   "id": "609e44cb",
   "metadata": {},
   "outputs": [
    {
     "data": {
      "text/plain": [
       "list"
      ]
     },
     "execution_count": 187,
     "metadata": {},
     "output_type": "execute_result"
    }
   ],
   "source": [
    "type(salario_list)"
   ]
  },
  {
   "cell_type": "code",
   "execution_count": 188,
   "id": "cc82d499",
   "metadata": {},
   "outputs": [],
   "source": [
    "#Exemplo de dicionário\n",
    "salario_dict = {'Pedro':1000,'Carlos':570,'Ricardo':2000,'Letícia':2500}"
   ]
  },
  {
   "cell_type": "code",
   "execution_count": 189,
   "id": "3c74e470",
   "metadata": {},
   "outputs": [
    {
     "data": {
      "text/plain": [
       "{'Pedro': 1000, 'Carlos': 570, 'Ricardo': 2000, 'Letícia': 2500}"
      ]
     },
     "execution_count": 189,
     "metadata": {},
     "output_type": "execute_result"
    }
   ],
   "source": [
    "salario_dict"
   ]
  },
  {
   "cell_type": "code",
   "execution_count": 190,
   "id": "00605169",
   "metadata": {},
   "outputs": [
    {
     "data": {
      "text/plain": [
       "dict"
      ]
     },
     "execution_count": 190,
     "metadata": {},
     "output_type": "execute_result"
    }
   ],
   "source": [
    "type(salario_dict)"
   ]
  },
  {
   "cell_type": "code",
   "execution_count": 191,
   "id": "7c32437e",
   "metadata": {},
   "outputs": [
    {
     "data": {
      "text/plain": [
       "1000"
      ]
     },
     "execution_count": 191,
     "metadata": {},
     "output_type": "execute_result"
    }
   ],
   "source": [
    "#Qual é o salário de Pedro?\n",
    "salario_dict['Pedro']"
   ]
  },
  {
   "cell_type": "code",
   "execution_count": 192,
   "id": "b8e8796b",
   "metadata": {},
   "outputs": [
    {
     "data": {
      "text/plain": [
       "2500"
      ]
     },
     "execution_count": 192,
     "metadata": {},
     "output_type": "execute_result"
    }
   ],
   "source": [
    "#Qual é o salário de Letícia?\n",
    "salario_dict['Letícia']"
   ]
  },
  {
   "cell_type": "code",
   "execution_count": 193,
   "id": "cd9f3e37",
   "metadata": {},
   "outputs": [
    {
     "data": {
      "text/plain": [
       "4"
      ]
     },
     "execution_count": 193,
     "metadata": {},
     "output_type": "execute_result"
    }
   ],
   "source": [
    "len(salario_dict)"
   ]
  },
  {
   "cell_type": "code",
   "execution_count": 194,
   "id": "91a479fa",
   "metadata": {},
   "outputs": [],
   "source": [
    "#Adiciona o salário de Rafael\n",
    "salario_dict['Rafael'] = 1200"
   ]
  },
  {
   "cell_type": "code",
   "execution_count": 195,
   "id": "68844812",
   "metadata": {},
   "outputs": [
    {
     "data": {
      "text/plain": [
       "{'Pedro': 1000,\n",
       " 'Carlos': 570,\n",
       " 'Ricardo': 2000,\n",
       " 'Letícia': 2500,\n",
       " 'Rafael': 1200}"
      ]
     },
     "execution_count": 195,
     "metadata": {},
     "output_type": "execute_result"
    }
   ],
   "source": [
    "salario_dict"
   ]
  },
  {
   "cell_type": "code",
   "execution_count": 196,
   "id": "56d72bf9",
   "metadata": {},
   "outputs": [
    {
     "data": {
      "text/plain": [
       "5"
      ]
     },
     "execution_count": 196,
     "metadata": {},
     "output_type": "execute_result"
    }
   ],
   "source": [
    "len(salario_dict)"
   ]
  },
  {
   "cell_type": "markdown",
   "id": "217ef0a2",
   "metadata": {},
   "source": [
    "#### Métodos dos dicionários"
   ]
  },
  {
   "cell_type": "code",
   "execution_count": 197,
   "id": "f5aeb10f",
   "metadata": {},
   "outputs": [
    {
     "data": {
      "text/plain": [
       "dict_keys(['Pedro', 'Carlos', 'Ricardo', 'Letícia', 'Rafael'])"
      ]
     },
     "execution_count": 197,
     "metadata": {},
     "output_type": "execute_result"
    }
   ],
   "source": [
    "#Retorna as chaves do dicionário\n",
    "salario_dict.keys()"
   ]
  },
  {
   "cell_type": "code",
   "execution_count": 198,
   "id": "b13ce962",
   "metadata": {},
   "outputs": [
    {
     "data": {
      "text/plain": [
       "dict_values([1000, 570, 2000, 2500, 1200])"
      ]
     },
     "execution_count": 198,
     "metadata": {},
     "output_type": "execute_result"
    }
   ],
   "source": [
    "#Retorna os valores do dicionário\n",
    "salario_dict.values()"
   ]
  },
  {
   "cell_type": "code",
   "execution_count": 199,
   "id": "41e392fb",
   "metadata": {},
   "outputs": [],
   "source": [
    "#Para juntas 2 dicionários\n",
    "#Dicionário 1 contendo os nome e respectivos pesos (Kg)\n",
    "pesos1 = {'Paulo':57, 'Priscila':65}"
   ]
  },
  {
   "cell_type": "code",
   "execution_count": 200,
   "id": "274ffc27",
   "metadata": {},
   "outputs": [],
   "source": [
    "#Dicionário 2 contendo os nomes e respectivos pesos (Kg)\n",
    "pesos2 = {'Débora': 68, 'Jeferson':70}"
   ]
  },
  {
   "cell_type": "code",
   "execution_count": 201,
   "id": "9e0b2a09",
   "metadata": {},
   "outputs": [],
   "source": [
    "#Agrupa dicionário peso2 em peso1\n",
    "pesos1.update(pesos2)"
   ]
  },
  {
   "cell_type": "code",
   "execution_count": 202,
   "id": "90f5831c",
   "metadata": {},
   "outputs": [
    {
     "data": {
      "text/plain": [
       "{'Paulo': 57, 'Priscila': 65, 'Débora': 68, 'Jeferson': 70}"
      ]
     },
     "execution_count": 202,
     "metadata": {},
     "output_type": "execute_result"
    }
   ],
   "source": [
    "pesos1"
   ]
  },
  {
   "cell_type": "code",
   "execution_count": 203,
   "id": "44c37266",
   "metadata": {},
   "outputs": [],
   "source": [
    "#Deleta a chave Paulo com seu respectivo valor\n",
    "del pesos1['Paulo']"
   ]
  },
  {
   "cell_type": "code",
   "execution_count": 204,
   "id": "0e91711e",
   "metadata": {},
   "outputs": [
    {
     "data": {
      "text/plain": [
       "{'Priscila': 65, 'Débora': 68, 'Jeferson': 70}"
      ]
     },
     "execution_count": 204,
     "metadata": {},
     "output_type": "execute_result"
    }
   ],
   "source": [
    "pesos1"
   ]
  },
  {
   "cell_type": "code",
   "execution_count": 205,
   "id": "c51dd0ed",
   "metadata": {},
   "outputs": [],
   "source": [
    "#Limpa todo o dicionário\n",
    "pesos1.clear()"
   ]
  },
  {
   "cell_type": "code",
   "execution_count": 206,
   "id": "9c4fe416",
   "metadata": {},
   "outputs": [
    {
     "data": {
      "text/plain": [
       "{}"
      ]
     },
     "execution_count": 206,
     "metadata": {},
     "output_type": "execute_result"
    }
   ],
   "source": [
    "pesos1"
   ]
  },
  {
   "cell_type": "code",
   "execution_count": 207,
   "id": "f4337b33",
   "metadata": {},
   "outputs": [],
   "source": [
    "#Deleta o dicionário pesos2 - não apenas o conteúdo\n",
    "#como é feito com o método .clear()\n",
    "del pesos2"
   ]
  },
  {
   "cell_type": "code",
   "execution_count": 208,
   "id": "f2279d26",
   "metadata": {},
   "outputs": [
    {
     "ename": "NameError",
     "evalue": "name 'pesos2' is not defined",
     "output_type": "error",
     "traceback": [
      "\u001b[0;31m---------------------------------------------------------------------------\u001b[0m",
      "\u001b[0;31mNameError\u001b[0m                                 Traceback (most recent call last)",
      "\u001b[0;32m/tmp/ipykernel_16976/976176657.py\u001b[0m in \u001b[0;36m<module>\u001b[0;34m\u001b[0m\n\u001b[0;32m----> 1\u001b[0;31m \u001b[0mpesos2\u001b[0m \u001b[0;31m#teremos um erro, pois não existe mais a variável na memória\u001b[0m\u001b[0;34m\u001b[0m\u001b[0;34m\u001b[0m\u001b[0m\n\u001b[0m",
      "\u001b[0;31mNameError\u001b[0m: name 'pesos2' is not defined"
     ]
    }
   ],
   "source": [
    "pesos2 #teremos um erro, pois não existe mais a variável na memória"
   ]
  },
  {
   "cell_type": "code",
   "execution_count": 209,
   "id": "5ff02721",
   "metadata": {},
   "outputs": [],
   "source": [
    "#Dicionário misto\n",
    "dicionario = {'Maria':53,77:'João','Nome':'Silva'}"
   ]
  },
  {
   "cell_type": "code",
   "execution_count": 210,
   "id": "33de2103",
   "metadata": {},
   "outputs": [
    {
     "data": {
      "text/plain": [
       "{'Maria': 53, 77: 'João', 'Nome': 'Silva'}"
      ]
     },
     "execution_count": 210,
     "metadata": {},
     "output_type": "execute_result"
    }
   ],
   "source": [
    "dicionario"
   ]
  },
  {
   "cell_type": "code",
   "execution_count": 211,
   "id": "0d9d1288",
   "metadata": {},
   "outputs": [
    {
     "data": {
      "text/plain": [
       "53"
      ]
     },
     "execution_count": 211,
     "metadata": {},
     "output_type": "execute_result"
    }
   ],
   "source": [
    "#Acesssando o valor a partir da chave Maria\n",
    "dicionario['Maria']"
   ]
  },
  {
   "cell_type": "code",
   "execution_count": 212,
   "id": "21b4843a",
   "metadata": {},
   "outputs": [
    {
     "data": {
      "text/plain": [
       "'João'"
      ]
     },
     "execution_count": 212,
     "metadata": {},
     "output_type": "execute_result"
    }
   ],
   "source": [
    "#Acessando o valor a partir da chave 77\n",
    "dicionario[77]"
   ]
  },
  {
   "cell_type": "code",
   "execution_count": 213,
   "id": "2b4df20b",
   "metadata": {},
   "outputs": [
    {
     "data": {
      "text/plain": [
       "'Silva'"
      ]
     },
     "execution_count": 213,
     "metadata": {},
     "output_type": "execute_result"
    }
   ],
   "source": [
    "#Acessando o valor a partir da chave Nome\n",
    "dicionario['Nome']"
   ]
  },
  {
   "cell_type": "code",
   "execution_count": 214,
   "id": "fc137e2a",
   "metadata": {},
   "outputs": [],
   "source": [
    "#Criar dicionário de listas\n",
    "dic1 = {'chaves1':231,'chaves2':[3,4,5,3],'chaves3':['seg','ter','qua','qui','sex','sab','dom']}"
   ]
  },
  {
   "cell_type": "code",
   "execution_count": 215,
   "id": "6c0db11a",
   "metadata": {},
   "outputs": [
    {
     "data": {
      "text/plain": [
       "{'chaves1': 231,\n",
       " 'chaves2': [3, 4, 5, 3],\n",
       " 'chaves3': ['seg', 'ter', 'qua', 'qui', 'sex', 'sab', 'dom']}"
      ]
     },
     "execution_count": 215,
     "metadata": {},
     "output_type": "execute_result"
    }
   ],
   "source": [
    "dic1"
   ]
  },
  {
   "cell_type": "code",
   "execution_count": 216,
   "id": "c308ab90",
   "metadata": {},
   "outputs": [],
   "source": [
    "#Dicionários aninhados\n",
    "dic2 = {'c1':1,'c2':77,'c3':{'d1':10,'d2':5,'d3':17}}"
   ]
  },
  {
   "cell_type": "code",
   "execution_count": 217,
   "id": "3431295d",
   "metadata": {},
   "outputs": [
    {
     "data": {
      "text/plain": [
       "{'c1': 1, 'c2': 77, 'c3': {'d1': 10, 'd2': 5, 'd3': 17}}"
      ]
     },
     "execution_count": 217,
     "metadata": {},
     "output_type": "execute_result"
    }
   ],
   "source": [
    "dic2"
   ]
  },
  {
   "cell_type": "code",
   "execution_count": 218,
   "id": "72c4c439",
   "metadata": {},
   "outputs": [
    {
     "data": {
      "text/plain": [
       "{'d1': 10, 'd2': 5, 'd3': 17}"
      ]
     },
     "execution_count": 218,
     "metadata": {},
     "output_type": "execute_result"
    }
   ],
   "source": [
    "dic2['c3']"
   ]
  },
  {
   "cell_type": "code",
   "execution_count": 219,
   "id": "73a603bb",
   "metadata": {},
   "outputs": [
    {
     "data": {
      "text/plain": [
       "dict"
      ]
     },
     "execution_count": 219,
     "metadata": {},
     "output_type": "execute_result"
    }
   ],
   "source": [
    "type(dic2['c3'])"
   ]
  },
  {
   "cell_type": "markdown",
   "id": "fb1e79ef",
   "metadata": {},
   "source": [
    "### Tuplas"
   ]
  },
  {
   "cell_type": "code",
   "execution_count": 220,
   "id": "ca1ac3e1",
   "metadata": {},
   "outputs": [],
   "source": [
    "#Definição de uma tupla sem parênteses\n",
    "tupla1 = 'a','b','c','d','e'"
   ]
  },
  {
   "cell_type": "code",
   "execution_count": 221,
   "id": "08e9d620",
   "metadata": {},
   "outputs": [
    {
     "data": {
      "text/plain": [
       "('a', 'b', 'c', 'd', 'e')"
      ]
     },
     "execution_count": 221,
     "metadata": {},
     "output_type": "execute_result"
    }
   ],
   "source": [
    "tupla1"
   ]
  },
  {
   "cell_type": "code",
   "execution_count": 222,
   "id": "cfabb8f3",
   "metadata": {},
   "outputs": [
    {
     "data": {
      "text/plain": [
       "tuple"
      ]
     },
     "execution_count": 222,
     "metadata": {},
     "output_type": "execute_result"
    }
   ],
   "source": [
    "type(tupla1)"
   ]
  },
  {
   "cell_type": "code",
   "execution_count": 223,
   "id": "18adcf39",
   "metadata": {},
   "outputs": [],
   "source": [
    "#Definição de uma tupla com parêntese\n",
    "tupla2 = ('a','b','c','d','e')"
   ]
  },
  {
   "cell_type": "code",
   "execution_count": 224,
   "id": "6006e1de",
   "metadata": {},
   "outputs": [
    {
     "data": {
      "text/plain": [
       "('a', 'b', 'c', 'd', 'e')"
      ]
     },
     "execution_count": 224,
     "metadata": {},
     "output_type": "execute_result"
    }
   ],
   "source": [
    "tupla2"
   ]
  },
  {
   "cell_type": "code",
   "execution_count": 225,
   "id": "fa5f8412",
   "metadata": {},
   "outputs": [
    {
     "data": {
      "text/plain": [
       "tuple"
      ]
     },
     "execution_count": 225,
     "metadata": {},
     "output_type": "execute_result"
    }
   ],
   "source": [
    "type(tupla2)"
   ]
  },
  {
   "cell_type": "code",
   "execution_count": 226,
   "id": "fd4f1036",
   "metadata": {},
   "outputs": [],
   "source": [
    "#Obs: tuplas são imutáveis\n",
    "tupla = (11,1.5,154,77,'Maria')"
   ]
  },
  {
   "cell_type": "code",
   "execution_count": 227,
   "id": "6a93a801",
   "metadata": {},
   "outputs": [
    {
     "data": {
      "text/plain": [
       "(11, 1.5, 154, 77, 'Maria')"
      ]
     },
     "execution_count": 227,
     "metadata": {},
     "output_type": "execute_result"
    }
   ],
   "source": [
    "tupla"
   ]
  },
  {
   "cell_type": "code",
   "execution_count": 228,
   "id": "6398b7b5",
   "metadata": {},
   "outputs": [
    {
     "data": {
      "text/plain": [
       "154"
      ]
     },
     "execution_count": 228,
     "metadata": {},
     "output_type": "execute_result"
    }
   ],
   "source": [
    "tupla[2]"
   ]
  },
  {
   "cell_type": "code",
   "execution_count": 229,
   "id": "d482fafe",
   "metadata": {},
   "outputs": [
    {
     "ename": "TypeError",
     "evalue": "'tuple' object doesn't support item deletion",
     "output_type": "error",
     "traceback": [
      "\u001b[0;31m---------------------------------------------------------------------------\u001b[0m",
      "\u001b[0;31mTypeError\u001b[0m                                 Traceback (most recent call last)",
      "\u001b[0;32m/tmp/ipykernel_16976/2034536023.py\u001b[0m in \u001b[0;36m<module>\u001b[0;34m\u001b[0m\n\u001b[1;32m      1\u001b[0m \u001b[0;31m#não é possível deletar um elemento de uma tupla\u001b[0m\u001b[0;34m\u001b[0m\u001b[0;34m\u001b[0m\u001b[0;34m\u001b[0m\u001b[0m\n\u001b[0;32m----> 2\u001b[0;31m \u001b[0;32mdel\u001b[0m \u001b[0mtupla\u001b[0m\u001b[0;34m[\u001b[0m\u001b[0;36m1\u001b[0m\u001b[0;34m]\u001b[0m\u001b[0;34m\u001b[0m\u001b[0;34m\u001b[0m\u001b[0m\n\u001b[0m",
      "\u001b[0;31mTypeError\u001b[0m: 'tuple' object doesn't support item deletion"
     ]
    }
   ],
   "source": [
    "#não é possível deletar um elemento de uma tupla\n",
    "del tupla[1]"
   ]
  },
  {
   "cell_type": "code",
   "execution_count": 230,
   "id": "828aa8e7",
   "metadata": {},
   "outputs": [],
   "source": [
    "#Mas podemos deletar a tupla inteira\n",
    "del tupla"
   ]
  },
  {
   "cell_type": "code",
   "execution_count": 231,
   "id": "3ae6e39d",
   "metadata": {},
   "outputs": [
    {
     "ename": "NameError",
     "evalue": "name 'tupla' is not defined",
     "output_type": "error",
     "traceback": [
      "\u001b[0;31m---------------------------------------------------------------------------\u001b[0m",
      "\u001b[0;31mNameError\u001b[0m                                 Traceback (most recent call last)",
      "\u001b[0;32m/tmp/ipykernel_16976/3236752088.py\u001b[0m in \u001b[0;36m<module>\u001b[0;34m\u001b[0m\n\u001b[0;32m----> 1\u001b[0;31m \u001b[0mtupla\u001b[0m \u001b[0;31m#mostrará um erro porque a tupla não existe mais na memória\u001b[0m\u001b[0;34m\u001b[0m\u001b[0;34m\u001b[0m\u001b[0m\n\u001b[0m",
      "\u001b[0;31mNameError\u001b[0m: name 'tupla' is not defined"
     ]
    }
   ],
   "source": [
    "tupla #mostrará um erro porque a tupla não existe mais na memória"
   ]
  },
  {
   "cell_type": "code",
   "execution_count": 232,
   "id": "8724870f",
   "metadata": {},
   "outputs": [],
   "source": [
    "#Também não é possível adicionar outro item a tupla\n",
    "tupla = 1,2,3"
   ]
  },
  {
   "cell_type": "code",
   "execution_count": 233,
   "id": "cc8952a8",
   "metadata": {},
   "outputs": [
    {
     "data": {
      "text/plain": [
       "(1, 2, 3)"
      ]
     },
     "execution_count": 233,
     "metadata": {},
     "output_type": "execute_result"
    }
   ],
   "source": [
    "tupla"
   ]
  },
  {
   "cell_type": "code",
   "execution_count": 234,
   "id": "fbb576a1",
   "metadata": {},
   "outputs": [
    {
     "ename": "TypeError",
     "evalue": "'tuple' object does not support item assignment",
     "output_type": "error",
     "traceback": [
      "\u001b[0;31m---------------------------------------------------------------------------\u001b[0m",
      "\u001b[0;31mTypeError\u001b[0m                                 Traceback (most recent call last)",
      "\u001b[0;32m/tmp/ipykernel_16976/1902549619.py\u001b[0m in \u001b[0;36m<module>\u001b[0;34m\u001b[0m\n\u001b[0;32m----> 1\u001b[0;31m \u001b[0mtupla\u001b[0m\u001b[0;34m[\u001b[0m\u001b[0;36m3\u001b[0m\u001b[0;34m]\u001b[0m \u001b[0;34m=\u001b[0m \u001b[0;36m4\u001b[0m \u001b[0;31m#exibe um erro porque a tupla é imutável e não aceita adicionar item\u001b[0m\u001b[0;34m\u001b[0m\u001b[0;34m\u001b[0m\u001b[0m\n\u001b[0m",
      "\u001b[0;31mTypeError\u001b[0m: 'tuple' object does not support item assignment"
     ]
    }
   ],
   "source": [
    "tupla[3] = 4 #exibe um erro porque a tupla é imutável e não aceita adicionar item"
   ]
  },
  {
   "cell_type": "code",
   "execution_count": 235,
   "id": "5d7abd56",
   "metadata": {},
   "outputs": [],
   "source": [
    "#Para fazer alterações numa tupla é possível transformá-la numa lista\n",
    "lis1 = list(tupla)"
   ]
  },
  {
   "cell_type": "code",
   "execution_count": 236,
   "id": "79afaae3",
   "metadata": {},
   "outputs": [],
   "source": [
    "#Adicionar o valor a lista\n",
    "lis1.append(4)"
   ]
  },
  {
   "cell_type": "code",
   "execution_count": 237,
   "id": "0a1409b6",
   "metadata": {},
   "outputs": [],
   "source": [
    "#Transformar a lista em tupla\n",
    "tupla = tuple(lis1)"
   ]
  },
  {
   "cell_type": "code",
   "execution_count": 238,
   "id": "d678fdb5",
   "metadata": {},
   "outputs": [
    {
     "data": {
      "text/plain": [
       "(1, 2, 3, 4)"
      ]
     },
     "execution_count": 238,
     "metadata": {},
     "output_type": "execute_result"
    }
   ],
   "source": [
    "tupla"
   ]
  },
  {
   "cell_type": "markdown",
   "id": "a19a26c3",
   "metadata": {},
   "source": [
    "### Vetores e matrizes"
   ]
  },
  {
   "cell_type": "code",
   "execution_count": 239,
   "id": "d99029f4",
   "metadata": {},
   "outputs": [],
   "source": [
    "#para instalar o numpy se tiver o pip, use pip install numpy (outras informações em https://numpy.org/install/)\n",
    "import numpy as np #para trabalhar com arrays é necessário usar a biblioteca NumPy"
   ]
  },
  {
   "cell_type": "code",
   "execution_count": 240,
   "id": "ad7e6faa",
   "metadata": {},
   "outputs": [],
   "source": [
    "#Criar um vetor\n",
    "vet1 = np.array([1,2,3,4])"
   ]
  },
  {
   "cell_type": "code",
   "execution_count": 241,
   "id": "11be87ff",
   "metadata": {},
   "outputs": [
    {
     "data": {
      "text/plain": [
       "array([1, 2, 3, 4])"
      ]
     },
     "execution_count": 241,
     "metadata": {},
     "output_type": "execute_result"
    }
   ],
   "source": [
    "vet1"
   ]
  },
  {
   "cell_type": "code",
   "execution_count": 242,
   "id": "618c57e8",
   "metadata": {},
   "outputs": [
    {
     "data": {
      "text/plain": [
       "numpy.ndarray"
      ]
     },
     "execution_count": 242,
     "metadata": {},
     "output_type": "execute_result"
    }
   ],
   "source": [
    "type(vet1)"
   ]
  },
  {
   "cell_type": "code",
   "execution_count": 243,
   "id": "c3ddfdd4",
   "metadata": {},
   "outputs": [],
   "source": [
    "#Array não aceita tipos diferentes de int, float ou double\n",
    "vet2 = np.array([1,2,3,'4']) #tentando adicionar str '4'"
   ]
  },
  {
   "cell_type": "code",
   "execution_count": 244,
   "id": "05dd30bf",
   "metadata": {},
   "outputs": [
    {
     "data": {
      "text/plain": [
       "array(['1', '2', '3', '4'], dtype='<U21')"
      ]
     },
     "execution_count": 244,
     "metadata": {},
     "output_type": "execute_result"
    }
   ],
   "source": [
    "#Ao fazer isso, o python transforma todos os elementos em strings\n",
    "vet2"
   ]
  },
  {
   "cell_type": "code",
   "execution_count": 245,
   "id": "4b5fcc22",
   "metadata": {},
   "outputs": [
    {
     "data": {
      "text/plain": [
       "'2'"
      ]
     },
     "execution_count": 245,
     "metadata": {},
     "output_type": "execute_result"
    }
   ],
   "source": [
    "vet2[1]"
   ]
  },
  {
   "cell_type": "code",
   "execution_count": 246,
   "id": "fb6b7ff2",
   "metadata": {},
   "outputs": [
    {
     "data": {
      "text/plain": [
       "numpy.str_"
      ]
     },
     "execution_count": 246,
     "metadata": {},
     "output_type": "execute_result"
    }
   ],
   "source": [
    "type(vet2[1])"
   ]
  },
  {
   "cell_type": "code",
   "execution_count": 247,
   "id": "6f95b392",
   "metadata": {},
   "outputs": [],
   "source": [
    "#Por que o python não transformou o '4' em número?\n",
    "vet3 = np.array([7,8,9,'a'])"
   ]
  },
  {
   "cell_type": "code",
   "execution_count": 248,
   "id": "a8627f3e",
   "metadata": {},
   "outputs": [
    {
     "data": {
      "text/plain": [
       "array(['7', '8', '9', 'a'], dtype='<U21')"
      ]
     },
     "execution_count": 248,
     "metadata": {},
     "output_type": "execute_result"
    }
   ],
   "source": [
    "#Porque não seria possível transformar 'a' em número\n",
    "vet3"
   ]
  },
  {
   "cell_type": "code",
   "execution_count": 249,
   "id": "e6e5a9bd",
   "metadata": {},
   "outputs": [
    {
     "data": {
      "text/plain": [
       "numpy.str_"
      ]
     },
     "execution_count": 249,
     "metadata": {},
     "output_type": "execute_result"
    }
   ],
   "source": [
    "type(vet3[0])"
   ]
  },
  {
   "cell_type": "code",
   "execution_count": 250,
   "id": "a532fc01",
   "metadata": {},
   "outputs": [],
   "source": [
    "#Matrizes\n",
    "#Define uma matrix com 2 linhas e 3 colunas\n",
    "a = np.array([[1,2,3],[3,4,5]])"
   ]
  },
  {
   "cell_type": "code",
   "execution_count": 251,
   "id": "9b7f692a",
   "metadata": {},
   "outputs": [],
   "source": [
    "a2 = np.matrix([[1,2,3],[3,4,5]])"
   ]
  },
  {
   "cell_type": "code",
   "execution_count": 252,
   "id": "6f7f7473",
   "metadata": {},
   "outputs": [
    {
     "data": {
      "text/plain": [
       "numpy.ndarray"
      ]
     },
     "execution_count": 252,
     "metadata": {},
     "output_type": "execute_result"
    }
   ],
   "source": [
    "type(a)"
   ]
  },
  {
   "cell_type": "code",
   "execution_count": 253,
   "id": "32642f94",
   "metadata": {},
   "outputs": [
    {
     "data": {
      "text/plain": [
       "numpy.matrix"
      ]
     },
     "execution_count": 253,
     "metadata": {},
     "output_type": "execute_result"
    }
   ],
   "source": [
    "type(a2)"
   ]
  },
  {
   "cell_type": "code",
   "execution_count": 254,
   "id": "074177b9",
   "metadata": {},
   "outputs": [
    {
     "data": {
      "text/plain": [
       "array([[1, 2, 3],\n",
       "       [3, 4, 5]])"
      ]
     },
     "execution_count": 254,
     "metadata": {},
     "output_type": "execute_result"
    }
   ],
   "source": [
    "a"
   ]
  },
  {
   "cell_type": "code",
   "execution_count": 255,
   "id": "ce7f41c8",
   "metadata": {},
   "outputs": [
    {
     "data": {
      "text/plain": [
       "matrix([[1, 2, 3],\n",
       "        [3, 4, 5]])"
      ]
     },
     "execution_count": 255,
     "metadata": {},
     "output_type": "execute_result"
    }
   ],
   "source": [
    "a2"
   ]
  },
  {
   "cell_type": "code",
   "execution_count": 256,
   "id": "ca9e0cdc",
   "metadata": {},
   "outputs": [
    {
     "data": {
      "text/plain": [
       "5"
      ]
     },
     "execution_count": 256,
     "metadata": {},
     "output_type": "execute_result"
    }
   ],
   "source": [
    "#Para obter elementos e fatias das matrizes\n",
    "#Acessar elemento da linha 2 e coluna 3\n",
    "a[1,2]"
   ]
  },
  {
   "cell_type": "code",
   "execution_count": 257,
   "id": "d2182b31",
   "metadata": {},
   "outputs": [
    {
     "data": {
      "text/plain": [
       "array([1, 2, 3])"
      ]
     },
     "execution_count": 257,
     "metadata": {},
     "output_type": "execute_result"
    }
   ],
   "source": [
    "#Obter todos os elementos da linha 1\n",
    "a[0,:]"
   ]
  },
  {
   "cell_type": "code",
   "execution_count": 258,
   "id": "43f32888",
   "metadata": {},
   "outputs": [
    {
     "data": {
      "text/plain": [
       "matrix([[2],\n",
       "        [4]])"
      ]
     },
     "execution_count": 258,
     "metadata": {},
     "output_type": "execute_result"
    }
   ],
   "source": [
    "#Obter os elementos da coluna 2\n",
    "a2[:,1]"
   ]
  },
  {
   "cell_type": "code",
   "execution_count": 259,
   "id": "fff713de",
   "metadata": {},
   "outputs": [],
   "source": [
    "#comportamento de manter o tipo de elementos\n",
    "b = np.array([[1,2,3],[3,4,'5']])"
   ]
  },
  {
   "cell_type": "code",
   "execution_count": 260,
   "id": "fb614fc1",
   "metadata": {},
   "outputs": [
    {
     "data": {
      "text/plain": [
       "array([['1', '2', '3'],\n",
       "       ['3', '4', '5']], dtype='<U21')"
      ]
     },
     "execution_count": 260,
     "metadata": {},
     "output_type": "execute_result"
    }
   ],
   "source": [
    "b"
   ]
  },
  {
   "cell_type": "code",
   "execution_count": 261,
   "id": "74741857",
   "metadata": {},
   "outputs": [
    {
     "data": {
      "text/plain": [
       "numpy.str_"
      ]
     },
     "execution_count": 261,
     "metadata": {},
     "output_type": "execute_result"
    }
   ],
   "source": [
    "#O pyhton transformou todos os elementos em string\n",
    "type(b[0][0])"
   ]
  },
  {
   "cell_type": "code",
   "execution_count": 262,
   "id": "066784cd",
   "metadata": {},
   "outputs": [],
   "source": [
    "#Operações com vetores e matrizes"
   ]
  },
  {
   "cell_type": "code",
   "execution_count": 263,
   "id": "b09ff891",
   "metadata": {},
   "outputs": [],
   "source": [
    "#Defina o vetor\n",
    "v = np.array([11,22,33])"
   ]
  },
  {
   "cell_type": "code",
   "execution_count": 264,
   "id": "5b9f0574",
   "metadata": {},
   "outputs": [],
   "source": [
    "a = np.array([[1,2,3],[4,5,6]])"
   ]
  },
  {
   "cell_type": "code",
   "execution_count": 265,
   "id": "dec881ec",
   "metadata": {},
   "outputs": [],
   "source": [
    "#Defina a matriz\n",
    "b = np.array([[1,1,1],[2,3,3]])"
   ]
  },
  {
   "cell_type": "code",
   "execution_count": 266,
   "id": "0575050c",
   "metadata": {},
   "outputs": [],
   "source": [
    "#Soma o vetor com a matriz\n",
    "sva = v + a"
   ]
  },
  {
   "cell_type": "code",
   "execution_count": 267,
   "id": "9ca8515b",
   "metadata": {},
   "outputs": [
    {
     "data": {
      "text/plain": [
       "array([[12, 24, 36],\n",
       "       [15, 27, 39]])"
      ]
     },
     "execution_count": 267,
     "metadata": {},
     "output_type": "execute_result"
    }
   ],
   "source": [
    "sva"
   ]
  },
  {
   "cell_type": "code",
   "execution_count": 268,
   "id": "13ab36c1",
   "metadata": {},
   "outputs": [],
   "source": [
    "#O python realiza algumas operação elemento a elemento"
   ]
  },
  {
   "cell_type": "code",
   "execution_count": 269,
   "id": "2863bd63",
   "metadata": {},
   "outputs": [],
   "source": [
    "#Multiplica o vetor 'v' pela matriz 'a'\n",
    "va = v*a"
   ]
  },
  {
   "cell_type": "code",
   "execution_count": 270,
   "id": "a0254bd8",
   "metadata": {},
   "outputs": [
    {
     "data": {
      "text/plain": [
       "array([[ 11,  44,  99],\n",
       "       [ 44, 110, 198]])"
      ]
     },
     "execution_count": 270,
     "metadata": {},
     "output_type": "execute_result"
    }
   ],
   "source": [
    "va"
   ]
  },
  {
   "cell_type": "code",
   "execution_count": 271,
   "id": "e1ae8030",
   "metadata": {},
   "outputs": [],
   "source": [
    "#Soma dos elementos das matrizes\n",
    "c = a+b"
   ]
  },
  {
   "cell_type": "code",
   "execution_count": 272,
   "id": "27c0cf0f",
   "metadata": {},
   "outputs": [
    {
     "data": {
      "text/plain": [
       "array([[2, 3, 4],\n",
       "       [6, 8, 9]])"
      ]
     },
     "execution_count": 272,
     "metadata": {},
     "output_type": "execute_result"
    }
   ],
   "source": [
    "c"
   ]
  },
  {
   "cell_type": "code",
   "execution_count": 273,
   "id": "1c8d2470",
   "metadata": {},
   "outputs": [],
   "source": [
    "#Operações com matrizes\n",
    "d = 2*a+b"
   ]
  },
  {
   "cell_type": "code",
   "execution_count": 274,
   "id": "d1e8fc24",
   "metadata": {},
   "outputs": [
    {
     "data": {
      "text/plain": [
       "array([[ 3,  5,  7],\n",
       "       [10, 13, 15]])"
      ]
     },
     "execution_count": 274,
     "metadata": {},
     "output_type": "execute_result"
    }
   ],
   "source": [
    "d"
   ]
  },
  {
   "cell_type": "code",
   "execution_count": 275,
   "id": "bbd70698",
   "metadata": {},
   "outputs": [],
   "source": [
    "#Multiplica elementos das matrizes\n",
    "mab = a*b"
   ]
  },
  {
   "cell_type": "code",
   "execution_count": 276,
   "id": "1988aadb",
   "metadata": {},
   "outputs": [
    {
     "data": {
      "text/plain": [
       "array([[ 1,  2,  3],\n",
       "       [ 8, 15, 18]])"
      ]
     },
     "execution_count": 276,
     "metadata": {},
     "output_type": "execute_result"
    }
   ],
   "source": [
    "mab"
   ]
  },
  {
   "cell_type": "code",
   "execution_count": 277,
   "id": "64289bde",
   "metadata": {},
   "outputs": [
    {
     "ename": "ValueError",
     "evalue": "shapes (2,3) and (2,3) not aligned: 3 (dim 1) != 2 (dim 0)",
     "output_type": "error",
     "traceback": [
      "\u001b[0;31m---------------------------------------------------------------------------\u001b[0m",
      "\u001b[0;31mValueError\u001b[0m                                Traceback (most recent call last)",
      "\u001b[0;32m/tmp/ipykernel_16976/1588920234.py\u001b[0m in \u001b[0;36m<module>\u001b[0;34m\u001b[0m\n\u001b[1;32m      1\u001b[0m \u001b[0;31m#Multplicação matricial\u001b[0m\u001b[0;34m\u001b[0m\u001b[0;34m\u001b[0m\u001b[0;34m\u001b[0m\u001b[0m\n\u001b[0;32m----> 2\u001b[0;31m \u001b[0mdab\u001b[0m \u001b[0;34m=\u001b[0m \u001b[0mnp\u001b[0m\u001b[0;34m.\u001b[0m\u001b[0mdot\u001b[0m\u001b[0;34m(\u001b[0m\u001b[0ma\u001b[0m\u001b[0;34m,\u001b[0m\u001b[0mb\u001b[0m\u001b[0;34m)\u001b[0m \u001b[0;31m#resulta em erro porque não há concordância entre o número de colunas e linhas das duas matrizes\u001b[0m\u001b[0;34m\u001b[0m\u001b[0;34m\u001b[0m\u001b[0m\n\u001b[0m",
      "\u001b[0;32m<__array_function__ internals>\u001b[0m in \u001b[0;36mdot\u001b[0;34m(*args, **kwargs)\u001b[0m\n",
      "\u001b[0;31mValueError\u001b[0m: shapes (2,3) and (2,3) not aligned: 3 (dim 1) != 2 (dim 0)"
     ]
    }
   ],
   "source": [
    "#Multplicação matricial\n",
    "dab = np.dot(a,b) #resulta em erro porque não há concordância entre o número de colunas e linhas das duas matrizes"
   ]
  },
  {
   "cell_type": "code",
   "execution_count": 278,
   "id": "4138ecbc",
   "metadata": {},
   "outputs": [],
   "source": [
    "#Para multiplicação matricial devemos ter\n",
    "#nº de colunas de 'a' igual nº de linhas de 'b'\n",
    "dab = np.dot(a,b.T) #b.T -> transposta de 'b' "
   ]
  },
  {
   "cell_type": "code",
   "execution_count": 279,
   "id": "71b9b1e5",
   "metadata": {},
   "outputs": [
    {
     "data": {
      "text/plain": [
       "array([[ 6, 17],\n",
       "       [15, 41]])"
      ]
     },
     "execution_count": 279,
     "metadata": {},
     "output_type": "execute_result"
    }
   ],
   "source": [
    "dab"
   ]
  }
 ],
 "metadata": {
  "kernelspec": {
   "display_name": "Python 3 (ipykernel)",
   "language": "python",
   "name": "python3"
  },
  "language_info": {
   "codemirror_mode": {
    "name": "ipython",
    "version": 3
   },
   "file_extension": ".py",
   "mimetype": "text/x-python",
   "name": "python",
   "nbconvert_exporter": "python",
   "pygments_lexer": "ipython3",
   "version": "3.9.1"
  }
 },
 "nbformat": 4,
 "nbformat_minor": 5
}
